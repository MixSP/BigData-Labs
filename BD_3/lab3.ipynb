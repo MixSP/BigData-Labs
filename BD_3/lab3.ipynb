{
 "cells": [
  {
   "cell_type": "markdown",
   "metadata": {
    "id": "4VrDf6LPqSOp"
   },
   "source": [
    "# *Лабораторная работа №3*"
   ]
  },
  {
   "cell_type": "markdown",
   "metadata": {
    "id": "SAioj7P8qVIm"
   },
   "source": [
    "## Построение регрессора для предсказания непрерывной величины (Теоретическая часть)"
   ]
  },
  {
   "cell_type": "markdown",
   "metadata": {
    "id": "E03HyFeB74Yv"
   },
   "source": [
    "В данной лабораторной работе будет рассматриваться построение регрессионной модели для предсказания непрерывной величины. До текущего момента мы сталкивались только с задачей определения классовой принадлежности объекта, то есть в качестве результата должно было быть получено число из конечного множества целых чисел.\n",
    "\n",
    "Подключим все необходимые библиотеки."
   ]
  },
  {
   "cell_type": "code",
   "execution_count": null,
   "metadata": {
    "id": "Hzbv9HijCZb5"
   },
   "outputs": [],
   "source": [
    "import numpy as np\n",
    "import pandas as pd\n",
    "import seaborn as sns\n",
    "from sklearn import ensemble\n",
    "from sklearn.ensemble import RandomForestRegressor\n",
    "from sklearn.metrics import mean_absolute_error, mean_squared_error\n",
    "from sklearn.model_selection import train_test_split\n",
    "\n",
    "from keras.wrappers.scikit_learn import KerasRegressor\n",
    "from keras.models import Sequential\n",
    "from keras.layers import Dense\n",
    "\n",
    "import matplotlib.pyplot as plt\n",
    "\n",
    "import warnings\n",
    "warnings.simplefilter(action='ignore', category=FutureWarning)"
   ]
  },
  {
   "cell_type": "markdown",
   "metadata": {
    "id": "_5pb3Xhk_Zwd"
   },
   "source": [
    "Для примера построения регрессионной модели возьмем датасет, работу по очистке которого мы производили в рамках первой лабораторной работы (база данных по продажам подержанных автомобилей в Германии)."
   ]
  },
  {
   "cell_type": "code",
   "execution_count": null,
   "metadata": {
    "id": "4R66wifDb9lM"
   },
   "outputs": [],
   "source": [
    "%%capture\n",
    "!wget https://www.dropbox.com/s/s1sqfsi6x7hbs28/autos_mod.csv"
   ]
  },
  {
   "cell_type": "code",
   "execution_count": null,
   "metadata": {
    "id": "mGOGyGJ_EjaB"
   },
   "outputs": [],
   "source": [
    "df = pd.read_csv('autos_mod.csv', encoding='iso-8859-1')"
   ]
  },
  {
   "cell_type": "code",
   "execution_count": null,
   "metadata": {
    "colab": {
     "base_uri": "https://localhost:8080/",
     "height": 359
    },
    "id": "BP5XyKgPEmO5",
    "outputId": "26bfadb6-bfb8-459a-fcf8-a678dbeb200d"
   },
   "outputs": [],
   "source": [
    "df.sample(10)"
   ]
  },
  {
   "cell_type": "markdown",
   "metadata": {
    "id": "ZTgg4weUAIww"
   },
   "source": [
    "Удалим лишний столбец, возникший в результате записи датасета в файл. Кроме того, очистим базу от пустых значений, так как не все регрессионные методы могут обрабатывать поврежденные данные."
   ]
  },
  {
   "cell_type": "code",
   "execution_count": null,
   "metadata": {
    "id": "z9L4wHPAEuOH"
   },
   "outputs": [],
   "source": [
    "del df['Unnamed: 0']\n",
    "df_wo_na = df.dropna()\n",
    "df_wo_na.reset_index(inplace=True)\n",
    "del df_wo_na['index']"
   ]
  },
  {
   "cell_type": "markdown",
   "metadata": {
    "id": "05IeBtoCBdtK"
   },
   "source": [
    "Проверим, что остались только необходимые нам столбцы."
   ]
  },
  {
   "cell_type": "code",
   "execution_count": null,
   "metadata": {
    "colab": {
     "base_uri": "https://localhost:8080/",
     "height": 359
    },
    "id": "-YCet30DFIx7",
    "outputId": "a4b5ebbc-bd71-4347-8195-07830b368372"
   },
   "outputs": [],
   "source": [
    "df_wo_na.sample(10)"
   ]
  },
  {
   "cell_type": "markdown",
   "metadata": {
    "id": "rd66a8GHBiod"
   },
   "source": [
    "Проведем факторизацию в столбцах со строковыми значениями. Для этого выпишем имена всех объектных столбцов и в цикле будем вызывать factorize из библиотеки pandas. [0] в конце строки с командой необходим так как factorize возвращает два набора значений - преобразованный столбец значений и упорядоченный список меток. Так как проводить операцию обратную факторизации мы не собираемся, то и второй столбец для нас не представляет интереса."
   ]
  },
  {
   "cell_type": "code",
   "execution_count": null,
   "metadata": {
    "colab": {
     "base_uri": "https://localhost:8080/"
    },
    "id": "rS-UwXz6FOrb",
    "outputId": "deca2a48-8b93-4b9c-baba-1c275cc0fabb",
    "scrolled": true
   },
   "outputs": [],
   "source": [
    "column_names = ['vehicleType', 'gearbox', 'model', 'fuelType', 'brand', 'notRepairedDamage']\n",
    "for i in column_names:\n",
    "    df_wo_na.loc[:, i] = pd.factorize(df_wo_na.loc[:, i])[0]\n",
    "    #df_wo_na[i] = pd.factorize(df_wo_na[i])[0]"
   ]
  },
  {
   "cell_type": "code",
   "execution_count": null,
   "metadata": {},
   "outputs": [],
   "source": [
    "df_wo_na.head(3)"
   ]
  },
  {
   "cell_type": "markdown",
   "metadata": {
    "id": "N60eYn5EDiaM"
   },
   "source": [
    "Разобьем выборку на тренировочный и тестовый наборы."
   ]
  },
  {
   "cell_type": "code",
   "execution_count": null,
   "metadata": {
    "id": "w0vdLDEKHeiP"
   },
   "outputs": [],
   "source": [
    "Y = df_wo_na['price']\n",
    "X = df_wo_na.drop(['price'], axis = 1)\n",
    "train_points, test_points, train_values, test_values = train_test_split(X, Y, test_size = 0.2, random_state=7)"
   ]
  },
  {
   "cell_type": "markdown",
   "metadata": {
    "id": "ThohClXIDoiL"
   },
   "source": [
    "Обучим модель случайного леса из 100 решающих деревьев."
   ]
  },
  {
   "cell_type": "code",
   "execution_count": null,
   "metadata": {
    "colab": {
     "base_uri": "https://localhost:8080/"
    },
    "id": "wUzhVQk_Jpkc",
    "outputId": "cf2300ad-632e-42b5-c5e0-8d63384d87cf"
   },
   "outputs": [],
   "source": [
    "rf_model = RandomForestRegressor(n_estimators=100, n_jobs=-1)\n",
    "rf_model.fit(train_points, train_values)"
   ]
  },
  {
   "cell_type": "markdown",
   "metadata": {
    "id": "iCV-_358D1dd"
   },
   "source": [
    "Оценку эффективности нашей модели проведем через расчет MAE. MAE (Mean Absolute Error) - средняя абсолютная ошибка, рассчитанная как сумма абсолютных ошибок в каждом предсказании, деленная на общий размер выборки."
   ]
  },
  {
   "cell_type": "code",
   "execution_count": null,
   "metadata": {
    "colab": {
     "base_uri": "https://localhost:8080/"
    },
    "id": "QhpgqU3iK5Lj",
    "outputId": "71c64ea4-c498-4f32-ef17-2df2d73abff4"
   },
   "outputs": [],
   "source": [
    "rf_predict = rf_model.predict(test_points)\n",
    "print(mean_absolute_error(test_values, rf_predict))"
   ]
  },
  {
   "cell_type": "markdown",
   "metadata": {
    "id": "P62FnQ5PGqF7"
   },
   "source": [
    "Разброс предсказнной цены в $5000+ не вызывает особого восторга. Попробуем произвести обучение других моделей и сравним результаты."
   ]
  },
  {
   "cell_type": "code",
   "execution_count": null,
   "metadata": {
    "colab": {
     "base_uri": "https://localhost:8080/"
    },
    "id": "TCmwXgcVNiTJ",
    "outputId": "960a14dc-ea2e-4139-f660-857149ce0cf1"
   },
   "outputs": [],
   "source": [
    "nn_model = Sequential()\n",
    "nn_model.add(Dense(9, activation='relu'))\n",
    "nn_model.add(Dense(15, activation='relu'))\n",
    "nn_model.add(Dense(15, activation='relu'))\n",
    "nn_model.add(Dense(1, activation='linear'))\n",
    "\n",
    "nn_model.compile(loss='mean_absolute_error', optimizer='adam')\n",
    "\n",
    "results = nn_model.fit(\n",
    " train_points, train_values,\n",
    " epochs= 10,\n",
    " batch_size = 1000,\n",
    " validation_data = (test_points, test_values)\n",
    ")"
   ]
  },
  {
   "cell_type": "markdown",
   "metadata": {
    "id": "LGj-FGdGG3cA"
   },
   "source": [
    "Значение функции потерь при обучении нейронной сети является MAE оценкой. Получили сопоставимый со случайным лесом результат. \n",
    "\n",
    "Напоследок, построим регрессор через градиентный бустинг."
   ]
  },
  {
   "cell_type": "code",
   "execution_count": null,
   "metadata": {
    "id": "q0o3eFHcPknD"
   },
   "outputs": [],
   "source": [
    "import xgboost as xgb\n",
    "xg_reg = xgb.XGBRegressor(objective = 'reg:squarederror', colsample_bytree = 0.3, learning_rate = 0.1,\n",
    "                max_depth = 5, alpha = 10, n_estimators = 100, n_jobs=-1)"
   ]
  },
  {
   "cell_type": "code",
   "execution_count": null,
   "metadata": {
    "colab": {
     "base_uri": "https://localhost:8080/"
    },
    "id": "BD_4wNBmQV0k",
    "outputId": "f4bf3686-d593-468b-9c2a-41debdab4584"
   },
   "outputs": [],
   "source": [
    "xg_reg.fit(train_points, train_values)"
   ]
  },
  {
   "cell_type": "code",
   "execution_count": null,
   "metadata": {
    "id": "Mp1TBAm4Qhvw"
   },
   "outputs": [],
   "source": [
    "xgb_predict = xg_reg.predict(test_points)"
   ]
  },
  {
   "cell_type": "markdown",
   "metadata": {
    "id": "pMYuYK22Hid7"
   },
   "source": [
    "Оценим качество получившейся модели."
   ]
  },
  {
   "cell_type": "code",
   "execution_count": null,
   "metadata": {
    "colab": {
     "base_uri": "https://localhost:8080/"
    },
    "id": "sZTj-mDWQs1w",
    "outputId": "cc07ff86-5182-43c6-80b4-9e00764cc2ad"
   },
   "outputs": [],
   "source": [
    "print(mean_absolute_error(test_values, xgb_predict))"
   ]
  },
  {
   "cell_type": "markdown",
   "metadata": {
    "id": "Mx0vmamNHn9u"
   },
   "source": [
    "Градиентный бустинг показал результаты еще хуже, чем были до этого... Попробуем проанализировать причины такого поведения.\n",
    "\n",
    "Выведем график соответствия предсказанной и фактической цены."
   ]
  },
  {
   "cell_type": "code",
   "execution_count": null,
   "metadata": {
    "colab": {
     "base_uri": "https://localhost:8080/",
     "height": 462
    },
    "id": "u9FbhvdWfOt6",
    "outputId": "2df05f80-11f7-49c6-91e6-1950ce3e0af7"
   },
   "outputs": [],
   "source": [
    "plt.figure(figsize=(7, 7))\n",
    "plt.scatter(test_values, xgb_predict) # рисуем точки, соответствущие парам настоящее значение - прогноз\n",
    "plt.plot([0, max(test_values)], [0, max(xgb_predict)], 'r') # рисуем прямую, на которой предсказания и настоящие значения совпадают\n",
    "plt.xlabel('Настоящая цена', fontsize=20)\n",
    "plt.ylabel('Предсказанная цена', fontsize=20);"
   ]
  },
  {
   "cell_type": "markdown",
   "metadata": {
    "id": "MIGjRUfhIo0L"
   },
   "source": [
    "Благодаря графическому представлению мы обнаружили сильнейшие вылеты максимальной цены автомобилей. Произведем анализ данного столбца."
   ]
  },
  {
   "cell_type": "code",
   "execution_count": null,
   "metadata": {
    "colab": {
     "base_uri": "https://localhost:8080/",
     "height": 328
    },
    "id": "D4QYUEKkfVNB",
    "outputId": "e563dbc4-eac2-4ec3-ab25-47881a9b79ef"
   },
   "outputs": [],
   "source": [
    "df_wo_na.hist([\"price\"])"
   ]
  },
  {
   "cell_type": "markdown",
   "metadata": {
    "id": "cG7K9U-BJI6N"
   },
   "source": [
    "На гистограмме видно, что у нас есть экземпляры, цена на которые доходит до 100 миллиардов. Произведем отбор записей по цене, исключив также записи со слишком низкой ценой."
   ]
  },
  {
   "cell_type": "code",
   "execution_count": null,
   "metadata": {
    "id": "28EztGODfcso"
   },
   "outputs": [],
   "source": [
    "df_wo_na = df_wo_na[(df_wo_na['price'] < 20000) & (df_wo_na['price'] > 50)]\n",
    "df_wo_na.reset_index(inplace=True)\n",
    "del df_wo_na['index']"
   ]
  },
  {
   "cell_type": "markdown",
   "metadata": {
    "id": "Pms3UYsGJlNx"
   },
   "source": [
    "Выведем гисторгамму для распределения цен на автомобили после внесенных нами изменений."
   ]
  },
  {
   "cell_type": "code",
   "execution_count": null,
   "metadata": {
    "colab": {
     "base_uri": "https://localhost:8080/",
     "height": 315
    },
    "id": "IpoJs3KifOmy",
    "outputId": "d04916a8-1978-4b0a-a268-24c07e6f4067"
   },
   "outputs": [],
   "source": [
    "df_wo_na.hist([\"price\"])"
   ]
  },
  {
   "cell_type": "markdown",
   "metadata": {
    "id": "023AoWDXxkhU"
   },
   "source": [
    "Вновь проведем разделение на тренировочную и тестовую выборки."
   ]
  },
  {
   "cell_type": "code",
   "execution_count": null,
   "metadata": {
    "id": "KKXIhThl91-E"
   },
   "outputs": [],
   "source": [
    "Y = df_wo_na['price']\n",
    "X = df_wo_na.drop(['price'], axis = 1)\n",
    "train_points, test_points, train_values, test_values = train_test_split(X, Y, test_size = 0.2)"
   ]
  },
  {
   "cell_type": "markdown",
   "metadata": {
    "id": "3N29cHXKx0Ez"
   },
   "source": [
    "Создадим модель градиентного бустинга на основе обновленных данных."
   ]
  },
  {
   "cell_type": "code",
   "execution_count": null,
   "metadata": {
    "colab": {
     "base_uri": "https://localhost:8080/"
    },
    "id": "Z5eqLHWpgOTO",
    "outputId": "2c7e098c-6456-407d-c3c4-11302894274b"
   },
   "outputs": [],
   "source": [
    "xg_reg.fit(train_points, train_values)"
   ]
  },
  {
   "cell_type": "code",
   "execution_count": null,
   "metadata": {
    "id": "IeFQfKUHgRXx"
   },
   "outputs": [],
   "source": [
    "xgb_predict = xg_reg.predict(test_points)"
   ]
  },
  {
   "cell_type": "code",
   "execution_count": null,
   "metadata": {
    "colab": {
     "base_uri": "https://localhost:8080/"
    },
    "id": "CQIsRrTFgT68",
    "outputId": "3ab7b896-3db8-4e63-a5e9-2535b6a05ffb"
   },
   "outputs": [],
   "source": [
    "print(mean_absolute_error(test_values, xgb_predict))"
   ]
  },
  {
   "cell_type": "markdown",
   "metadata": {
    "id": "PAmFzn5Ex8aj"
   },
   "source": [
    "Получившийся результат гораздо лучше с точки зрения отклонения абсолютной ошибки. Выведем график, чтобы оценить произошедшие изменения."
   ]
  },
  {
   "cell_type": "code",
   "execution_count": null,
   "metadata": {
    "colab": {
     "base_uri": "https://localhost:8080/",
     "height": 451
    },
    "id": "aXKzyHx8gYvb",
    "outputId": "ed5d3246-ce39-4ea3-e241-66f1ccdd96ca"
   },
   "outputs": [],
   "source": [
    "plt.figure(figsize=(7, 7))\n",
    "plt.scatter(test_values, xgb_predict) # рисуем точки, соответствущие парам настоящее значение - прогноз\n",
    "plt.plot([0, max(test_values)], [0, max(xgb_predict)], 'r') # рисуем прямую, на которой предсказания и настоящие значения совпадают\n",
    "plt.xlabel('Настоящая цена', fontsize=20)\n",
    "plt.ylabel('Предсказанная цена', fontsize=20);"
   ]
  },
  {
   "cell_type": "markdown",
   "metadata": {
    "id": "1-fFHgGQyM5y"
   },
   "source": [
    "На графике явно видно, что наша модель показывает гораздо худшие резуьтаты для автомобилей с низкой стоимостью. Запомним этот факт и попробуем собрать модель на основе случайного леса, так как до проведения фильтрации по цене градиентный бустинг показывал худшие результаты."
   ]
  },
  {
   "cell_type": "code",
   "execution_count": null,
   "metadata": {
    "id": "YTtzKkQhkASd"
   },
   "outputs": [],
   "source": [
    "rf_model = RandomForestRegressor(n_estimators=100, n_jobs=-1)\n",
    "rf_model.fit(train_points, train_values)\n",
    "rf_predict = rf_model.predict(test_points)"
   ]
  },
  {
   "cell_type": "code",
   "execution_count": null,
   "metadata": {
    "colab": {
     "base_uri": "https://localhost:8080/"
    },
    "id": "c0GmBsmukFiN",
    "outputId": "c7ab17c0-52b0-4d74-b31e-ea2ab93916f9"
   },
   "outputs": [],
   "source": [
    "print(mean_absolute_error(test_values, rf_predict))"
   ]
  },
  {
   "cell_type": "markdown",
   "metadata": {
    "id": "o4TmIZw5y7vv"
   },
   "source": [
    "Средняя абсолютная ошибка меньше для модели случайного леса почти на $300, что является серьезным аргументом в ее пользу. Выведем график с отклонениями."
   ]
  },
  {
   "cell_type": "code",
   "execution_count": null,
   "metadata": {
    "colab": {
     "base_uri": "https://localhost:8080/",
     "height": 451
    },
    "id": "UBKPzlK3lMH-",
    "outputId": "77e8c45b-1592-45d4-aad0-9fa19587240e"
   },
   "outputs": [],
   "source": [
    "plt.figure(figsize=(7, 7))\n",
    "plt.scatter(test_values, rf_predict) # рисуем точки, соответствущие парам настоящее значение - прогноз\n",
    "plt.plot([0, max(test_values)], [0, max(rf_predict)], 'r') # рисуем прямую, на которой предсказания и настоящие значения совпадают\n",
    "plt.xlabel('Настоящая цена', fontsize=20)\n",
    "plt.ylabel('Предсказанная цена', fontsize=20);"
   ]
  },
  {
   "cell_type": "markdown",
   "metadata": {
    "id": "pQ1qabDJzq88"
   },
   "source": [
    "Теперь давайте разберемся в причинах того, что градиентный бустинг показывает результаты гораздо хуже случайного леса. Разгадка кроется в типах ансамблевых методов, которые лежат в основе данных моделей.\n",
    "\n",
    "Случайный лес работает на основе бэггинга, то есть собирает ансамбль из слабых учеников, каждый из которых имеет собственный независимый набор данных и, как следствие, свой набор правил разделения записей. После получения решения от всех учеников принимается некое усредненное значение.\n",
    "\n",
    "Градиентный бустинг же направлен на исправление результата самого слабого ученика. Это приводит к тому, что итоговая модель будет смещаться в направлении самых больших вылетов, что мы и видели на графиках выше.\n",
    "\n",
    "Можно сделать вывод, что механизм градиентного бустинга наилучшим образом подходит для решения задач со взвешенным набором данных, т.е. с (примерно) равным количеством записей, относящихся к каждому классу, либо диапазону значений."
   ]
  },
  {
   "cell_type": "markdown",
   "metadata": {
    "id": "CcLG2zKz3DfO"
   },
   "source": [
    "Проведем исследование также для нейросетевой модели."
   ]
  },
  {
   "cell_type": "code",
   "execution_count": null,
   "metadata": {
    "colab": {
     "base_uri": "https://localhost:8080/"
    },
    "id": "8Vcabfw09-Ry",
    "outputId": "dde89a68-2f17-45bd-c7b6-002317fd2bff"
   },
   "outputs": [],
   "source": [
    "nn_model = Sequential()\n",
    "nn_model.add(Dense(9, activation='relu'))\n",
    "nn_model.add(Dense(15, activation='relu'))\n",
    "nn_model.add(Dense(15, activation='relu'))\n",
    "nn_model.add(Dense(1))\n",
    "\n",
    "nn_model.compile(loss='mean_absolute_error', optimizer='adam')\n",
    "\n",
    "results = nn_model.fit(\n",
    " train_points, train_values,\n",
    " epochs= 10,\n",
    " batch_size = 100,\n",
    " validation_data = (test_points, test_values)\n",
    ")\n",
    "\n",
    "nn_predict = nn_model.predict(test_points)\n",
    "print(mean_absolute_error(test_values, nn_predict))"
   ]
  },
  {
   "cell_type": "markdown",
   "metadata": {
    "id": "UoBn1Qa93YBO"
   },
   "source": [
    "Теперь лидером нашего антирейтинга результатов стала модель, основанная на нейронных сетях.\n",
    "\n",
    "Попробуем провести нормализацию данных и сранить результаты."
   ]
  },
  {
   "cell_type": "code",
   "execution_count": null,
   "metadata": {
    "id": "iMu2JL6gRSsZ"
   },
   "outputs": [],
   "source": [
    "df_norm = df_wo_na\n",
    "Y = df_norm['price']\n",
    "X = df_norm.drop(['price'], axis = 1)\n",
    "for i in X.columns:\n",
    "    X[i]=(X[i]-X[i].min())/(X[i].max()-X[i].min())"
   ]
  },
  {
   "cell_type": "code",
   "execution_count": null,
   "metadata": {
    "colab": {
     "base_uri": "https://localhost:8080/",
     "height": 419
    },
    "id": "yRgiRB0sSzcv",
    "outputId": "4035a9f3-12ac-4e85-d7d7-46d44fd440c0"
   },
   "outputs": [],
   "source": [
    "X"
   ]
  },
  {
   "cell_type": "code",
   "execution_count": null,
   "metadata": {
    "colab": {
     "base_uri": "https://localhost:8080/"
    },
    "id": "MeTHkrW80itz",
    "outputId": "93db2994-0808-426c-b288-6a05cdc15e15"
   },
   "outputs": [],
   "source": [
    "Y"
   ]
  },
  {
   "cell_type": "code",
   "execution_count": null,
   "metadata": {
    "id": "5IDOFNKCS36G"
   },
   "outputs": [],
   "source": [
    "train_points, test_points, train_values, test_values = train_test_split(X, Y, test_size = 0.2)"
   ]
  },
  {
   "cell_type": "code",
   "execution_count": null,
   "metadata": {
    "colab": {
     "base_uri": "https://localhost:8080/"
    },
    "id": "wYTdT9KjgocG",
    "outputId": "8d3dcb30-0cf8-45db-9e68-97a06cc382d3"
   },
   "outputs": [],
   "source": [
    "xg_reg.fit(train_points, train_values)"
   ]
  },
  {
   "cell_type": "code",
   "execution_count": null,
   "metadata": {
    "id": "sDC8Kx0fguVg"
   },
   "outputs": [],
   "source": [
    "xgb_predict = xg_reg.predict(test_points)"
   ]
  },
  {
   "cell_type": "code",
   "execution_count": null,
   "metadata": {
    "colab": {
     "base_uri": "https://localhost:8080/"
    },
    "id": "vyRM00eagx1P",
    "outputId": "7ad2c183-a385-4e3a-9f46-88451a5818f4"
   },
   "outputs": [],
   "source": [
    "print(mean_absolute_error(test_values, xgb_predict))"
   ]
  },
  {
   "cell_type": "markdown",
   "metadata": {
    "id": "8QwE6kCf337p"
   },
   "source": [
    "Положительная динамика в модели градиентного бустинга прослеживается, но она явно не претендует на роль ключевого фактора."
   ]
  },
  {
   "cell_type": "code",
   "execution_count": null,
   "metadata": {
    "id": "ptSS-jbhT1Ef"
   },
   "outputs": [],
   "source": [
    "rf_model = RandomForestRegressor(n_estimators=100, n_jobs=-1)\n",
    "rf_model.fit(train_points, train_values)\n",
    "rf_predict = rf_model.predict(test_points)"
   ]
  },
  {
   "cell_type": "code",
   "execution_count": null,
   "metadata": {
    "colab": {
     "base_uri": "https://localhost:8080/"
    },
    "id": "R3BOsQpmT-gv",
    "outputId": "1d66013a-145a-4b2f-a9ea-70ccef7aa8f2"
   },
   "outputs": [],
   "source": [
    "print(mean_absolute_error(test_values, rf_predict))"
   ]
  },
  {
   "cell_type": "markdown",
   "metadata": {
    "id": "GKvKzWzu4W6h"
   },
   "source": [
    "А вот для случайного леса нормализация сыграла даже немного отрицательную роль. Связано это с тем, что при построении правил решающему дереву гораздо проще ориентироваться на натуральные числа, нежели на диапазон [0, 1]."
   ]
  },
  {
   "cell_type": "code",
   "execution_count": null,
   "metadata": {
    "colab": {
     "base_uri": "https://localhost:8080/"
    },
    "id": "utay7XvUUwcV",
    "outputId": "92b8f15c-c528-48b0-f818-383e3c3c06a8"
   },
   "outputs": [],
   "source": [
    "nn_model = Sequential()\n",
    "nn_model.add(Dense(9, activation='relu'))\n",
    "nn_model.add(Dense(15, activation='relu'))\n",
    "nn_model.add(Dense(15, activation='relu'))\n",
    "nn_model.add(Dense(1))\n",
    "\n",
    "nn_model.compile(loss='mean_absolute_error', optimizer='adam')\n",
    "\n",
    "results = nn_model.fit(\n",
    " train_points, train_values,\n",
    " epochs= 20,\n",
    " batch_size = 100,\n",
    " validation_data = (test_points, test_values)\n",
    ")\n",
    "\n",
    "nn_predict = nn_model.predict(test_points)\n",
    "print(mean_absolute_error(test_values, nn_predict))"
   ]
  },
  {
   "cell_type": "markdown",
   "metadata": {
    "id": "D8RMjnmV8KPj"
   },
   "source": [
    "Для нейросетевой модели нормализация значительно облегчила задачу, но приблизиться к точности ансамблевых методов мы так и не смогли.\n",
    "\n",
    "Рассмотрим популярность различных признаков при принятии решения в модели градиентного бустинга и попробуем удалить наиболее непопулярные."
   ]
  },
  {
   "cell_type": "code",
   "execution_count": null,
   "metadata": {
    "colab": {
     "base_uri": "https://localhost:8080/",
     "height": 295
    },
    "id": "rappD3bUiCrk",
    "outputId": "c8b83d53-c9a2-495c-decf-deab1bd7e09d"
   },
   "outputs": [],
   "source": [
    "xgb.plot_importance(xg_reg)\n",
    "plt.show()"
   ]
  },
  {
   "cell_type": "code",
   "execution_count": null,
   "metadata": {
    "id": "Qr6pJ_pp2SM6"
   },
   "outputs": [],
   "source": [
    "del df_wo_na['notRepairedDamage']\n",
    "del df_wo_na['gearbox']\n",
    "train_points, test_points, train_values, test_values = train_test_split(X, Y, test_size = 0.2)"
   ]
  },
  {
   "cell_type": "markdown",
   "metadata": {
    "id": "8XxCYsgK9u6l"
   },
   "source": [
    "Проверим влияние внесенных изменений на качество наших моделей."
   ]
  },
  {
   "cell_type": "code",
   "execution_count": null,
   "metadata": {
    "colab": {
     "base_uri": "https://localhost:8080/"
    },
    "id": "oRda0bLv48r6",
    "outputId": "0bd0149c-b12a-4958-b5c1-1213d34e0b1b"
   },
   "outputs": [],
   "source": [
    "nn_model = Sequential()\n",
    "nn_model.add(Dense(7, activation='relu'))\n",
    "nn_model.add(Dense(15, activation='relu'))\n",
    "nn_model.add(Dense(15, activation='relu'))\n",
    "nn_model.add(Dense(1))\n",
    "\n",
    "nn_model.compile(loss='mean_absolute_error', optimizer='adam')\n",
    "\n",
    "results = nn_model.fit(\n",
    " train_points, train_values,\n",
    " epochs= 10,\n",
    " batch_size = 100,\n",
    " validation_data = (test_points, test_values)\n",
    ")\n",
    "\n",
    "nn_predict = nn_model.predict(test_points)\n",
    "print(mean_absolute_error(test_values, nn_predict))"
   ]
  },
  {
   "cell_type": "markdown",
   "metadata": {
    "id": "ajj3DxJ__KKW"
   },
   "source": [
    "Точность нейросетевой модели, хоть и незначительно, но упала."
   ]
  },
  {
   "cell_type": "code",
   "execution_count": null,
   "metadata": {
    "id": "Un7GqWiwjivj"
   },
   "outputs": [],
   "source": [
    "rf_model = RandomForestRegressor(n_estimators=100, n_jobs=-1)\n",
    "rf_model.fit(train_points, train_values)\n",
    "rf_predict = rf_model.predict(test_points)"
   ]
  },
  {
   "cell_type": "code",
   "execution_count": null,
   "metadata": {
    "colab": {
     "base_uri": "https://localhost:8080/"
    },
    "id": "VZC2oK_JjoBP",
    "outputId": "e3bb3b6c-0578-4950-f758-dfc3769d1dc0"
   },
   "outputs": [],
   "source": [
    "print(mean_absolute_error(test_values, rf_predict))"
   ]
  },
  {
   "cell_type": "code",
   "execution_count": null,
   "metadata": {
    "colab": {
     "base_uri": "https://localhost:8080/"
    },
    "id": "eFlAYnWH96AH",
    "outputId": "5b0e420b-5d51-47f5-9203-415c2614e1ca"
   },
   "outputs": [],
   "source": [
    "xg_reg.fit(train_points, train_values)\n",
    "xgb_predict = xg_reg.predict(test_points)\n",
    "print(mean_absolute_error(test_values, xgb_predict))"
   ]
  },
  {
   "cell_type": "markdown",
   "metadata": {
    "id": "aPkXXniF_SZr"
   },
   "source": [
    "А вот ансамблевые методы показали небольшой рост точности."
   ]
  },
  {
   "cell_type": "markdown",
   "metadata": {
    "id": "48XPFSeJ-Kbw"
   },
   "source": [
    "Ну и напоследок проверим, каким образом скажется на качестве моделей разделение столбцов по способу факторизации."
   ]
  },
  {
   "cell_type": "code",
   "execution_count": null,
   "metadata": {
    "id": "E7arciZkmvbY"
   },
   "outputs": [],
   "source": [
    "df_wo_na = df.dropna()\n",
    "df_wo_na.reset_index(inplace=True)\n",
    "del df_wo_na['index']"
   ]
  },
  {
   "cell_type": "markdown",
   "metadata": {
    "id": "u0aqqS9N-4cR"
   },
   "source": [
    "Для столбцов с высокой кардинальностью оставим стандартный алгоритм, а для столбцов с низкой применим OneHotEncoding."
   ]
  },
  {
   "cell_type": "code",
   "execution_count": null,
   "metadata": {
    "colab": {
     "base_uri": "https://localhost:8080/"
    },
    "id": "EyFYDVqMm4KV",
    "outputId": "a8436a98-ce0c-4bbb-b734-e5274018cd07"
   },
   "outputs": [],
   "source": [
    "column_names_fact = ['vehicleType', 'model','brand']\n",
    "column_names_dummies = ['gearbox', 'fuelType', 'notRepairedDamage']\n",
    "for i in column_names_fact:\n",
    "    df_wo_na[i] = pd.factorize(df_wo_na[i])[0]\n",
    "df_wo_na = pd.get_dummies(df_wo_na, prefix=column_names_dummies)"
   ]
  },
  {
   "cell_type": "code",
   "execution_count": null,
   "metadata": {
    "id": "KgKlrGHWnqXw"
   },
   "outputs": [],
   "source": [
    "df_wo_na = df_wo_na[(df_wo_na['price'] < 20000) & (df_wo_na['price'] > 50)]\n",
    "df_wo_na.reset_index(inplace=True)\n",
    "del df_wo_na['index']"
   ]
  },
  {
   "cell_type": "code",
   "execution_count": null,
   "metadata": {
    "id": "oK7yBGj-okf9"
   },
   "outputs": [],
   "source": [
    "Y = df_wo_na['price']\n",
    "X = df_wo_na.drop(['price'], axis = 1)"
   ]
  },
  {
   "cell_type": "code",
   "execution_count": null,
   "metadata": {
    "id": "aJ9Tzv3oo8rq"
   },
   "outputs": [],
   "source": [
    "train_points, test_points, train_values, test_values = train_test_split(X, Y, test_size = 0.2)"
   ]
  },
  {
   "cell_type": "code",
   "execution_count": null,
   "metadata": {
    "id": "zqGQnF-2o_qw"
   },
   "outputs": [],
   "source": [
    "rf_model = RandomForestRegressor(n_estimators=100, n_jobs=-1)\n",
    "rf_model.fit(train_points, train_values)\n",
    "rf_predict = rf_model.predict(test_points)"
   ]
  },
  {
   "cell_type": "code",
   "execution_count": null,
   "metadata": {
    "colab": {
     "base_uri": "https://localhost:8080/"
    },
    "id": "5qzIUsdmpCTd",
    "outputId": "7b3eeba9-f3b0-40a1-8ef7-ebec33bc8db4"
   },
   "outputs": [],
   "source": [
    "print(mean_absolute_error(test_values, rf_predict))"
   ]
  },
  {
   "cell_type": "markdown",
   "metadata": {
    "id": "AbU-NvtoCNH8"
   },
   "source": [
    "Модель случайного леса осталась равнодушна к увеличению количества столбцов."
   ]
  },
  {
   "cell_type": "code",
   "execution_count": null,
   "metadata": {
    "colab": {
     "base_uri": "https://localhost:8080/"
    },
    "id": "9YzQPzczpGlb",
    "outputId": "b8009491-f380-4c9d-a543-3b6d32a821f0"
   },
   "outputs": [],
   "source": [
    "xg_reg.fit(train_points, train_values)\n",
    "xgb_predict = xg_reg.predict(test_points)\n",
    "print(mean_absolute_error(test_values, xgb_predict))"
   ]
  },
  {
   "cell_type": "markdown",
   "metadata": {
    "id": "muW70-7fCWR5"
   },
   "source": [
    "А вот градиентный бустинг значительно улучшил точность предсказываемой цены."
   ]
  },
  {
   "cell_type": "code",
   "execution_count": null,
   "metadata": {
    "colab": {
     "base_uri": "https://localhost:8080/"
    },
    "id": "GkP_umV9pJKi",
    "outputId": "feeecc4a-57f1-4d0c-bdcc-05bed3742039"
   },
   "outputs": [],
   "source": [
    "nn_model = Sequential()\n",
    "nn_model.add(Dense(17, activation='relu'))\n",
    "nn_model.add(Dense(15, activation='relu'))\n",
    "nn_model.add(Dense(15, activation='relu'))\n",
    "nn_model.add(Dense(1))\n",
    "\n",
    "nn_model.compile(loss='mean_absolute_error', optimizer='adam')\n",
    "\n",
    "results = nn_model.fit(\n",
    " train_points, train_values,\n",
    " epochs= 10,\n",
    " batch_size = 100,\n",
    " validation_data = (test_points, test_values)\n",
    ")\n",
    "\n",
    "nn_predict = nn_model.predict(test_points)\n",
    "print(mean_absolute_error(test_values, nn_predict))"
   ]
  },
  {
   "cell_type": "markdown",
   "metadata": {
    "id": "RNWjdn72ChX2"
   },
   "source": [
    "Нейронные сети продемонcтрировали ухудшение качества модели при увеличении объема входных данных.\n",
    "\n",
    "Попробуем собрать еще модель линейной регрессии."
   ]
  },
  {
   "cell_type": "code",
   "execution_count": null,
   "metadata": {
    "colab": {
     "base_uri": "https://localhost:8080/"
    },
    "id": "u4fjL9kosGus",
    "outputId": "ba5a3bd5-e6b8-45c1-e046-94167b3a0f41"
   },
   "outputs": [],
   "source": [
    "from sklearn.linear_model import LinearRegression\n",
    "model = LinearRegression()\n",
    "model.fit(train_points, train_values)\n",
    "lr_predict = model.predict(test_points)\n",
    "print(mean_absolute_error(test_values, lr_predict))"
   ]
  },
  {
   "cell_type": "markdown",
   "metadata": {
    "id": "kgTPbjhdD5Hd"
   },
   "source": [
    "Метрика MAE говорит, что модель линейной регрессии справляется с задачей лучше, чем нейронные сети. Проверим этот результат графически."
   ]
  },
  {
   "cell_type": "code",
   "execution_count": null,
   "metadata": {
    "colab": {
     "base_uri": "https://localhost:8080/",
     "height": 451
    },
    "id": "TIGdlnqUCGR8",
    "outputId": "aa26b8c3-5856-49bb-9dc2-6dcf6207c09c"
   },
   "outputs": [],
   "source": [
    "plt.figure(figsize=(7, 7))\n",
    "plt.scatter(test_values, lr_predict) # рисуем точки, соответствущие парам настоящее значение - прогноз\n",
    "plt.plot([0, max(test_values)], [0, max(lr_predict)], 'r') # рисуем прямую, на которой предсказания и настоящие значения совпадают\n",
    "plt.xlabel('Настоящая цена', fontsize=20)\n",
    "plt.ylabel('Предсказанная цена', fontsize=20);"
   ]
  },
  {
   "cell_type": "markdown",
   "metadata": {
    "id": "IkVZZ0ZoEJVU"
   },
   "source": [
    "Из-за излишней концентрации на вылетах модель линейной регрессии имеет тенденцию занижать цену для дорогих автомобилей. Связано это с тем, что наша выборка не является взвешенной, то есть имеет гораздо меньший объем записей об автомобилях с высокой ценой, чем с низкой."
   ]
  },
  {
   "cell_type": "markdown",
   "metadata": {
    "id": "d5aChX-BqhcD"
   },
   "source": [
    "## Построение регрессора для предсказания непрерывной величины (*Практическая* часть)"
   ]
  },
  {
   "cell_type": "markdown",
   "metadata": {
    "id": "yob5DMBlqrFT"
   },
   "source": [
    "Вашим заданием в данной лабораторной будет построение регрессионной модели для предсказания цены квартиры для датасета из первой лабораторной работы. \n",
    "\n",
    "Доступные технологии:\n",
    "\n",
    "\n",
    "*   XGBoost (n_estimators <= 100)\n",
    "*   Random forest (n_estimators <= 100)\n",
    "*   Нейронная сеть (epochs <= 15, общее количество слоев <= 5)\n",
    "*   Линейная регрессия (Ну мало ли....)\n",
    "\n",
    "Методика оценки - **mean_absolute_error**"
   ]
  },
  {
   "cell_type": "code",
   "execution_count": null,
   "metadata": {},
   "outputs": [],
   "source": [
    "def plot_results(test_vals, predict_vals):\n",
    "    plt.figure(figsize=(8, 6))\n",
    "    plt.scatter(test_vals, predict_vals, linewidths=1, s=9)\n",
    "    plt.plot([0, max(test_vals)], [0, max(predict_vals)], 'r')\n",
    "    plt.xlabel('Истинные значения', fontsize=14)\n",
    "    plt.ylabel('Предсказанные значения', fontsize=14);\n",
    "    plt.grid(True)"
   ]
  },
  {
   "cell_type": "code",
   "execution_count": null,
   "metadata": {},
   "outputs": [],
   "source": [
    "def print_results(estimator, X_train, y_train, X_test, y_test):\n",
    "    print('MSE (train):', round(mean_squared_error(y_train, estimator.predict(X_train), squared=False), 6))\n",
    "    print('MSE (test) :', round(mean_squared_error(y_test, estimator.predict(X_test), squared=False), 6))\n",
    "    print('------------')\n",
    "    print('MAE (train):', round(mean_absolute_error(y_train, estimator.predict(X_train)), 6))\n",
    "    print('MAE (test) :', round(mean_absolute_error(y_test, estimator.predict(X_test)), 6))"
   ]
  },
  {
   "cell_type": "code",
   "execution_count": null,
   "metadata": {},
   "outputs": [],
   "source": [
    "df = pd.read_csv('nyc-rolling-sales.csv')\n",
    "df.info()"
   ]
  },
  {
   "cell_type": "code",
   "execution_count": null,
   "metadata": {},
   "outputs": [],
   "source": [
    "df = pd.read_csv('nyc-rolling-sales.csv')\n",
    "print('Default shape:', df.shape)\n",
    "\n",
    "df = df.drop('Unnamed: 0', axis=1)\n",
    "df = df.drop('ADDRESS', axis=1)\n",
    "df = df.drop('APARTMENT NUMBER', axis=1)\n",
    "df = df.drop('EASE-MENT', axis=1)\n",
    "df = df.drop('SALE DATE', axis=1)\n",
    "\n",
    "df = df.drop('ZIP CODE', axis=1)\n",
    "\n",
    "# Удалим недвижимость с ценой продажи с '-' (нулевой ценой продажи)\n",
    "df = df.drop(df[df['SALE PRICE'] == ' -  '].index)\n",
    "df['SALE PRICE'] = df['SALE PRICE'].astype('int64')\n",
    "\n",
    "# И с ценой продажей близкой к нулю (< 2000)\n",
    "df = df.drop(df[df['SALE PRICE'] < 2000].index)\n",
    "\n",
    "# И со слишком большой ценой продажи (> 3000000)\n",
    "df = df.drop(df[df['SALE PRICE'] > 3000000].index)\n",
    "\n",
    "# Заменим пропуски ' -  ' в LAND SQUARE FEET и GROSS SQUARE FEET\n",
    "df['LAND SQUARE FEET'] = df['LAND SQUARE FEET'].replace(' -  ', -9999)\n",
    "df['GROSS SQUARE FEET'] = df['GROSS SQUARE FEET'].replace(' -  ', -9999)\n",
    "df['LAND SQUARE FEET'] = df['LAND SQUARE FEET'].astype('int64')\n",
    "df['GROSS SQUARE FEET'] = df['GROSS SQUARE FEET'].astype('int64')\n",
    "\n",
    "\n",
    "# Test\n",
    "#df = df.drop('BOROUGH', axis=1)\n",
    "#df = df.drop('BUILDING CLASS AT PRESENT', axis=1)\n",
    "\n",
    "df = df.reset_index(drop=True)"
   ]
  },
  {
   "cell_type": "code",
   "execution_count": null,
   "metadata": {},
   "outputs": [],
   "source": [
    "# Факторизация столбцов\n",
    "\n",
    "cat_columns = ['NEIGHBORHOOD', 'BUILDING CLASS CATEGORY', 'TAX CLASS AT PRESENT',\n",
    "               'BUILDING CLASS AT PRESENT', 'BUILDING CLASS AT TIME OF SALE']\n",
    "num_columns = set(df.columns) - set(cat_columns)\n",
    "\n",
    "for column in cat_columns:\n",
    "    df[column] = pd.factorize(df[column])[0]"
   ]
  },
  {
   "cell_type": "code",
   "execution_count": null,
   "metadata": {
    "scrolled": false
   },
   "outputs": [],
   "source": [
    "df.sample(3)"
   ]
  },
  {
   "cell_type": "code",
   "execution_count": null,
   "metadata": {},
   "outputs": [],
   "source": [
    "df.describe()"
   ]
  },
  {
   "cell_type": "code",
   "execution_count": null,
   "metadata": {
    "scrolled": false
   },
   "outputs": [],
   "source": [
    "fig, ax = plt.subplots(figsize=(10, 6))\n",
    "cor_m = df.corr()\n",
    "matr = np.triu(cor_m)\n",
    "sns.heatmap(cor_m, mask=matr, linewidths=1, linecolor='white', vmin=-1, vmax=1, center= 0, cmap= 'coolwarm')"
   ]
  },
  {
   "cell_type": "code",
   "execution_count": null,
   "metadata": {},
   "outputs": [],
   "source": [
    "sns.pairplot(df, diag_kind='hist', corner=True)"
   ]
  },
  {
   "cell_type": "code",
   "execution_count": null,
   "metadata": {},
   "outputs": [],
   "source": [
    "y = df['SALE PRICE'].values\n",
    "X = df.drop('SALE PRICE', axis=1).values\n",
    "\n",
    "X_train, X_test, y_train, y_test = train_test_split(X, y, test_size=0.2, random_state=7)"
   ]
  },
  {
   "cell_type": "code",
   "execution_count": null,
   "metadata": {},
   "outputs": [],
   "source": [
    "rf100 = RandomForestRegressor(n_estimators=100, n_jobs=-1, random_state=7)\n",
    "rf100.fit(X_train, y_train)"
   ]
  },
  {
   "cell_type": "code",
   "execution_count": null,
   "metadata": {},
   "outputs": [],
   "source": [
    "print_results(rf100, X_train, y_train, X_test, y_test)"
   ]
  },
  {
   "cell_type": "code",
   "execution_count": null,
   "metadata": {},
   "outputs": [],
   "source": [
    "plot_results(y_test, rf100.predict(X_test))"
   ]
  },
  {
   "cell_type": "code",
   "execution_count": null,
   "metadata": {},
   "outputs": [],
   "source": []
  },
  {
   "cell_type": "code",
   "execution_count": null,
   "metadata": {},
   "outputs": [],
   "source": []
  }
 ],
 "metadata": {
  "colab": {
   "name": "lab3.ipynb",
   "provenance": []
  },
  "kernelspec": {
   "display_name": "Python 3",
   "language": "python",
   "name": "python3"
  },
  "language_info": {
   "codemirror_mode": {
    "name": "ipython",
    "version": 3
   },
   "file_extension": ".py",
   "mimetype": "text/x-python",
   "name": "python",
   "nbconvert_exporter": "python",
   "pygments_lexer": "ipython3",
   "version": "3.7.4"
  }
 },
 "nbformat": 4,
 "nbformat_minor": 1
}
