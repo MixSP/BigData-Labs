{
 "cells": [
  {
   "cell_type": "markdown",
   "metadata": {
    "id": "3zxDF1MEVCzo"
   },
   "source": [
    "# *Лабораторная работа №2*"
   ]
  },
  {
   "cell_type": "markdown",
   "metadata": {
    "id": "7TqqLzJtVMk4"
   },
   "source": [
    "## Построение бинарного классификатора (Теоретическая часть)"
   ]
  },
  {
   "cell_type": "markdown",
   "metadata": {
    "id": "EYh8az2OVuc-"
   },
   "source": [
    "Мы продолжаем работу над датасетом с данными о проданных подержанных автомобилях в Германии в 2016 году. В рамках текущей лабораторной необходимо построить модель бинарного классификатора, который бы позволил определить была ли машина в ремонте или нет. \n"
   ]
  },
  {
   "cell_type": "markdown",
   "metadata": {
    "id": "DfqmOZCZWPiZ"
   },
   "source": [
    "Подключим все необходимые для дальнейшей работы библиотеки."
   ]
  },
  {
   "cell_type": "code",
   "execution_count": 1,
   "metadata": {
    "id": "WrHfdYCs1m-C"
   },
   "outputs": [],
   "source": [
    "import pandas as pd\n",
    "import numpy as np\n",
    "import matplotlib.pyplot as plt\n",
    "import seaborn as sns\n",
    "import copy\n",
    "\n",
    "from sklearn import ensemble\n",
    "from sklearn.ensemble import RandomForestClassifier\n",
    "from sklearn.metrics import accuracy_score, f1_score\n",
    "from sklearn.model_selection import train_test_split\n",
    "\n",
    "from keras.utils import to_categorical\n",
    "from keras import models\n",
    "from keras import layers\n",
    "\n",
    "import warnings\n",
    "warnings.filterwarnings(\"ignore\")"
   ]
  },
  {
   "cell_type": "markdown",
   "metadata": {
    "id": "P-Rglg9KWYeq"
   },
   "source": [
    "Загрузим базу данных, которая была получена нами в ходе предыдущей работы, т.е. в ней уже проведена определенная работа по очистке данных (подробнее см. лаб1). "
   ]
  },
  {
   "cell_type": "code",
   "execution_count": 2,
   "metadata": {
    "id": "fJgzx_tFL0yG"
   },
   "outputs": [],
   "source": [
    "%%capture\n",
    "!wget https://www.dropbox.com/s/s1sqfsi6x7hbs28/autos_mod.csv"
   ]
  },
  {
   "cell_type": "markdown",
   "metadata": {
    "id": "TvRg1sBOWyOr"
   },
   "source": [
    "Записываем ее в датафрейм и проверим столбцы на наличие пустых значений."
   ]
  },
  {
   "cell_type": "code",
   "execution_count": 3,
   "metadata": {
    "colab": {
     "base_uri": "https://localhost:8080/"
    },
    "id": "MARsKCvlKdf7",
    "outputId": "97f1fa62-597d-4699-b6fb-91a4eff2b9b1"
   },
   "outputs": [
    {
     "data": {
      "text/plain": [
       "Unnamed: 0            False\n",
       "price                 False\n",
       "vehicleType            True\n",
       "yearOfRegistration    False\n",
       "gearbox                True\n",
       "powerPS               False\n",
       "model                  True\n",
       "kilometer             False\n",
       "fuelType               True\n",
       "brand                 False\n",
       "notRepairedDamage      True\n",
       "dtype: bool"
      ]
     },
     "execution_count": 3,
     "metadata": {},
     "output_type": "execute_result"
    }
   ],
   "source": [
    "df = pd.read_csv('autos_mod.csv', encoding='iso-8859-1')\n",
    "df.isnull().any()"
   ]
  },
  {
   "cell_type": "markdown",
   "metadata": {
    "id": "YVmFc0AFW_Zp"
   },
   "source": [
    "Удалим столбец, который возник в процессе переписывания набора данных, так как никакой полезной информации он не несет."
   ]
  },
  {
   "cell_type": "code",
   "execution_count": 4,
   "metadata": {
    "id": "Cw7f9Hw21m-M"
   },
   "outputs": [],
   "source": [
    "del df[\"Unnamed: 0\"]"
   ]
  },
  {
   "cell_type": "markdown",
   "metadata": {
    "id": "93PTyP6mXReM"
   },
   "source": [
    "Воспользуемся самым ленивым способом восстановления данных и очистим все столбцы от пустых значений, чтобы работать с исключительно неповрежденными записями."
   ]
  },
  {
   "cell_type": "code",
   "execution_count": 5,
   "metadata": {
    "id": "aT3qPEmL1m-N"
   },
   "outputs": [],
   "source": [
    "df = df.drop(df[pd.isnull(df['vehicleType'])].index)\n",
    "df = df.drop(df[pd.isnull(df['gearbox'])].index)\n",
    "df = df.drop(df[pd.isnull(df['model'])].index)\n",
    "df = df.drop(df[pd.isnull(df['fuelType'])].index)\n",
    "df = df.drop(df[pd.isnull(df['notRepairedDamage'])].index)"
   ]
  },
  {
   "cell_type": "markdown",
   "metadata": {
    "id": "VFf_lZAqXtAu"
   },
   "source": [
    "Проверим, что у нас не осталось записей с пустыми значениями."
   ]
  },
  {
   "cell_type": "code",
   "execution_count": 6,
   "metadata": {
    "colab": {
     "base_uri": "https://localhost:8080/"
    },
    "id": "tR0MkqhD2s5M",
    "outputId": "98b25083-7982-4a80-814a-520e0039e4b4"
   },
   "outputs": [
    {
     "name": "stdout",
     "output_type": "stream",
     "text": [
      "<class 'pandas.core.frame.DataFrame'>\n",
      "Int64Index: 250919 entries, 2 to 329656\n",
      "Data columns (total 10 columns):\n",
      " #   Column              Non-Null Count   Dtype \n",
      "---  ------              --------------   ----- \n",
      " 0   price               250919 non-null  int64 \n",
      " 1   vehicleType         250919 non-null  object\n",
      " 2   yearOfRegistration  250919 non-null  int64 \n",
      " 3   gearbox             250919 non-null  object\n",
      " 4   powerPS             250919 non-null  int64 \n",
      " 5   model               250919 non-null  object\n",
      " 6   kilometer           250919 non-null  int64 \n",
      " 7   fuelType            250919 non-null  object\n",
      " 8   brand               250919 non-null  object\n",
      " 9   notRepairedDamage   250919 non-null  object\n",
      "dtypes: int64(4), object(6)\n",
      "memory usage: 21.1+ MB\n"
     ]
    }
   ],
   "source": [
    "df.info()"
   ]
  },
  {
   "cell_type": "markdown",
   "metadata": {
    "id": "WdLNTeJYX7nx"
   },
   "source": [
    "В нашем наборе данных достаточно большое количество полей типа object. Для того, чтобы с ними можно было работать, необходимо провести факторизацию, но сначала рассмотрим эти значения."
   ]
  },
  {
   "cell_type": "code",
   "execution_count": 7,
   "metadata": {
    "colab": {
     "base_uri": "https://localhost:8080/"
    },
    "id": "0a0eudPL1m-P",
    "outputId": "309d4cb2-ce8f-4b9c-8c28-e177af8cc1b0"
   },
   "outputs": [
    {
     "data": {
      "text/plain": [
       "array(['kleinwagen', 'limousine', 'cabrio', 'kombi', 'suv', 'bus',\n",
       "       'coupe', 'andere'], dtype=object)"
      ]
     },
     "execution_count": 7,
     "metadata": {},
     "output_type": "execute_result"
    }
   ],
   "source": [
    "df['vehicleType'].unique()"
   ]
  },
  {
   "cell_type": "code",
   "execution_count": 8,
   "metadata": {
    "colab": {
     "base_uri": "https://localhost:8080/"
    },
    "id": "7aL7d9Vi1m-Q",
    "outputId": "a392ece6-756f-49da-e388-cb227af203da"
   },
   "outputs": [
    {
     "data": {
      "text/plain": [
       "array(['manuell', 'automatik'], dtype=object)"
      ]
     },
     "execution_count": 8,
     "metadata": {},
     "output_type": "execute_result"
    }
   ],
   "source": [
    "df['gearbox'].unique()"
   ]
  },
  {
   "cell_type": "code",
   "execution_count": 9,
   "metadata": {
    "colab": {
     "base_uri": "https://localhost:8080/"
    },
    "id": "Lu5LpkuR1m-Q",
    "outputId": "fc097e39-23f6-4bbb-90ee-dc8b763209e1"
   },
   "outputs": [
    {
     "data": {
      "text/plain": [
       "array(['golf', 'fabia', '3er', '2_reihe', 'andere', '3_reihe', 'passat',\n",
       "       'navara', 'twingo', 'c_max', 'a_klasse', 'scirocco', '5er',\n",
       "       'arosa', 'civic', 'transporter', 'punto', 'e_klasse', 'one',\n",
       "       'clio', '1er', 'b_klasse', 'fortwo', 'a8', 'jetta', 'fiesta',\n",
       "       'c_klasse', 'micra', 'vito', 'sprinter', '156', 'escort',\n",
       "       'forester', 'scenic', 'a1', 'focus', 'tt', 'astra', 'a6', 'jazz',\n",
       "       'polo', 'slk', '7er', 'combo', '80', '147', 'glk', 'meriva',\n",
       "       'z_reihe', 'ibiza', 'mustang', 'eos', 'a4', 'touran', 'getz',\n",
       "       'insignia', 'megane', 'a3', 'lupo', 'r19', 'colt', 'corsa',\n",
       "       'vectra', 'berlingo', 'm_klasse', 'tiguan', '6_reihe', 'c4',\n",
       "       'panda', 'up', 'i_reihe', 'ceed', 'kangoo', '5_reihe', 'yeti',\n",
       "       'octavia', 'zafira', 'mii', 'rx_reihe', 'mondeo', '6er', 'fox',\n",
       "       'matiz', 'beetle', 'rio', 'touareg', 'logan', 'omega', 'cuore',\n",
       "       's_max', 'modus', 'a2', 'x_reihe', 'a5', 'galaxy', 'c3', 'viano',\n",
       "       's_klasse', 'sharan', 'avensis', 'sl', 'roomster', 'q5', 'kaefer',\n",
       "       'santa', 'leon', 'cooper', 'sportage', 'caddy', 'clk', 'primera',\n",
       "       '4_reihe', 'espace', 'exeo', 'juke', '1_reihe', 'v40', 'accord',\n",
       "       'corolla', 'grand', 'phaeton', 'boxster', 'cordoba', 'verso',\n",
       "       'swift', 'rav', 'kuga', 'qashqai', '159', 'picanto', 'stilo',\n",
       "       'alhambra', '911', 'ka', 'm_reihe', 'roadster', 'ypsilon',\n",
       "       'galant', 'impreza', 'sirion', 'signum', 'crossfire', 'agila',\n",
       "       'duster', 'sorento', 'v50', 'mx_reihe', '500', 'discovery',\n",
       "       'c_reihe', 'v_klasse', 'yaris', 'c5', 'aygo', 'almera', 'cc',\n",
       "       'bora', 'forfour', 'cl', 'tigra', '300c', 'ptcruiser', 'transit',\n",
       "       '100', 'cr_reihe', 'xc_reihe', 'spark', 'laguna', 'x_type',\n",
       "       'ducato', 's_type', 'x_trail', 'toledo', 'altea', 'voyager',\n",
       "       'carnival', 'v70', 'bravo', 'range_rover', 'carisma', 'q7', 'c1',\n",
       "       'kadett', 'citigo', 'jimny', 'cx_reihe', 'cayenne', 'wrangler',\n",
       "       'lybra', 'lancer', 'freelander', 'captiva', 'fusion',\n",
       "       'range_rover_evoque', 'sandero', 'note', 'q3', 'spider', '90',\n",
       "       'antara', 'defender', 'cherokee', 'seicento', 'clubman', 'legacy',\n",
       "       'pajero', 'c2', 'niva', 's60', '900', 'nubira', 'vivaro', 'lanos',\n",
       "       'tucson', 'g_klasse', 'auris', 'lodgy', 'range_rover_sport', '601',\n",
       "       '850', 'superb', 'justy', 'serie_2', 'calibra', 'charade', 'croma',\n",
       "       'outlander', 'gl', 'doblo', 'amarok', 'musa', '9000', 'kalos',\n",
       "       'v60', '200', 'b_max', 'delta', '145', 'aveo', 'move', 'materia',\n",
       "       'terios', 'kalina', 'elefantino', 'i3', 'samara', 'rangerover',\n",
       "       'serie_3', 'kappa', 'discovery_sport'], dtype=object)"
      ]
     },
     "execution_count": 9,
     "metadata": {},
     "output_type": "execute_result"
    }
   ],
   "source": [
    "df['model'].unique()"
   ]
  },
  {
   "cell_type": "code",
   "execution_count": 10,
   "metadata": {
    "colab": {
     "base_uri": "https://localhost:8080/"
    },
    "id": "7UhUiBt11m-Q",
    "outputId": "c43f0877-1317-4a02-ef8d-095fd698efc9"
   },
   "outputs": [
    {
     "data": {
      "text/plain": [
       "array(['benzin', 'diesel', 'lpg', 'andere', 'hybrid', 'cng', 'elektro'],\n",
       "      dtype=object)"
      ]
     },
     "execution_count": 10,
     "metadata": {},
     "output_type": "execute_result"
    }
   ],
   "source": [
    "df['fuelType'].unique()"
   ]
  },
  {
   "cell_type": "code",
   "execution_count": 11,
   "metadata": {
    "colab": {
     "base_uri": "https://localhost:8080/"
    },
    "id": "FaTMZjFm1m-R",
    "outputId": "aad164a0-c844-40fd-c828-597116b8c3ad"
   },
   "outputs": [
    {
     "data": {
      "text/plain": [
       "array(['nein', 'ja'], dtype=object)"
      ]
     },
     "execution_count": 11,
     "metadata": {},
     "output_type": "execute_result"
    }
   ],
   "source": [
    "df['notRepairedDamage'].unique()"
   ]
  },
  {
   "cell_type": "markdown",
   "metadata": {
    "id": "LhQsAdZHYZpf"
   },
   "source": [
    "Для поля, которое нас интересует больше всего проверим соотношение количества записей, относящихся к разным классам."
   ]
  },
  {
   "cell_type": "code",
   "execution_count": 12,
   "metadata": {
    "colab": {
     "base_uri": "https://localhost:8080/"
    },
    "id": "CJG5aQ7_1m-S",
    "outputId": "45c55a55-98f5-4239-d77a-6601058f1847"
   },
   "outputs": [
    {
     "data": {
      "text/plain": [
       "nein    225322\n",
       "ja       25597\n",
       "Name: notRepairedDamage, dtype: int64"
      ]
     },
     "execution_count": 12,
     "metadata": {},
     "output_type": "execute_result"
    }
   ],
   "source": [
    "df['notRepairedDamage'].value_counts()"
   ]
  },
  {
   "cell_type": "markdown",
   "metadata": {
    "id": "RPH8N4SRYnqy"
   },
   "source": [
    "Отношение 1 к 10 не является хорошим, так как обеспечивает перевес объектов одного класса. Данный момент можно попытаться обойти, уравновесив выборки по принадлежности к классам. В рамках данной методички продолжим обучение на необработанной выборке."
   ]
  },
  {
   "cell_type": "markdown",
   "metadata": {
    "id": "H8qtgmxNZSwm"
   },
   "source": [
    "Проведем факторизацию и проверим результат ее исполнения."
   ]
  },
  {
   "cell_type": "code",
   "execution_count": 13,
   "metadata": {
    "colab": {
     "base_uri": "https://localhost:8080/",
     "height": 204
    },
    "id": "xLIm61uX1m-T",
    "outputId": "19cba6b7-4430-4f82-f1f4-8372e9371c63"
   },
   "outputs": [
    {
     "data": {
      "text/html": [
       "<div>\n",
       "<style scoped>\n",
       "    .dataframe tbody tr th:only-of-type {\n",
       "        vertical-align: middle;\n",
       "    }\n",
       "\n",
       "    .dataframe tbody tr th {\n",
       "        vertical-align: top;\n",
       "    }\n",
       "\n",
       "    .dataframe thead th {\n",
       "        text-align: right;\n",
       "    }\n",
       "</style>\n",
       "<table border=\"1\" class=\"dataframe\">\n",
       "  <thead>\n",
       "    <tr style=\"text-align: right;\">\n",
       "      <th></th>\n",
       "      <th>price</th>\n",
       "      <th>vehicleType</th>\n",
       "      <th>yearOfRegistration</th>\n",
       "      <th>gearbox</th>\n",
       "      <th>powerPS</th>\n",
       "      <th>model</th>\n",
       "      <th>kilometer</th>\n",
       "      <th>fuelType</th>\n",
       "      <th>brand</th>\n",
       "      <th>notRepairedDamage</th>\n",
       "    </tr>\n",
       "  </thead>\n",
       "  <tbody>\n",
       "    <tr>\n",
       "      <th>2</th>\n",
       "      <td>1500</td>\n",
       "      <td>0</td>\n",
       "      <td>2001</td>\n",
       "      <td>0</td>\n",
       "      <td>75</td>\n",
       "      <td>0</td>\n",
       "      <td>150000</td>\n",
       "      <td>0</td>\n",
       "      <td>0</td>\n",
       "      <td>0</td>\n",
       "    </tr>\n",
       "    <tr>\n",
       "      <th>3</th>\n",
       "      <td>3600</td>\n",
       "      <td>0</td>\n",
       "      <td>2008</td>\n",
       "      <td>0</td>\n",
       "      <td>69</td>\n",
       "      <td>1</td>\n",
       "      <td>90000</td>\n",
       "      <td>1</td>\n",
       "      <td>1</td>\n",
       "      <td>0</td>\n",
       "    </tr>\n",
       "    <tr>\n",
       "      <th>4</th>\n",
       "      <td>650</td>\n",
       "      <td>1</td>\n",
       "      <td>1995</td>\n",
       "      <td>0</td>\n",
       "      <td>102</td>\n",
       "      <td>2</td>\n",
       "      <td>150000</td>\n",
       "      <td>0</td>\n",
       "      <td>2</td>\n",
       "      <td>1</td>\n",
       "    </tr>\n",
       "    <tr>\n",
       "      <th>5</th>\n",
       "      <td>2200</td>\n",
       "      <td>2</td>\n",
       "      <td>2004</td>\n",
       "      <td>0</td>\n",
       "      <td>109</td>\n",
       "      <td>3</td>\n",
       "      <td>150000</td>\n",
       "      <td>0</td>\n",
       "      <td>3</td>\n",
       "      <td>0</td>\n",
       "    </tr>\n",
       "    <tr>\n",
       "      <th>6</th>\n",
       "      <td>0</td>\n",
       "      <td>1</td>\n",
       "      <td>1980</td>\n",
       "      <td>0</td>\n",
       "      <td>50</td>\n",
       "      <td>4</td>\n",
       "      <td>40000</td>\n",
       "      <td>0</td>\n",
       "      <td>0</td>\n",
       "      <td>0</td>\n",
       "    </tr>\n",
       "  </tbody>\n",
       "</table>\n",
       "</div>"
      ],
      "text/plain": [
       "   price  vehicleType  yearOfRegistration  gearbox  powerPS  model  kilometer  \\\n",
       "2   1500            0                2001        0       75      0     150000   \n",
       "3   3600            0                2008        0       69      1      90000   \n",
       "4    650            1                1995        0      102      2     150000   \n",
       "5   2200            2                2004        0      109      3     150000   \n",
       "6      0            1                1980        0       50      4      40000   \n",
       "\n",
       "   fuelType  brand  notRepairedDamage  \n",
       "2         0      0                  0  \n",
       "3         1      1                  0  \n",
       "4         0      2                  1  \n",
       "5         0      3                  0  \n",
       "6         0      0                  0  "
      ]
     },
     "execution_count": 13,
     "metadata": {},
     "output_type": "execute_result"
    }
   ],
   "source": [
    "names = ['vehicleType', 'gearbox', 'model', 'fuelType', 'brand', 'notRepairedDamage']\n",
    "for name in names:\n",
    "    df[name] = pd.factorize(df[name])[0]\n",
    "df.head()"
   ]
  },
  {
   "cell_type": "markdown",
   "metadata": {
    "id": "xdHLh1QsZiVo"
   },
   "source": [
    "Как мы можем видеть, в результате удаления части значений из базы данных, произошло нарушение следования индексов. В рамках нашей задачи данный аспект некритичен, но все же произведемсброс индексации."
   ]
  },
  {
   "cell_type": "code",
   "execution_count": 14,
   "metadata": {
    "colab": {
     "base_uri": "https://localhost:8080/",
     "height": 204
    },
    "id": "v6umr3jiMf-8",
    "outputId": "1aeb5694-4b5f-454f-d8f0-33d2e7774512"
   },
   "outputs": [
    {
     "data": {
      "text/html": [
       "<div>\n",
       "<style scoped>\n",
       "    .dataframe tbody tr th:only-of-type {\n",
       "        vertical-align: middle;\n",
       "    }\n",
       "\n",
       "    .dataframe tbody tr th {\n",
       "        vertical-align: top;\n",
       "    }\n",
       "\n",
       "    .dataframe thead th {\n",
       "        text-align: right;\n",
       "    }\n",
       "</style>\n",
       "<table border=\"1\" class=\"dataframe\">\n",
       "  <thead>\n",
       "    <tr style=\"text-align: right;\">\n",
       "      <th></th>\n",
       "      <th>price</th>\n",
       "      <th>vehicleType</th>\n",
       "      <th>yearOfRegistration</th>\n",
       "      <th>gearbox</th>\n",
       "      <th>powerPS</th>\n",
       "      <th>model</th>\n",
       "      <th>kilometer</th>\n",
       "      <th>fuelType</th>\n",
       "      <th>brand</th>\n",
       "      <th>notRepairedDamage</th>\n",
       "    </tr>\n",
       "  </thead>\n",
       "  <tbody>\n",
       "    <tr>\n",
       "      <th>0</th>\n",
       "      <td>1500</td>\n",
       "      <td>0</td>\n",
       "      <td>2001</td>\n",
       "      <td>0</td>\n",
       "      <td>75</td>\n",
       "      <td>0</td>\n",
       "      <td>150000</td>\n",
       "      <td>0</td>\n",
       "      <td>0</td>\n",
       "      <td>0</td>\n",
       "    </tr>\n",
       "    <tr>\n",
       "      <th>1</th>\n",
       "      <td>3600</td>\n",
       "      <td>0</td>\n",
       "      <td>2008</td>\n",
       "      <td>0</td>\n",
       "      <td>69</td>\n",
       "      <td>1</td>\n",
       "      <td>90000</td>\n",
       "      <td>1</td>\n",
       "      <td>1</td>\n",
       "      <td>0</td>\n",
       "    </tr>\n",
       "    <tr>\n",
       "      <th>2</th>\n",
       "      <td>650</td>\n",
       "      <td>1</td>\n",
       "      <td>1995</td>\n",
       "      <td>0</td>\n",
       "      <td>102</td>\n",
       "      <td>2</td>\n",
       "      <td>150000</td>\n",
       "      <td>0</td>\n",
       "      <td>2</td>\n",
       "      <td>1</td>\n",
       "    </tr>\n",
       "    <tr>\n",
       "      <th>3</th>\n",
       "      <td>2200</td>\n",
       "      <td>2</td>\n",
       "      <td>2004</td>\n",
       "      <td>0</td>\n",
       "      <td>109</td>\n",
       "      <td>3</td>\n",
       "      <td>150000</td>\n",
       "      <td>0</td>\n",
       "      <td>3</td>\n",
       "      <td>0</td>\n",
       "    </tr>\n",
       "    <tr>\n",
       "      <th>4</th>\n",
       "      <td>0</td>\n",
       "      <td>1</td>\n",
       "      <td>1980</td>\n",
       "      <td>0</td>\n",
       "      <td>50</td>\n",
       "      <td>4</td>\n",
       "      <td>40000</td>\n",
       "      <td>0</td>\n",
       "      <td>0</td>\n",
       "      <td>0</td>\n",
       "    </tr>\n",
       "  </tbody>\n",
       "</table>\n",
       "</div>"
      ],
      "text/plain": [
       "   price  vehicleType  yearOfRegistration  gearbox  powerPS  model  kilometer  \\\n",
       "0   1500            0                2001        0       75      0     150000   \n",
       "1   3600            0                2008        0       69      1      90000   \n",
       "2    650            1                1995        0      102      2     150000   \n",
       "3   2200            2                2004        0      109      3     150000   \n",
       "4      0            1                1980        0       50      4      40000   \n",
       "\n",
       "   fuelType  brand  notRepairedDamage  \n",
       "0         0      0                  0  \n",
       "1         1      1                  0  \n",
       "2         0      2                  1  \n",
       "3         0      3                  0  \n",
       "4         0      0                  0  "
      ]
     },
     "execution_count": 14,
     "metadata": {},
     "output_type": "execute_result"
    }
   ],
   "source": [
    "df = df.reset_index(drop=True)\n",
    "df.head()"
   ]
  },
  {
   "cell_type": "markdown",
   "metadata": {
    "id": "-v8-c3oyaDsr"
   },
   "source": [
    "Проверим, как стали выглядеть исследуемые классы после факторизации."
   ]
  },
  {
   "cell_type": "code",
   "execution_count": 15,
   "metadata": {
    "colab": {
     "base_uri": "https://localhost:8080/"
    },
    "id": "CBA6bblD1m-V",
    "outputId": "956f4992-e895-4d9d-8d3f-3a99bc182943"
   },
   "outputs": [
    {
     "data": {
      "text/plain": [
       "0    225322\n",
       "1     25597\n",
       "Name: notRepairedDamage, dtype: int64"
      ]
     },
     "execution_count": 15,
     "metadata": {},
     "output_type": "execute_result"
    }
   ],
   "source": [
    "df['notRepairedDamage'].value_counts()"
   ]
  },
  {
   "cell_type": "markdown",
   "metadata": {
    "id": "yGgJ9oJZaZxA"
   },
   "source": [
    "Разобьем весь наш набора данных на тренировочный и тестовый наборы данных."
   ]
  },
  {
   "cell_type": "markdown",
   "metadata": {
    "id": "cGgyfRXPavwc"
   },
   "source": [
    "\n",
    "*Вопрос на подумать:* Какое разбиение можно считать удачным при работе с подобным набором данных?"
   ]
  },
  {
   "cell_type": "code",
   "execution_count": 16,
   "metadata": {
    "id": "jI7QfLLN4sOV"
   },
   "outputs": [],
   "source": [
    "values = df['notRepairedDamage']\n",
    "points = df.drop(['notRepairedDamage'], axis=1)\n",
    "train_points, test_points, train_values, test_values = train_test_split(points, values, test_size = 0.2)"
   ]
  },
  {
   "cell_type": "markdown",
   "metadata": {
    "id": "qqxkvc2nbcLd"
   },
   "source": [
    "Создадим достаточно простенькую модель из 10 решающих деревьев и оценим точность ее работы."
   ]
  },
  {
   "cell_type": "code",
   "execution_count": 17,
   "metadata": {
    "colab": {
     "base_uri": "https://localhost:8080/"
    },
    "id": "KvWYb4l04dJz",
    "outputId": "503f8815-31f5-4c3d-d59a-cb566f0be036"
   },
   "outputs": [
    {
     "name": "stdout",
     "output_type": "stream",
     "text": [
      "0.9017415909453212\n"
     ]
    }
   ],
   "source": [
    "rf_model = ensemble.RandomForestClassifier(n_estimators=10)\n",
    "rf_model.fit(train_points, train_values)\n",
    "test_predict_rf = rf_model.predict(test_points)\n",
    "print(accuracy_score(test_values, test_predict_rf))"
   ]
  },
  {
   "cell_type": "markdown",
   "metadata": {
    "id": "2FNHDt2wbzoG"
   },
   "source": [
    "С одной стороны, точность работы классификатора, близкая к 90% - хороший показатель. С другой стороны, не будем забывать о том, что распределение классов в нашем датасете неравномерное. Поэтому проведем сравнение с константным классификатором."
   ]
  },
  {
   "cell_type": "code",
   "execution_count": 18,
   "metadata": {
    "colab": {
     "base_uri": "https://localhost:8080/"
    },
    "id": "o6FEBcZ5QPEK",
    "outputId": "c363e724-ccd0-4a97-ddd4-90770296b64f"
   },
   "outputs": [
    {
     "name": "stdout",
     "output_type": "stream",
     "text": [
      "0.8962019767256496\n"
     ]
    }
   ],
   "source": [
    "print(accuracy_score(test_values, np.zeros_like(test_values)))"
   ]
  },
  {
   "cell_type": "markdown",
   "metadata": {
    "id": "oN7tse9AcYZO"
   },
   "source": [
    "Классификатор, который абсолютно все объекты относит к одному и тому же классу, работает с сопоставимой точностью. В этом и состоит основная сложность работы с несбалансированными наборами данных. Попробуем увеличить количество деревьев в модели."
   ]
  },
  {
   "cell_type": "code",
   "execution_count": 19,
   "metadata": {
    "colab": {
     "base_uri": "https://localhost:8080/"
    },
    "id": "ejIO6rw-7YX7",
    "outputId": "ed799498-ba7f-434b-ff47-f3adfc0dd91a"
   },
   "outputs": [
    {
     "name": "stdout",
     "output_type": "stream",
     "text": [
      "0.9044715447154471\n"
     ]
    }
   ],
   "source": [
    "rf_model = ensemble.RandomForestClassifier(n_estimators=100)\n",
    "rf_model.fit(train_points, train_values)\n",
    "test_predict_rf = rf_model.predict(test_points)\n",
    "print(accuracy_score(test_values, test_predict_rf))"
   ]
  },
  {
   "cell_type": "markdown",
   "metadata": {
    "id": "9IZCLb3ndOte"
   },
   "source": [
    "Увеличение количества деревьев привело к улучшению результата, но от идеала он по-прежнему далек. В качестве альтернативы попробуем использовать аппарат искусственных нейронных сетей."
   ]
  },
  {
   "cell_type": "code",
   "execution_count": 20,
   "metadata": {
    "colab": {
     "base_uri": "https://localhost:8080/"
    },
    "id": "5f5wsRgb7uUP",
    "outputId": "fabdb0fc-c31f-425a-8d10-9ba07b2519bf"
   },
   "outputs": [
    {
     "name": "stdout",
     "output_type": "stream",
     "text": [
      "Epoch 1/5\n",
      "201/201 [==============================] - 2s 5ms/step - loss: 2444.7997 - accuracy: 0.6482 - val_loss: 20.0065 - val_accuracy: 0.8841\n",
      "Epoch 2/5\n",
      "201/201 [==============================] - 0s 2ms/step - loss: 28.2093 - accuracy: 0.8658 - val_loss: 9.0656 - val_accuracy: 0.8779\n",
      "Epoch 3/5\n",
      "201/201 [==============================] - 0s 2ms/step - loss: 15.2363 - accuracy: 0.8441 - val_loss: 9.3195 - val_accuracy: 0.8903\n",
      "Epoch 4/5\n",
      "201/201 [==============================] - 0s 2ms/step - loss: 26.8303 - accuracy: 0.8274 - val_loss: 7.8010 - val_accuracy: 0.6863\n",
      "Epoch 5/5\n",
      "201/201 [==============================] - 0s 2ms/step - loss: 16.8166 - accuracy: 0.8242 - val_loss: 6.5716 - val_accuracy: 0.7179\n",
      "Test-Accuracy: 0.8581114411354065\n"
     ]
    }
   ],
   "source": [
    "model = models.Sequential()\n",
    "\n",
    "model.add(layers.Dense(9, activation = \"relu\"))\n",
    "\n",
    "model.add(layers.Dense(15, activation = \"relu\"))\n",
    "\n",
    "model.add(layers.Dense(1, activation = \"sigmoid\"))\n",
    "\n",
    "model.compile(\n",
    " optimizer = \"adam\",\n",
    " loss = \"binary_crossentropy\",\n",
    " metrics = [\"accuracy\"]\n",
    ")\n",
    "results = model.fit(\n",
    " train_points, train_values,\n",
    " epochs= 5,\n",
    " batch_size = 1000,\n",
    " validation_data = (test_points, test_values)\n",
    ")\n",
    "print(\"Test-Accuracy:\", np.max(results.history[\"accuracy\"]))"
   ]
  },
  {
   "cell_type": "markdown",
   "metadata": {
    "id": "JN-tK0VAesVn"
   },
   "source": [
    "Данная модель демонстрирует крайнюю неустойчивость, так как при каждом запуске значение точности сильно разнится. Если мы уменьшим количество записей, обрабатываемых между корректировкой весов, то сможем получить более стабильный результат."
   ]
  },
  {
   "cell_type": "code",
   "execution_count": 21,
   "metadata": {
    "colab": {
     "base_uri": "https://localhost:8080/"
    },
    "id": "3kb81uUzfGks",
    "outputId": "3ad28bed-23b3-4aaf-b96d-578e15ef9769"
   },
   "outputs": [
    {
     "name": "stdout",
     "output_type": "stream",
     "text": [
      "Epoch 1/5\n",
      "2008/2008 [==============================] - 4s 2ms/step - loss: 310.6361 - accuracy: 0.8477 - val_loss: 114.1321 - val_accuracy: 0.8881\n",
      "Epoch 2/5\n",
      "2008/2008 [==============================] - 3s 1ms/step - loss: 54.1608 - accuracy: 0.8470 - val_loss: 42.8218 - val_accuracy: 0.5458\n",
      "Epoch 3/5\n",
      "2008/2008 [==============================] - 3s 1ms/step - loss: 11.9075 - accuracy: 0.8338 - val_loss: 15.1858 - val_accuracy: 0.8959\n",
      "Epoch 4/5\n",
      "2008/2008 [==============================] - 3s 1ms/step - loss: 15.8551 - accuracy: 0.8337 - val_loss: 29.2616 - val_accuracy: 0.8935\n",
      "Epoch 5/5\n",
      "2008/2008 [==============================] - 2s 1ms/step - loss: 20.1742 - accuracy: 0.8334 - val_loss: 9.0880 - val_accuracy: 0.8962\n",
      "Test-Accuracy: 0.842040479183197\n"
     ]
    }
   ],
   "source": [
    "model = models.Sequential()\n",
    "\n",
    "model.add(layers.Dense(9, activation = \"relu\"))\n",
    "\n",
    "model.add(layers.Dense(15, activation = \"relu\"))\n",
    "\n",
    "model.add(layers.Dense(1, activation = \"sigmoid\"))\n",
    "\n",
    "model.compile(\n",
    " optimizer = \"adam\",\n",
    " loss = \"binary_crossentropy\",\n",
    " metrics = [\"accuracy\"]\n",
    ")\n",
    "results = model.fit(\n",
    " train_points, train_values,\n",
    " epochs= 5,\n",
    " batch_size = 100,\n",
    " validation_data = (test_points, test_values)\n",
    ")\n",
    "print(\"Test-Accuracy:\", np.max(results.history[\"accuracy\"]))"
   ]
  },
  {
   "cell_type": "markdown",
   "metadata": {
    "id": "oaueJE4lfwJW"
   },
   "source": [
    "Для окончательного закрепления результата увеличим количество эпох обучения до 10, чтобы кривая обучения успевала сходиться."
   ]
  },
  {
   "cell_type": "code",
   "execution_count": 22,
   "metadata": {
    "colab": {
     "base_uri": "https://localhost:8080/"
    },
    "id": "o2hhm2U3dh7a",
    "outputId": "feb1cd58-ee1e-45d8-f723-e89ec1158990"
   },
   "outputs": [
    {
     "name": "stdout",
     "output_type": "stream",
     "text": [
      "Epoch 1/10\n",
      "2008/2008 [==============================] - 3s 1ms/step - loss: 210.6662 - accuracy: 0.8463 - val_loss: 96.2220 - val_accuracy: 0.3031\n",
      "Epoch 2/10\n",
      "2008/2008 [==============================] - 3s 1ms/step - loss: 35.4270 - accuracy: 0.8301 - val_loss: 93.9948 - val_accuracy: 0.8927\n",
      "Epoch 3/10\n",
      "2008/2008 [==============================] - 3s 1ms/step - loss: 44.7562 - accuracy: 0.8349 - val_loss: 21.9092 - val_accuracy: 0.8950\n",
      "Epoch 4/10\n",
      "2008/2008 [==============================] - 3s 1ms/step - loss: 35.6032 - accuracy: 0.8326 - val_loss: 100.7135 - val_accuracy: 0.8910\n",
      "Epoch 5/10\n",
      "2008/2008 [==============================] - 3s 1ms/step - loss: 113.1892 - accuracy: 0.8487 - val_loss: 9.7817 - val_accuracy: 0.8940\n",
      "Epoch 6/10\n",
      "2008/2008 [==============================] - 3s 1ms/step - loss: 29.6188 - accuracy: 0.8301 - val_loss: 34.4445 - val_accuracy: 0.8586\n",
      "Epoch 7/10\n",
      "2008/2008 [==============================] - 3s 1ms/step - loss: 75.9437 - accuracy: 0.8501 - val_loss: 20.5988 - val_accuracy: 0.8946\n",
      "Epoch 8/10\n",
      "2008/2008 [==============================] - 3s 1ms/step - loss: 38.0663 - accuracy: 0.8305 - val_loss: 27.6851 - val_accuracy: 0.7274\n",
      "Epoch 9/10\n",
      "2008/2008 [==============================] - 2s 1ms/step - loss: 40.9750 - accuracy: 0.8520 - val_loss: 12.0159 - val_accuracy: 0.8955\n",
      "Epoch 10/10\n",
      "2008/2008 [==============================] - 3s 1ms/step - loss: 131.0622 - accuracy: 0.8034 - val_loss: 29.9107 - val_accuracy: 0.4559\n",
      "Test-Accuracy: 0.8422895669937134\n"
     ]
    }
   ],
   "source": [
    "model = models.Sequential()\n",
    "\n",
    "model.add(layers.Dense(9, activation = \"relu\"))\n",
    "\n",
    "model.add(layers.Dense(15, activation = \"relu\"))\n",
    "\n",
    "model.add(layers.Dense(1, activation = \"sigmoid\"))\n",
    "\n",
    "model.compile(\n",
    " optimizer = \"adam\",\n",
    " loss = \"binary_crossentropy\",\n",
    " metrics = [\"accuracy\"]\n",
    ")\n",
    "results = model.fit(\n",
    " train_points, train_values,\n",
    " epochs= 10,\n",
    " batch_size = 100,\n",
    " validation_data = (test_points, test_values)\n",
    ")\n",
    "print(\"Test-Accuracy:\", np.max(results.history[\"accuracy\"]))"
   ]
  },
  {
   "cell_type": "markdown",
   "metadata": {
    "id": "4-f-lTiQgZtp"
   },
   "source": [
    "Попробуем ввести дополнительный скрытый слой в сеть, чтобы упростить задачу классификации выходному слою нейронов."
   ]
  },
  {
   "cell_type": "code",
   "execution_count": 23,
   "metadata": {
    "colab": {
     "base_uri": "https://localhost:8080/"
    },
    "id": "4xqrTDg_dhyq",
    "outputId": "a674211c-e3c8-4cf7-cd80-a6892d071e70"
   },
   "outputs": [
    {
     "name": "stdout",
     "output_type": "stream",
     "text": [
      "Epoch 1/10\n",
      "2008/2008 [==============================] - 4s 2ms/step - loss: 62.7066 - accuracy: 0.8338 - val_loss: 3.5245 - val_accuracy: 0.8930\n",
      "Epoch 2/10\n",
      "2008/2008 [==============================] - 3s 1ms/step - loss: 3.5671 - accuracy: 0.8339 - val_loss: 0.6537 - val_accuracy: 0.8962\n",
      "Epoch 3/10\n",
      "2008/2008 [==============================] - 3s 1ms/step - loss: 0.5044 - accuracy: 0.8980 - val_loss: 0.3490 - val_accuracy: 0.8962\n",
      "Epoch 4/10\n",
      "2008/2008 [==============================] - 3s 1ms/step - loss: 0.3369 - accuracy: 0.8988 - val_loss: 0.3335 - val_accuracy: 0.8962\n",
      "Epoch 5/10\n",
      "2008/2008 [==============================] - 3s 1ms/step - loss: 0.3265 - accuracy: 0.8994 - val_loss: 0.3334 - val_accuracy: 0.8962\n",
      "Epoch 6/10\n",
      "2008/2008 [==============================] - 3s 1ms/step - loss: 0.3281 - accuracy: 0.8986 - val_loss: 0.3334 - val_accuracy: 0.8962\n",
      "Epoch 7/10\n",
      "2008/2008 [==============================] - 3s 1ms/step - loss: 0.3299 - accuracy: 0.8978 - val_loss: 0.3334 - val_accuracy: 0.8962\n",
      "Epoch 8/10\n",
      "2008/2008 [==============================] - 3s 2ms/step - loss: 0.3284 - accuracy: 0.8985 - val_loss: 0.3334 - val_accuracy: 0.8962\n",
      "Epoch 9/10\n",
      "2008/2008 [==============================] - 3s 1ms/step - loss: 0.3292 - accuracy: 0.8981 - val_loss: 0.3334 - val_accuracy: 0.8962\n",
      "Epoch 10/10\n",
      "2008/2008 [==============================] - 3s 1ms/step - loss: 0.3291 - accuracy: 0.8982 - val_loss: 0.3334 - val_accuracy: 0.8962\n",
      "Test-Accuracy: 0.898433268070221\n"
     ]
    }
   ],
   "source": [
    "model = models.Sequential()\n",
    "\n",
    "model.add(layers.Dense(10, activation = \"relu\"))\n",
    "\n",
    "model.add(layers.Dense(15, activation = \"relu\"))\n",
    "\n",
    "model.add(layers.Dense(8, activation = \"relu\"))\n",
    "\n",
    "model.add(layers.Dense(1, activation = \"sigmoid\"))\n",
    "\n",
    "model.compile(\n",
    " optimizer = \"adam\",\n",
    " loss = \"binary_crossentropy\",\n",
    " metrics = [\"accuracy\"]\n",
    ")\n",
    "results = model.fit(\n",
    " train_points, train_values,\n",
    " epochs= 10,\n",
    " batch_size = 100,\n",
    " validation_data = (test_points, test_values)\n",
    ")\n",
    "print(\"Test-Accuracy:\", np.max(results.history[\"accuracy\"]))"
   ]
  },
  {
   "cell_type": "markdown",
   "metadata": {
    "id": "R9w7Jxx2hIzB"
   },
   "source": [
    "Благодаря уменьшению количества нейронов на предпоследнем слое, нейронная сеть смогла с большей точностью определять ключевые компоненты и учитывать их при вынесении вердикта о принадлежности объекта тому или иному классу."
   ]
  },
  {
   "cell_type": "markdown",
   "metadata": {
    "id": "BGYCATE6hE94"
   },
   "source": [
    "Ради интереса, попробуем ввести дополнительную метрику при обучении и оценим, насколька она меняет результат к лучшему."
   ]
  },
  {
   "cell_type": "code",
   "execution_count": 24,
   "metadata": {
    "id": "5MhLGgTndheJ"
   },
   "outputs": [],
   "source": [
    "from keras import backend\n",
    " \n",
    "def rmse(y_true, y_pred):\n",
    "\treturn backend.sqrt(backend.mean(backend.square(y_pred - y_true), axis=-1))"
   ]
  },
  {
   "cell_type": "code",
   "execution_count": 25,
   "metadata": {
    "colab": {
     "base_uri": "https://localhost:8080/"
    },
    "id": "-lETpJSrdhW4",
    "outputId": "6d257673-2f13-4d46-bb42-f2bd97ce2ffa"
   },
   "outputs": [
    {
     "name": "stdout",
     "output_type": "stream",
     "text": [
      "Epoch 1/10\n",
      "2008/2008 [==============================] - 4s 2ms/step - loss: 166.4272 - accuracy: 0.8386 - rmse: 0.1616 - val_loss: 10.3521 - val_accuracy: 0.8960 - val_rmse: 0.1040\n",
      "Epoch 2/10\n",
      "2008/2008 [==============================] - 3s 2ms/step - loss: 12.4207 - accuracy: 0.8350 - rmse: 0.1652 - val_loss: 10.4412 - val_accuracy: 0.8961 - val_rmse: 0.1040\n",
      "Epoch 3/10\n",
      "2008/2008 [==============================] - 3s 1ms/step - loss: 62.4232 - accuracy: 0.8266 - rmse: 0.1735 - val_loss: 1.7597 - val_accuracy: 0.8937 - val_rmse: 0.1066\n",
      "Epoch 4/10\n",
      "2008/2008 [==============================] - 3s 1ms/step - loss: 13.2213 - accuracy: 0.8319 - rmse: 0.1686 - val_loss: 3.5279 - val_accuracy: 0.8960 - val_rmse: 0.1040\n",
      "Epoch 5/10\n",
      "2008/2008 [==============================] - 3s 1ms/step - loss: 10.3281 - accuracy: 0.8304 - rmse: 0.1699 - val_loss: 3.3842 - val_accuracy: 0.8876 - val_rmse: 0.1091\n",
      "Epoch 6/10\n",
      "2008/2008 [==============================] - 3s 1ms/step - loss: 3.2682 - accuracy: 0.8361 - rmse: 0.1699 - val_loss: 35.8002 - val_accuracy: 0.8926 - val_rmse: 0.1147\n",
      "Epoch 7/10\n",
      "2008/2008 [==============================] - 3s 1ms/step - loss: 19.0472 - accuracy: 0.8399 - rmse: 0.1755 - val_loss: 43.4866 - val_accuracy: 0.8937 - val_rmse: 0.1307\n",
      "Epoch 8/10\n",
      "2008/2008 [==============================] - 3s 1ms/step - loss: 8.2816 - accuracy: 0.8688 - rmse: 0.1733 - val_loss: 0.3199 - val_accuracy: 0.8952 - val_rmse: 0.1455\n",
      "Epoch 9/10\n",
      "2008/2008 [==============================] - 3s 1ms/step - loss: 5.0198 - accuracy: 0.8920 - rmse: 0.1719 - val_loss: 22.1787 - val_accuracy: 0.8958 - val_rmse: 0.1831\n",
      "Epoch 10/10\n",
      "2008/2008 [==============================] - 4s 2ms/step - loss: 2.3239 - accuracy: 0.8978 - rmse: 0.1822 - val_loss: 33.9394 - val_accuracy: 0.8958 - val_rmse: 0.1824\n",
      "Test-Accuracy: 0.8980745673179626\n"
     ]
    }
   ],
   "source": [
    "model = models.Sequential()\n",
    "\n",
    "model.add(layers.Dense(10, activation = \"relu\"))\n",
    "\n",
    "model.add(layers.Dense(15, activation = \"relu\"))\n",
    "\n",
    "model.add(layers.Dense(8, activation = \"relu\"))\n",
    "\n",
    "model.add(layers.Dense(1, activation = \"sigmoid\"))\n",
    "\n",
    "model.compile(\n",
    " optimizer = \"adam\",\n",
    " loss = \"binary_crossentropy\",\n",
    " metrics = [\"accuracy\", rmse]\n",
    ")\n",
    "results = model.fit(\n",
    " train_points, train_values,\n",
    " epochs= 10,\n",
    " batch_size = 100,\n",
    " validation_data = (test_points, test_values)\n",
    ")\n",
    "print(\"Test-Accuracy:\", np.max(results.history[\"accuracy\"]))"
   ]
  },
  {
   "cell_type": "markdown",
   "metadata": {
    "id": "c4053Qb1iQN0"
   },
   "source": [
    "Введение дополнительных метрик в процесс обучения может положительно сказаться на результате, но необходимо четко понимать назначение той или иной метрики. Для бинарного классификатора наиболее подходящей будет f-мера."
   ]
  },
  {
   "cell_type": "markdown",
   "metadata": {
    "id": "MjRgUTG5irC0"
   },
   "source": [
    "Кроме работы непосредственно с моделями и их составляющими, можно попробовать преобразовать данные для их лучшей интерпретируемости системой. В данном случае, поле года выпуска автомобиля имеет плохую форму распределения."
   ]
  },
  {
   "cell_type": "code",
   "execution_count": 26,
   "metadata": {
    "colab": {
     "base_uri": "https://localhost:8080/",
     "height": 282
    },
    "id": "qzgg6ygKdhQW",
    "outputId": "b949c0ab-c873-4418-97c7-51856918e735"
   },
   "outputs": [
    {
     "data": {
      "text/plain": [
       "<matplotlib.axes._subplots.AxesSubplot at 0x20db9f3f548>"
      ]
     },
     "execution_count": 26,
     "metadata": {},
     "output_type": "execute_result"
    },
    {
     "data": {
      "image/png": "[encoded data removed]",
      "text/plain": [
       "<Figure size 432x288 with 1 Axes>"
      ]
     },
     "metadata": {
      "needs_background": "light"
     },
     "output_type": "display_data"
    }
   ],
   "source": [
    "df['yearOfRegistration'].hist()"
   ]
  },
  {
   "cell_type": "markdown",
   "metadata": {
    "id": "5d27dScijYee"
   },
   "source": [
    "Введем вместо него поле с возрастом."
   ]
  },
  {
   "cell_type": "code",
   "execution_count": 27,
   "metadata": {
    "colab": {
     "base_uri": "https://localhost:8080/",
     "height": 204
    },
    "id": "9plQxUKWdhJM",
    "outputId": "7deaee49-b4a6-4dd2-cd5c-3f291dea004d"
   },
   "outputs": [
    {
     "data": {
      "text/html": [
       "<div>\n",
       "<style scoped>\n",
       "    .dataframe tbody tr th:only-of-type {\n",
       "        vertical-align: middle;\n",
       "    }\n",
       "\n",
       "    .dataframe tbody tr th {\n",
       "        vertical-align: top;\n",
       "    }\n",
       "\n",
       "    .dataframe thead th {\n",
       "        text-align: right;\n",
       "    }\n",
       "</style>\n",
       "<table border=\"1\" class=\"dataframe\">\n",
       "  <thead>\n",
       "    <tr style=\"text-align: right;\">\n",
       "      <th></th>\n",
       "      <th>price</th>\n",
       "      <th>vehicleType</th>\n",
       "      <th>gearbox</th>\n",
       "      <th>powerPS</th>\n",
       "      <th>model</th>\n",
       "      <th>kilometer</th>\n",
       "      <th>fuelType</th>\n",
       "      <th>brand</th>\n",
       "      <th>notRepairedDamage</th>\n",
       "      <th>age</th>\n",
       "    </tr>\n",
       "  </thead>\n",
       "  <tbody>\n",
       "    <tr>\n",
       "      <th>0</th>\n",
       "      <td>1500</td>\n",
       "      <td>0</td>\n",
       "      <td>0</td>\n",
       "      <td>75</td>\n",
       "      <td>0</td>\n",
       "      <td>150000</td>\n",
       "      <td>0</td>\n",
       "      <td>0</td>\n",
       "      <td>0</td>\n",
       "      <td>16</td>\n",
       "    </tr>\n",
       "    <tr>\n",
       "      <th>1</th>\n",
       "      <td>3600</td>\n",
       "      <td>0</td>\n",
       "      <td>0</td>\n",
       "      <td>69</td>\n",
       "      <td>1</td>\n",
       "      <td>90000</td>\n",
       "      <td>1</td>\n",
       "      <td>1</td>\n",
       "      <td>0</td>\n",
       "      <td>9</td>\n",
       "    </tr>\n",
       "    <tr>\n",
       "      <th>2</th>\n",
       "      <td>650</td>\n",
       "      <td>1</td>\n",
       "      <td>0</td>\n",
       "      <td>102</td>\n",
       "      <td>2</td>\n",
       "      <td>150000</td>\n",
       "      <td>0</td>\n",
       "      <td>2</td>\n",
       "      <td>1</td>\n",
       "      <td>22</td>\n",
       "    </tr>\n",
       "    <tr>\n",
       "      <th>3</th>\n",
       "      <td>2200</td>\n",
       "      <td>2</td>\n",
       "      <td>0</td>\n",
       "      <td>109</td>\n",
       "      <td>3</td>\n",
       "      <td>150000</td>\n",
       "      <td>0</td>\n",
       "      <td>3</td>\n",
       "      <td>0</td>\n",
       "      <td>13</td>\n",
       "    </tr>\n",
       "    <tr>\n",
       "      <th>4</th>\n",
       "      <td>0</td>\n",
       "      <td>1</td>\n",
       "      <td>0</td>\n",
       "      <td>50</td>\n",
       "      <td>4</td>\n",
       "      <td>40000</td>\n",
       "      <td>0</td>\n",
       "      <td>0</td>\n",
       "      <td>0</td>\n",
       "      <td>37</td>\n",
       "    </tr>\n",
       "  </tbody>\n",
       "</table>\n",
       "</div>"
      ],
      "text/plain": [
       "   price  vehicleType  gearbox  powerPS  model  kilometer  fuelType  brand  \\\n",
       "0   1500            0        0       75      0     150000         0      0   \n",
       "1   3600            0        0       69      1      90000         1      1   \n",
       "2    650            1        0      102      2     150000         0      2   \n",
       "3   2200            2        0      109      3     150000         0      3   \n",
       "4      0            1        0       50      4      40000         0      0   \n",
       "\n",
       "   notRepairedDamage  age  \n",
       "0                  0   16  \n",
       "1                  0    9  \n",
       "2                  1   22  \n",
       "3                  0   13  \n",
       "4                  0   37  "
      ]
     },
     "execution_count": 27,
     "metadata": {},
     "output_type": "execute_result"
    }
   ],
   "source": [
    "df['age'] = 2017 - df['yearOfRegistration']\n",
    "del df['yearOfRegistration']\n",
    "df.head()"
   ]
  },
  {
   "cell_type": "code",
   "execution_count": 28,
   "metadata": {
    "id": "cvNWddQTdhCW"
   },
   "outputs": [],
   "source": [
    "values = df['notRepairedDamage']\n",
    "points = df.drop(['notRepairedDamage'], axis=1)\n",
    "train_points, test_points, train_values, test_values = train_test_split(points, values, test_size = 0.2)"
   ]
  },
  {
   "cell_type": "code",
   "execution_count": 29,
   "metadata": {
    "colab": {
     "base_uri": "https://localhost:8080/"
    },
    "id": "UeObLAhddg7b",
    "outputId": "ffd6c01a-e9a9-451b-909a-3bc856bc41b2"
   },
   "outputs": [
    {
     "name": "stdout",
     "output_type": "stream",
     "text": [
      "0.9061653116531165\n"
     ]
    }
   ],
   "source": [
    "rf_model = ensemble.RandomForestClassifier(n_estimators=100)\n",
    "rf_model.fit(train_points, train_values)\n",
    "test_predict_rf = rf_model.predict(test_points)\n",
    "print(accuracy_score(test_values, test_predict_rf))"
   ]
  },
  {
   "cell_type": "code",
   "execution_count": 30,
   "metadata": {
    "colab": {
     "base_uri": "https://localhost:8080/"
    },
    "id": "WoAvXQMadg1C",
    "outputId": "060cebae-5161-4bb3-f42a-d7b81d0b866b"
   },
   "outputs": [
    {
     "name": "stdout",
     "output_type": "stream",
     "text": [
      "Epoch 1/10\n",
      "2008/2008 [==============================] - 3s 1ms/step - loss: 84.1177 - accuracy: 0.8891 - val_loss: 0.3767 - val_accuracy: 0.8985\n",
      "Epoch 2/10\n",
      "2008/2008 [==============================] - 3s 1ms/step - loss: 0.3560 - accuracy: 0.8974 - val_loss: 0.3293 - val_accuracy: 0.8985\n",
      "Epoch 3/10\n",
      "2008/2008 [==============================] - 3s 1ms/step - loss: 0.3309 - accuracy: 0.8975 - val_loss: 0.3283 - val_accuracy: 0.8985\n",
      "Epoch 4/10\n",
      "2008/2008 [==============================] - 3s 1ms/step - loss: 0.3329 - accuracy: 0.8964 - val_loss: 0.3283 - val_accuracy: 0.8985\n",
      "Epoch 5/10\n",
      "2008/2008 [==============================] - 3s 1ms/step - loss: 0.3263 - accuracy: 0.8994 - val_loss: 0.3284 - val_accuracy: 0.8985\n",
      "Epoch 6/10\n",
      "2008/2008 [==============================] - 3s 1ms/step - loss: 0.3286 - accuracy: 0.8984 - val_loss: 0.3283 - val_accuracy: 0.8985\n",
      "Epoch 7/10\n",
      "2008/2008 [==============================] - 3s 1ms/step - loss: 0.3291 - accuracy: 0.8981 - val_loss: 0.3283 - val_accuracy: 0.8985\n",
      "Epoch 8/10\n",
      "2008/2008 [==============================] - 3s 1ms/step - loss: 0.3316 - accuracy: 0.8970 - val_loss: 0.3283 - val_accuracy: 0.8985\n",
      "Epoch 9/10\n",
      "2008/2008 [==============================] - 3s 1ms/step - loss: 0.3283 - accuracy: 0.8985 - val_loss: 0.3283 - val_accuracy: 0.8985\n",
      "Epoch 10/10\n",
      "2008/2008 [==============================] - 3s 1ms/step - loss: 0.3296 - accuracy: 0.8979 - val_loss: 0.3283 - val_accuracy: 0.8985\n",
      "Test-Accuracy: 0.8978554010391235\n"
     ]
    }
   ],
   "source": [
    "model = models.Sequential()\n",
    "\n",
    "model.add(layers.Dense(9, activation = \"relu\"))\n",
    "\n",
    "model.add(layers.Dense(15, activation = \"relu\"))\n",
    "\n",
    "model.add(layers.Dense(8, activation = \"relu\"))\n",
    "\n",
    "model.add(layers.Dense(1, activation = \"sigmoid\"))\n",
    "\n",
    "model.compile(\n",
    " optimizer = \"adam\",\n",
    " loss = \"binary_crossentropy\",\n",
    " metrics = [\"accuracy\"]\n",
    ")\n",
    "results = model.fit(\n",
    " train_points, train_values,\n",
    " epochs= 10,\n",
    " batch_size = 100,\n",
    " validation_data = (test_points, test_values)\n",
    ")\n",
    "print(\"Test-Accuracy:\", np.max(results.history[\"accuracy\"]))"
   ]
  },
  {
   "cell_type": "markdown",
   "metadata": {
    "id": "cxnUB-WVlwi4"
   },
   "source": [
    "Для обеих моделей мы получили увеличение точности. Попробуем пойти еще немного дальше, объединив два поля в одно. Такой подход называют уменьшением размерности, так как он позволяет работать с входным вектором меньшего размера."
   ]
  },
  {
   "cell_type": "code",
   "execution_count": 31,
   "metadata": {
    "id": "K0CDYsr27uRK"
   },
   "outputs": [],
   "source": [
    "df['intence'] = df['kilometer']/df['age']\n",
    "del df['kilometer']\n",
    "del df['age']"
   ]
  },
  {
   "cell_type": "code",
   "execution_count": 32,
   "metadata": {
    "id": "hSqD64_b7uAB"
   },
   "outputs": [],
   "source": [
    "values = df['notRepairedDamage']\n",
    "points = df.drop(['notRepairedDamage'], axis=1)\n",
    "train_points, test_points, train_values, test_values = train_test_split(points, values, test_size = 0.2)"
   ]
  },
  {
   "cell_type": "code",
   "execution_count": 33,
   "metadata": {
    "colab": {
     "base_uri": "https://localhost:8080/"
    },
    "id": "uNZe4mtKmF6s",
    "outputId": "ba0b3590-8e06-4031-d0e2-c23aa954dcf2"
   },
   "outputs": [
    {
     "ename": "ValueError",
     "evalue": "Input contains NaN, infinity or a value too large for dtype('float32').",
     "output_type": "error",
     "traceback": [
      "\u001b[1;31m---------------------------------------------------------------------------\u001b[0m",
      "\u001b[1;31mValueError\u001b[0m                                Traceback (most recent call last)",
      "\u001b[1;32m<ipython-input-33-4c89591c4e22>\u001b[0m in \u001b[0;36m<module>\u001b[1;34m\u001b[0m\n\u001b[0;32m      1\u001b[0m \u001b[0mrf_model\u001b[0m \u001b[1;33m=\u001b[0m \u001b[0mensemble\u001b[0m\u001b[1;33m.\u001b[0m\u001b[0mRandomForestClassifier\u001b[0m\u001b[1;33m(\u001b[0m\u001b[0mn_estimators\u001b[0m\u001b[1;33m=\u001b[0m\u001b[1;36m100\u001b[0m\u001b[1;33m)\u001b[0m\u001b[1;33m\u001b[0m\u001b[1;33m\u001b[0m\u001b[0m\n\u001b[1;32m----> 2\u001b[1;33m \u001b[0mrf_model\u001b[0m\u001b[1;33m.\u001b[0m\u001b[0mfit\u001b[0m\u001b[1;33m(\u001b[0m\u001b[0mtrain_points\u001b[0m\u001b[1;33m,\u001b[0m \u001b[0mtrain_values\u001b[0m\u001b[1;33m)\u001b[0m\u001b[1;33m\u001b[0m\u001b[1;33m\u001b[0m\u001b[0m\n\u001b[0m\u001b[0;32m      3\u001b[0m \u001b[0mtest_predict_rf\u001b[0m \u001b[1;33m=\u001b[0m \u001b[0mrf_model\u001b[0m\u001b[1;33m.\u001b[0m\u001b[0mpredict\u001b[0m\u001b[1;33m(\u001b[0m\u001b[0mtest_points\u001b[0m\u001b[1;33m)\u001b[0m\u001b[1;33m\u001b[0m\u001b[1;33m\u001b[0m\u001b[0m\n\u001b[0;32m      4\u001b[0m \u001b[0mprint\u001b[0m\u001b[1;33m(\u001b[0m\u001b[0maccuracy_score\u001b[0m\u001b[1;33m(\u001b[0m\u001b[0mtest_values\u001b[0m\u001b[1;33m,\u001b[0m \u001b[0mtest_predict_rf\u001b[0m\u001b[1;33m)\u001b[0m\u001b[1;33m)\u001b[0m\u001b[1;33m\u001b[0m\u001b[1;33m\u001b[0m\u001b[0m\n",
      "\u001b[1;32mc:\\users\\starover\\envs\\datascience\\lib\\site-packages\\sklearn\\ensemble\\_forest.py\u001b[0m in \u001b[0;36mfit\u001b[1;34m(self, X, y, sample_weight)\u001b[0m\n\u001b[0;32m    303\u001b[0m             )\n\u001b[0;32m    304\u001b[0m         X, y = self._validate_data(X, y, multi_output=True,\n\u001b[1;32m--> 305\u001b[1;33m                                    accept_sparse=\"csc\", dtype=DTYPE)\n\u001b[0m\u001b[0;32m    306\u001b[0m         \u001b[1;32mif\u001b[0m \u001b[0msample_weight\u001b[0m \u001b[1;32mis\u001b[0m \u001b[1;32mnot\u001b[0m \u001b[1;32mNone\u001b[0m\u001b[1;33m:\u001b[0m\u001b[1;33m\u001b[0m\u001b[1;33m\u001b[0m\u001b[0m\n\u001b[0;32m    307\u001b[0m             \u001b[0msample_weight\u001b[0m \u001b[1;33m=\u001b[0m \u001b[0m_check_sample_weight\u001b[0m\u001b[1;33m(\u001b[0m\u001b[0msample_weight\u001b[0m\u001b[1;33m,\u001b[0m \u001b[0mX\u001b[0m\u001b[1;33m)\u001b[0m\u001b[1;33m\u001b[0m\u001b[1;33m\u001b[0m\u001b[0m\n",
      "\u001b[1;32mc:\\users\\starover\\envs\\datascience\\lib\\site-packages\\sklearn\\base.py\u001b[0m in \u001b[0;36m_validate_data\u001b[1;34m(self, X, y, reset, validate_separately, **check_params)\u001b[0m\n\u001b[0;32m    431\u001b[0m                 \u001b[0my\u001b[0m \u001b[1;33m=\u001b[0m \u001b[0mcheck_array\u001b[0m\u001b[1;33m(\u001b[0m\u001b[0my\u001b[0m\u001b[1;33m,\u001b[0m \u001b[1;33m**\u001b[0m\u001b[0mcheck_y_params\u001b[0m\u001b[1;33m)\u001b[0m\u001b[1;33m\u001b[0m\u001b[1;33m\u001b[0m\u001b[0m\n\u001b[0;32m    432\u001b[0m             \u001b[1;32melse\u001b[0m\u001b[1;33m:\u001b[0m\u001b[1;33m\u001b[0m\u001b[1;33m\u001b[0m\u001b[0m\n\u001b[1;32m--> 433\u001b[1;33m                 \u001b[0mX\u001b[0m\u001b[1;33m,\u001b[0m \u001b[0my\u001b[0m \u001b[1;33m=\u001b[0m \u001b[0mcheck_X_y\u001b[0m\u001b[1;33m(\u001b[0m\u001b[0mX\u001b[0m\u001b[1;33m,\u001b[0m \u001b[0my\u001b[0m\u001b[1;33m,\u001b[0m \u001b[1;33m**\u001b[0m\u001b[0mcheck_params\u001b[0m\u001b[1;33m)\u001b[0m\u001b[1;33m\u001b[0m\u001b[1;33m\u001b[0m\u001b[0m\n\u001b[0m\u001b[0;32m    434\u001b[0m             \u001b[0mout\u001b[0m \u001b[1;33m=\u001b[0m \u001b[0mX\u001b[0m\u001b[1;33m,\u001b[0m \u001b[0my\u001b[0m\u001b[1;33m\u001b[0m\u001b[1;33m\u001b[0m\u001b[0m\n\u001b[0;32m    435\u001b[0m \u001b[1;33m\u001b[0m\u001b[0m\n",
      "\u001b[1;32mc:\\users\\starover\\envs\\datascience\\lib\\site-packages\\sklearn\\utils\\validation.py\u001b[0m in \u001b[0;36minner_f\u001b[1;34m(*args, **kwargs)\u001b[0m\n\u001b[0;32m     61\u001b[0m             \u001b[0mextra_args\u001b[0m \u001b[1;33m=\u001b[0m \u001b[0mlen\u001b[0m\u001b[1;33m(\u001b[0m\u001b[0margs\u001b[0m\u001b[1;33m)\u001b[0m \u001b[1;33m-\u001b[0m \u001b[0mlen\u001b[0m\u001b[1;33m(\u001b[0m\u001b[0mall_args\u001b[0m\u001b[1;33m)\u001b[0m\u001b[1;33m\u001b[0m\u001b[1;33m\u001b[0m\u001b[0m\n\u001b[0;32m     62\u001b[0m             \u001b[1;32mif\u001b[0m \u001b[0mextra_args\u001b[0m \u001b[1;33m<=\u001b[0m \u001b[1;36m0\u001b[0m\u001b[1;33m:\u001b[0m\u001b[1;33m\u001b[0m\u001b[1;33m\u001b[0m\u001b[0m\n\u001b[1;32m---> 63\u001b[1;33m                 \u001b[1;32mreturn\u001b[0m \u001b[0mf\u001b[0m\u001b[1;33m(\u001b[0m\u001b[1;33m*\u001b[0m\u001b[0margs\u001b[0m\u001b[1;33m,\u001b[0m \u001b[1;33m**\u001b[0m\u001b[0mkwargs\u001b[0m\u001b[1;33m)\u001b[0m\u001b[1;33m\u001b[0m\u001b[1;33m\u001b[0m\u001b[0m\n\u001b[0m\u001b[0;32m     64\u001b[0m \u001b[1;33m\u001b[0m\u001b[0m\n\u001b[0;32m     65\u001b[0m             \u001b[1;31m# extra_args > 0\u001b[0m\u001b[1;33m\u001b[0m\u001b[1;33m\u001b[0m\u001b[1;33m\u001b[0m\u001b[0m\n",
      "\u001b[1;32mc:\\users\\starover\\envs\\datascience\\lib\\site-packages\\sklearn\\utils\\validation.py\u001b[0m in \u001b[0;36mcheck_X_y\u001b[1;34m(X, y, accept_sparse, accept_large_sparse, dtype, order, copy, force_all_finite, ensure_2d, allow_nd, multi_output, ensure_min_samples, ensure_min_features, y_numeric, estimator)\u001b[0m\n\u001b[0;32m    819\u001b[0m                     \u001b[0mensure_min_samples\u001b[0m\u001b[1;33m=\u001b[0m\u001b[0mensure_min_samples\u001b[0m\u001b[1;33m,\u001b[0m\u001b[1;33m\u001b[0m\u001b[1;33m\u001b[0m\u001b[0m\n\u001b[0;32m    820\u001b[0m                     \u001b[0mensure_min_features\u001b[0m\u001b[1;33m=\u001b[0m\u001b[0mensure_min_features\u001b[0m\u001b[1;33m,\u001b[0m\u001b[1;33m\u001b[0m\u001b[1;33m\u001b[0m\u001b[0m\n\u001b[1;32m--> 821\u001b[1;33m                     estimator=estimator)\n\u001b[0m\u001b[0;32m    822\u001b[0m     \u001b[1;32mif\u001b[0m \u001b[0mmulti_output\u001b[0m\u001b[1;33m:\u001b[0m\u001b[1;33m\u001b[0m\u001b[1;33m\u001b[0m\u001b[0m\n\u001b[0;32m    823\u001b[0m         y = check_array(y, accept_sparse='csr', force_all_finite=True,\n",
      "\u001b[1;32mc:\\users\\starover\\envs\\datascience\\lib\\site-packages\\sklearn\\utils\\validation.py\u001b[0m in \u001b[0;36minner_f\u001b[1;34m(*args, **kwargs)\u001b[0m\n\u001b[0;32m     61\u001b[0m             \u001b[0mextra_args\u001b[0m \u001b[1;33m=\u001b[0m \u001b[0mlen\u001b[0m\u001b[1;33m(\u001b[0m\u001b[0margs\u001b[0m\u001b[1;33m)\u001b[0m \u001b[1;33m-\u001b[0m \u001b[0mlen\u001b[0m\u001b[1;33m(\u001b[0m\u001b[0mall_args\u001b[0m\u001b[1;33m)\u001b[0m\u001b[1;33m\u001b[0m\u001b[1;33m\u001b[0m\u001b[0m\n\u001b[0;32m     62\u001b[0m             \u001b[1;32mif\u001b[0m \u001b[0mextra_args\u001b[0m \u001b[1;33m<=\u001b[0m \u001b[1;36m0\u001b[0m\u001b[1;33m:\u001b[0m\u001b[1;33m\u001b[0m\u001b[1;33m\u001b[0m\u001b[0m\n\u001b[1;32m---> 63\u001b[1;33m                 \u001b[1;32mreturn\u001b[0m \u001b[0mf\u001b[0m\u001b[1;33m(\u001b[0m\u001b[1;33m*\u001b[0m\u001b[0margs\u001b[0m\u001b[1;33m,\u001b[0m \u001b[1;33m**\u001b[0m\u001b[0mkwargs\u001b[0m\u001b[1;33m)\u001b[0m\u001b[1;33m\u001b[0m\u001b[1;33m\u001b[0m\u001b[0m\n\u001b[0m\u001b[0;32m     64\u001b[0m \u001b[1;33m\u001b[0m\u001b[0m\n\u001b[0;32m     65\u001b[0m             \u001b[1;31m# extra_args > 0\u001b[0m\u001b[1;33m\u001b[0m\u001b[1;33m\u001b[0m\u001b[1;33m\u001b[0m\u001b[0m\n",
      "\u001b[1;32mc:\\users\\starover\\envs\\datascience\\lib\\site-packages\\sklearn\\utils\\validation.py\u001b[0m in \u001b[0;36mcheck_array\u001b[1;34m(array, accept_sparse, accept_large_sparse, dtype, order, copy, force_all_finite, ensure_2d, allow_nd, ensure_min_samples, ensure_min_features, estimator)\u001b[0m\n\u001b[0;32m    662\u001b[0m         \u001b[1;32mif\u001b[0m \u001b[0mforce_all_finite\u001b[0m\u001b[1;33m:\u001b[0m\u001b[1;33m\u001b[0m\u001b[1;33m\u001b[0m\u001b[0m\n\u001b[0;32m    663\u001b[0m             _assert_all_finite(array,\n\u001b[1;32m--> 664\u001b[1;33m                                allow_nan=force_all_finite == 'allow-nan')\n\u001b[0m\u001b[0;32m    665\u001b[0m \u001b[1;33m\u001b[0m\u001b[0m\n\u001b[0;32m    666\u001b[0m     \u001b[1;32mif\u001b[0m \u001b[0mensure_min_samples\u001b[0m \u001b[1;33m>\u001b[0m \u001b[1;36m0\u001b[0m\u001b[1;33m:\u001b[0m\u001b[1;33m\u001b[0m\u001b[1;33m\u001b[0m\u001b[0m\n",
      "\u001b[1;32mc:\\users\\starover\\envs\\datascience\\lib\\site-packages\\sklearn\\utils\\validation.py\u001b[0m in \u001b[0;36m_assert_all_finite\u001b[1;34m(X, allow_nan, msg_dtype)\u001b[0m\n\u001b[0;32m    104\u001b[0m                     \u001b[0mmsg_err\u001b[0m\u001b[1;33m.\u001b[0m\u001b[0mformat\u001b[0m\u001b[1;33m\u001b[0m\u001b[1;33m\u001b[0m\u001b[0m\n\u001b[0;32m    105\u001b[0m                     (type_err,\n\u001b[1;32m--> 106\u001b[1;33m                      msg_dtype if msg_dtype is not None else X.dtype)\n\u001b[0m\u001b[0;32m    107\u001b[0m             )\n\u001b[0;32m    108\u001b[0m     \u001b[1;31m# for object dtype data, we only check for NaNs (GH-13254)\u001b[0m\u001b[1;33m\u001b[0m\u001b[1;33m\u001b[0m\u001b[1;33m\u001b[0m\u001b[0m\n",
      "\u001b[1;31mValueError\u001b[0m: Input contains NaN, infinity or a value too large for dtype('float32')."
     ]
    }
   ],
   "source": [
    "rf_model = ensemble.RandomForestClassifier(n_estimators=100)\n",
    "rf_model.fit(train_points, train_values)\n",
    "test_predict_rf = rf_model.predict(test_points)\n",
    "print(accuracy_score(test_values, test_predict_rf))"
   ]
  },
  {
   "cell_type": "code",
   "execution_count": null,
   "metadata": {
    "colab": {
     "base_uri": "https://localhost:8080/"
    },
    "id": "shdOPk4-mFyY",
    "outputId": "538d8792-78f3-4021-947b-ca30381399e2"
   },
   "outputs": [],
   "source": [
    "model = models.Sequential()\n",
    "\n",
    "model.add(layers.Dense(8, activation = \"relu\"))\n",
    "\n",
    "model.add(layers.Dense(15, activation = \"relu\"))\n",
    "\n",
    "model.add(layers.Dense(8, activation = \"relu\"))\n",
    "\n",
    "model.add(layers.Dense(1, activation = \"sigmoid\"))\n",
    "\n",
    "model.compile(\n",
    " optimizer = \"adam\",\n",
    " loss = \"binary_crossentropy\",\n",
    " metrics = [\"accuracy\"]\n",
    ")\n",
    "results = model.fit(\n",
    " train_points, train_values,\n",
    " epochs= 10,\n",
    " batch_size = 100,\n",
    " validation_data = (test_points, test_values)\n",
    ")\n",
    "print(\"Test-Accuracy:\", np.max(results.history[\"accuracy\"]))"
   ]
  },
  {
   "cell_type": "markdown",
   "metadata": {
    "id": "qn-4fZI-m3yS"
   },
   "source": [
    "Умменьшение размерности нашего входного вектора не привело к улучшению общей картины. Не всегда одни и те же шаги приводят к одному и тому же результату. Из-за специфики датасета действенность метода может очень сильно варьироваться."
   ]
  },
  {
   "cell_type": "markdown",
   "metadata": {
    "id": "YZQUmVgOnalf"
   },
   "source": [
    "## Построение бинарного классификатора (Практическая часть)"
   ]
  },
  {
   "cell_type": "markdown",
   "metadata": {
    "id": "pcIGfl08n7k0"
   },
   "source": [
    "Вашим заданием в данной лабораторной будет построение бинарного классификатора для определения пола человека, пользуещегося смартфоном. Данное задание основано на данном датасете с kaggle (https://www.kaggle.com/pwang001/user-package-information-of-mobile-operators)."
   ]
  },
  {
   "cell_type": "markdown",
   "metadata": {
    "id": "LlwIUSy6o4v2"
   },
   "source": [
    "**Ограничения по реализации:**"
   ]
  },
  {
   "cell_type": "markdown",
   "metadata": {
    "id": "rXEqdt97pJgq"
   },
   "source": [
    "*Случайный лес*: не более 100 деревьев."
   ]
  },
  {
   "cell_type": "markdown",
   "metadata": {
    "id": "iL-Do1xXpPOa"
   },
   "source": [
    "*Нейронные сети*: не более трех скрытых слоев, не более 20 нейронов на одном слое. "
   ]
  },
  {
   "cell_type": "markdown",
   "metadata": {
    "id": "OZx77WU3pbOD"
   },
   "source": [
    "**Даже при использовании собственных метрик в процессе обучения. Итоговая оценка должна производиться по метрике *Accuracy*.**"
   ]
  },
  {
   "cell_type": "code",
   "execution_count": null,
   "metadata": {
    "id": "MpFkemVmmFq4"
   },
   "outputs": [],
   "source": [
    "%%capture\n",
    "!wget https://www.dropbox.com/s/5b6o99k5ko6cr1r/train_1.csv\n",
    "!wget https://www.dropbox.com/s/br8m56fomdxs7lw/train_2.csv\n",
    "!wget https://www.dropbox.com/s/xmw5shslewwfi0n/test_1.csv\n",
    "!wget https://www.dropbox.com/s/uxxc48au1zclpu2/test_2.csv"
   ]
  },
  {
   "cell_type": "markdown",
   "metadata": {},
   "source": [
    "### Загрузка данных"
   ]
  },
  {
   "cell_type": "code",
   "execution_count": 78,
   "metadata": {},
   "outputs": [],
   "source": [
    "df1_train = pd.read_csv('train_1.csv')\n",
    "#df2_train = pd.read_csv('train_2.csv')\n",
    "#df_train = pd.concat([df1_train, df2_train])\n",
    "df_train = df1_train\n",
    "\n",
    "\n",
    "#df1_test = pd.read_csv('test_1.csv')\n",
    "#df2_test = pd.read_csv('test_1.csv')\n",
    "#df_test = pd.concat([df1_test, df2_test])\n",
    "\n",
    "#dfs = [df_train, df_test]\n",
    "dfs = [df_train]\n",
    "\n",
    "\n",
    "n = df_train['gender'].unique()[-1]\n",
    "\n",
    "for df in dfs:\n",
    "    df.drop('user_id', axis=1, inplace=True)\n",
    "    df.drop('former_complaint_fee', axis=1, inplace=True) #???\n",
    "    \n",
    "    df.drop(df[df['gender'] == n].index, inplace=True)\n",
    "    df.drop(df[df['age'] == n].index, inplace=True)\n",
    "    df.drop(df[df['2_total_fee'] == n].index, inplace=True)\n",
    "    df.drop(df[df['3_total_fee'] == n].index, inplace=True)\n",
    "    \n",
    "    df['2_total_fee'] = df['2_total_fee'].astype('float64')\n",
    "    df['3_total_fee'] = df['2_total_fee'].astype('float64')\n",
    "    \n",
    "    df.drop(df[df['gender'] == 0].index, inplace=True)\n",
    "    df.drop(df[df['gender'] == '0'].index, inplace=True)\n",
    "    df.drop(df[df['gender'] == '00'].index, inplace=True)\n",
    "    \n",
    "    df['gender'] = df['gender'].astype('int')\n",
    "    df['age'] = df['age'].astype('int')\n",
    "    \n",
    "df_train = dfs[0]\n",
    "#df_test = dfs[1]"
   ]
  },
  {
   "cell_type": "code",
   "execution_count": 79,
   "metadata": {
    "scrolled": false
   },
   "outputs": [
    {
     "data": {
      "text/html": [
       "<div>\n",
       "<style scoped>\n",
       "    .dataframe tbody tr th:only-of-type {\n",
       "        vertical-align: middle;\n",
       "    }\n",
       "\n",
       "    .dataframe tbody tr th {\n",
       "        vertical-align: top;\n",
       "    }\n",
       "\n",
       "    .dataframe thead th {\n",
       "        text-align: right;\n",
       "    }\n",
       "</style>\n",
       "<table border=\"1\" class=\"dataframe\">\n",
       "  <thead>\n",
       "    <tr style=\"text-align: right;\">\n",
       "      <th></th>\n",
       "      <th>service_type</th>\n",
       "      <th>is_mix_service</th>\n",
       "      <th>online_time</th>\n",
       "      <th>1_total_fee</th>\n",
       "      <th>2_total_fee</th>\n",
       "      <th>3_total_fee</th>\n",
       "      <th>4_total_fee</th>\n",
       "      <th>month_traffic</th>\n",
       "      <th>many_over_bill</th>\n",
       "      <th>contract_type</th>\n",
       "      <th>...</th>\n",
       "      <th>last_month_traffic</th>\n",
       "      <th>local_trafffic_month</th>\n",
       "      <th>local_caller_time</th>\n",
       "      <th>service1_caller_time</th>\n",
       "      <th>service2_caller_time</th>\n",
       "      <th>gender</th>\n",
       "      <th>age</th>\n",
       "      <th>complaint_level</th>\n",
       "      <th>former_complaint_num</th>\n",
       "      <th>current_service</th>\n",
       "    </tr>\n",
       "  </thead>\n",
       "  <tbody>\n",
       "    <tr>\n",
       "      <th>0</th>\n",
       "      <td>4</td>\n",
       "      <td>0</td>\n",
       "      <td>85</td>\n",
       "      <td>295.96</td>\n",
       "      <td>296.2</td>\n",
       "      <td>296.2</td>\n",
       "      <td>296.8</td>\n",
       "      <td>3813.614698</td>\n",
       "      <td>0</td>\n",
       "      <td>1</td>\n",
       "      <td>...</td>\n",
       "      <td>4096.0</td>\n",
       "      <td>1392.038508</td>\n",
       "      <td>108.100000</td>\n",
       "      <td>0.000000</td>\n",
       "      <td>564.366667</td>\n",
       "      <td>1</td>\n",
       "      <td>31</td>\n",
       "      <td>0</td>\n",
       "      <td>0</td>\n",
       "      <td>99999825</td>\n",
       "    </tr>\n",
       "    <tr>\n",
       "      <th>1</th>\n",
       "      <td>1</td>\n",
       "      <td>0</td>\n",
       "      <td>10</td>\n",
       "      <td>265.20</td>\n",
       "      <td>261.2</td>\n",
       "      <td>261.2</td>\n",
       "      <td>174.5</td>\n",
       "      <td>0.000000</td>\n",
       "      <td>1</td>\n",
       "      <td>0</td>\n",
       "      <td>...</td>\n",
       "      <td>0.0</td>\n",
       "      <td>62852.509718</td>\n",
       "      <td>240.100000</td>\n",
       "      <td>355.166667</td>\n",
       "      <td>0.000000</td>\n",
       "      <td>1</td>\n",
       "      <td>30</td>\n",
       "      <td>0</td>\n",
       "      <td>0</td>\n",
       "      <td>90063345</td>\n",
       "    </tr>\n",
       "    <tr>\n",
       "      <th>2</th>\n",
       "      <td>1</td>\n",
       "      <td>0</td>\n",
       "      <td>12</td>\n",
       "      <td>44.50</td>\n",
       "      <td>70.2</td>\n",
       "      <td>70.2</td>\n",
       "      <td>61.4</td>\n",
       "      <td>2598.397406</td>\n",
       "      <td>0</td>\n",
       "      <td>0</td>\n",
       "      <td>...</td>\n",
       "      <td>0.0</td>\n",
       "      <td>1935.242104</td>\n",
       "      <td>27.666667</td>\n",
       "      <td>0.000000</td>\n",
       "      <td>98.416667</td>\n",
       "      <td>2</td>\n",
       "      <td>25</td>\n",
       "      <td>0</td>\n",
       "      <td>0</td>\n",
       "      <td>90109916</td>\n",
       "    </tr>\n",
       "  </tbody>\n",
       "</table>\n",
       "<p>3 rows × 25 columns</p>\n",
       "</div>"
      ],
      "text/plain": [
       "   service_type  is_mix_service  online_time  1_total_fee  2_total_fee  \\\n",
       "0             4               0           85       295.96        296.2   \n",
       "1             1               0           10       265.20        261.2   \n",
       "2             1               0           12        44.50         70.2   \n",
       "\n",
       "   3_total_fee  4_total_fee  month_traffic  many_over_bill  contract_type  \\\n",
       "0        296.2        296.8    3813.614698               0              1   \n",
       "1        261.2        174.5       0.000000               1              0   \n",
       "2         70.2         61.4    2598.397406               0              0   \n",
       "\n",
       "   ...  last_month_traffic  local_trafffic_month  local_caller_time  \\\n",
       "0  ...              4096.0           1392.038508         108.100000   \n",
       "1  ...                 0.0          62852.509718         240.100000   \n",
       "2  ...                 0.0           1935.242104          27.666667   \n",
       "\n",
       "   service1_caller_time  service2_caller_time  gender  age  complaint_level  \\\n",
       "0              0.000000            564.366667       1   31                0   \n",
       "1            355.166667              0.000000       1   30                0   \n",
       "2              0.000000             98.416667       2   25                0   \n",
       "\n",
       "   former_complaint_num  current_service  \n",
       "0                     0         99999825  \n",
       "1                     0         90063345  \n",
       "2                     0         90109916  \n",
       "\n",
       "[3 rows x 25 columns]"
      ]
     },
     "execution_count": 79,
     "metadata": {},
     "output_type": "execute_result"
    }
   ],
   "source": [
    "df_train.head(3)"
   ]
  },
  {
   "cell_type": "code",
   "execution_count": 80,
   "metadata": {
    "scrolled": false
   },
   "outputs": [
    {
     "name": "stdout",
     "output_type": "stream",
     "text": [
      "<class 'pandas.core.frame.DataFrame'>\n",
      "Int64Index: 721076 entries, 0 to 743989\n",
      "Data columns (total 25 columns):\n",
      " #   Column                  Non-Null Count   Dtype  \n",
      "---  ------                  --------------   -----  \n",
      " 0   service_type            721076 non-null  int64  \n",
      " 1   is_mix_service          721076 non-null  int64  \n",
      " 2   online_time             721076 non-null  int64  \n",
      " 3   1_total_fee             721076 non-null  float64\n",
      " 4   2_total_fee             721076 non-null  float64\n",
      " 5   3_total_fee             721076 non-null  float64\n",
      " 6   4_total_fee             721076 non-null  float64\n",
      " 7   month_traffic           721076 non-null  float64\n",
      " 8   many_over_bill          721076 non-null  int64  \n",
      " 9   contract_type           721076 non-null  int64  \n",
      " 10  contract_time           721076 non-null  int64  \n",
      " 11  is_promise_low_consume  721076 non-null  int64  \n",
      " 12  net_service             721076 non-null  int64  \n",
      " 13  pay_times               721076 non-null  int64  \n",
      " 14  pay_num                 721076 non-null  float64\n",
      " 15  last_month_traffic      721076 non-null  float64\n",
      " 16  local_trafffic_month    721076 non-null  float64\n",
      " 17  local_caller_time       721076 non-null  float64\n",
      " 18  service1_caller_time    721076 non-null  float64\n",
      " 19  service2_caller_time    721076 non-null  float64\n",
      " 20  gender                  721076 non-null  int32  \n",
      " 21  age                     721076 non-null  int32  \n",
      " 22  complaint_level         721076 non-null  int64  \n",
      " 23  former_complaint_num    721076 non-null  int64  \n",
      " 24  current_service         721076 non-null  int64  \n",
      "dtypes: float64(11), int32(2), int64(12)\n",
      "memory usage: 137.5 MB\n"
     ]
    }
   ],
   "source": [
    "df_train.info()"
   ]
  },
  {
   "cell_type": "code",
   "execution_count": 67,
   "metadata": {
    "scrolled": true
   },
   "outputs": [
    {
     "data": {
      "text/plain": [
       "(17, 8, 25)"
      ]
     },
     "execution_count": 67,
     "metadata": {},
     "output_type": "execute_result"
    }
   ],
   "source": [
    "# Категориальные и числовые признаки\n",
    "\n",
    "cat_features = ['service_type', 'is_mix_service', 'many_over_bill',\n",
    "                'is_promise_low_consume', 'gender', 'complaint_level',\n",
    "                'contract_type', 'net_service']\n",
    "\n",
    "num_features = set(df_train.columns) - set(cat_features)\n",
    "\n",
    "len(num_features), len(cat_features), len(df_train.columns)"
   ]
  },
  {
   "cell_type": "code",
   "execution_count": 31,
   "metadata": {},
   "outputs": [],
   "source": [
    "y = df_train['gender'].values\n",
    "X = df_train.drop('gender', axis=1).values\n",
    "\n",
    "X_train, X_test, y_train, y_test = train_test_split(X, y, test_size=0.25, random_state=1)"
   ]
  },
  {
   "cell_type": "code",
   "execution_count": 32,
   "metadata": {},
   "outputs": [
    {
     "name": "stdout",
     "output_type": "stream",
     "text": [
      "f1 score (10 деревьев): 0.8242\n",
      "Accuracy (10 деревьев): 0.7232\n"
     ]
    }
   ],
   "source": [
    "# Тупо случайный лес - 10 деревьев\n",
    "rf_10 = RandomForestClassifier(n_estimators=10, n_jobs=-1, random_state=1)\n",
    "rf_10.fit(X_train, y_train)\n",
    "\n",
    "y_pred_10 = rf_10.predict(X_test)\n",
    "print('f1 score (10 деревьев):', round(f1_score(y_test, y_pred_10), 4))\n",
    "print('Accuracy (10 деревьев):', round(accuracy_score(y_test, y_pred_10), 4))"
   ]
  },
  {
   "cell_type": "code",
   "execution_count": 7,
   "metadata": {},
   "outputs": [
    {
     "name": "stdout",
     "output_type": "stream",
     "text": [
      "f1 score (50 деревьев): 0.8356\n",
      "Accuracy (50 деревьев): 0.7371\n"
     ]
    }
   ],
   "source": [
    "# Тупо случайный лес - 50 деревьев\n",
    "rf_50 = RandomForestClassifier(n_estimators=50, n_jobs=-1, random_state=1)\n",
    "rf_50.fit(X_train, y_train)\n",
    "\n",
    "y_pred_50 = rf_50.predict(X_test)\n",
    "print('f1 score (50 деревьев):', round(f1_score(y_test, y_pred_50), 4))\n",
    "print('Accuracy (50 деревьев):', round(accuracy_score(y_test, y_pred_50), 4))"
   ]
  },
  {
   "cell_type": "code",
   "execution_count": 8,
   "metadata": {},
   "outputs": [
    {
     "name": "stdout",
     "output_type": "stream",
     "text": [
      "f1 score (100 деревьев): 0.8371\n",
      "Accuracy (100 деревьев): 0.7385\n"
     ]
    }
   ],
   "source": [
    "# Тупо случайный лес - 100 деревьев\n",
    "rf_100 = RandomForestClassifier(n_estimators=100, n_jobs=-1, random_state=1)\n",
    "rf_100.fit(X_train, y_train)\n",
    "\n",
    "y_pred_100 = rf_100.predict(X_test)\n",
    "print('f1 score (100 деревьев):', round(f1_score(y_test, y_pred_100), 4))\n",
    "print('Accuracy (100 деревьев):', round(accuracy_score(y_test, y_pred_100), 4))"
   ]
  },
  {
   "cell_type": "code",
   "execution_count": null,
   "metadata": {},
   "outputs": [],
   "source": [
    "sns.pairplot(df_train[:200])"
   ]
  },
  {
   "cell_type": "code",
   "execution_count": 45,
   "metadata": {},
   "outputs": [],
   "source": [
    "#fees = df_train['1_total_fee'] + df_train['2_total_fee'] + df_train['3_total_fee'] + df_train['4_total_fee']"
   ]
  },
  {
   "cell_type": "code",
   "execution_count": 51,
   "metadata": {},
   "outputs": [
    {
     "data": {
      "text/plain": [
       "array([ 0,  1,  2,  3,  4,  5,  9,  8,  6, 16, 11,  7, 10, 13, 17, 19, 12,\n",
       "       15, 14, 22, 20], dtype=int64)"
      ]
     },
     "execution_count": 51,
     "metadata": {},
     "output_type": "execute_result"
    }
   ],
   "source": [
    "df_train['former_complaint_num'].unique()"
   ]
  },
  {
   "cell_type": "code",
   "execution_count": null,
   "metadata": {},
   "outputs": [],
   "source": []
  }
 ],
 "metadata": {
  "colab": {
   "collapsed_sections": [],
   "name": "lab2.ipynb",
   "provenance": []
  },
  "kernelspec": {
   "display_name": "Python 3",
   "language": "python",
   "name": "python3"
  },
  "language_info": {
   "codemirror_mode": {
    "name": "ipython",
    "version": 3
   },
   "file_extension": ".py",
   "mimetype": "text/x-python",
   "name": "python",
   "nbconvert_exporter": "python",
   "pygments_lexer": "ipython3",
   "version": "3.7.4"
  }
 },
 "nbformat": 4,
 "nbformat_minor": 1
}
