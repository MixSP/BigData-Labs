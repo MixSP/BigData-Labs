{
 "cells": [
  {
   "cell_type": "markdown",
   "metadata": {},
   "source": [
    "## Предсказание эмоциональной окраски отзыва на основе анализа естественного языка (Практическая часть)"
   ]
  },
  {
   "cell_type": "markdown",
   "metadata": {},
   "source": [
    "Вам для обработки предлагается коллекция рецензий пользователей на фильмы с сайта kinopoisk.ru\n",
    "\n",
    "Положительных: 87101 \n",
    "\n",
    "Отрицательных: 19804\n",
    "\n",
    "Нейтральных: 24678\n",
    "\n",
    "\n",
    "Все: 131583\n",
    "\n",
    "Каждая рецензия в отдельном файле, первая часть названия файла соответствует ID фильма на kinopoisk.ru вторая часть номеру рецензии на этот фильм. Например, имя файла 306-15.txt обозначает идентификатор фильма на сайте 306, номер рецензии 15.\n",
    "\n",
    "https://www.kaggle.com/mikhailklemin/kinopoisks-movies-reviews\n",
    "\n",
    "[Прямая ссылка](https://www.kaggle.com/mikhailklemin/kinopoisks-movies-reviews/download) на скачивание данных."
   ]
  },
  {
   "cell_type": "markdown",
   "metadata": {},
   "source": [
    "Подключим необходимые библиотеки:"
   ]
  },
  {
   "cell_type": "code",
   "execution_count": 1,
   "metadata": {},
   "outputs": [],
   "source": [
    "import pickle\n",
    "import os\n",
    "import re\n",
    "import string\n",
    "import warnings\n",
    "\n",
    "import nltk\n",
    "import numpy as np\n",
    "import pandas as pd\n",
    "import seaborn as sns\n",
    "\n",
    "from nltk.corpus import stopwords\n",
    "from nltk.stem.snowball import SnowballStemmer\n",
    "\n",
    "from sklearn.ensemble import RandomForestClassifier, RandomTreesEmbedding\n",
    "from sklearn.feature_extraction.text import TfidfVectorizer, CountVectorizer\n",
    "from sklearn.metrics import confusion_matrix, classification_report, accuracy_score\n",
    "from sklearn.model_selection import train_test_split\n",
    "from sklearn.preprocessing import LabelEncoder\n",
    "from sklearn.svm import LinearSVC"
   ]
  },
  {
   "cell_type": "code",
   "execution_count": 2,
   "metadata": {},
   "outputs": [],
   "source": [
    "warnings.filterwarnings('ignore')"
   ]
  },
  {
   "cell_type": "markdown",
   "metadata": {},
   "source": [
    "Для фильтрации нашего текста от мусора, загрузим список стоп-слов при помощи библиотки nltk:"
   ]
  },
  {
   "cell_type": "code",
   "execution_count": 3,
   "metadata": {
    "scrolled": true
   },
   "outputs": [
    {
     "name": "stderr",
     "output_type": "stream",
     "text": [
      "[nltk_data] Downloading package stopwords to\n",
      "[nltk_data]     C:\\Users\\StaroveR\\AppData\\Roaming\\nltk_data...\n",
      "[nltk_data]   Package stopwords is already up-to-date!\n"
     ]
    },
    {
     "data": {
      "text/plain": [
       "True"
      ]
     },
     "execution_count": 3,
     "metadata": {},
     "output_type": "execute_result"
    }
   ],
   "source": [
    "nltk.download('stopwords')"
   ]
  },
  {
   "cell_type": "markdown",
   "metadata": {},
   "source": [
    "### Загрузка данных в датфрейм"
   ]
  },
  {
   "cell_type": "markdown",
   "metadata": {},
   "source": [
    "Общий размер датасета (около 131к отзывов) - слишком большой, для памяти большинства компьютеров. Для дальнейших исследовалний взял 20% от обшего датасета, с сохранением пропорций классов."
   ]
  },
  {
   "cell_type": "code",
   "execution_count": 4,
   "metadata": {
    "scrolled": true
   },
   "outputs": [],
   "source": [
    "# Доля отзывов, от обшего числа, с которыми будем работать в дальнейшем\n",
    "prop = 0.2\n",
    "\n",
    "path = './archive/dataset/'\n",
    "df = pd.DataFrame(columns=['review','sentiment'])\n",
    "\n",
    "for directory in os.listdir(path):\n",
    "    if os.path.isdir(path + directory):\n",
    "        dirs = np.array(os.listdir(path + directory))\n",
    "        np.random.shuffle(dirs)\n",
    "        rews_fhs = np.random.choice(dirs, round(len(dirs) * prop))\n",
    "    \n",
    "        for rew_fh in rews_fhs:\n",
    "            with open(os.path.join(path + directory + '/', rew_fh), encoding='utf-8') as f:\n",
    "                review = f.read()\n",
    "                current_df = pd.DataFrame({'review': [review], 'sentiment': directory})\n",
    "                df = df.append(current_df, ignore_index=True)\n",
    "\n",
    "df = df.sample(frac=1).reset_index(drop=True) "
   ]
  },
  {
   "cell_type": "code",
   "execution_count": 5,
   "metadata": {},
   "outputs": [
    {
     "data": {
      "text/html": [
       "<div>\n",
       "<style scoped>\n",
       "    .dataframe tbody tr th:only-of-type {\n",
       "        vertical-align: middle;\n",
       "    }\n",
       "\n",
       "    .dataframe tbody tr th {\n",
       "        vertical-align: top;\n",
       "    }\n",
       "\n",
       "    .dataframe thead th {\n",
       "        text-align: right;\n",
       "    }\n",
       "</style>\n",
       "<table border=\"1\" class=\"dataframe\">\n",
       "  <thead>\n",
       "    <tr style=\"text-align: right;\">\n",
       "      <th></th>\n",
       "      <th>review</th>\n",
       "      <th>sentiment</th>\n",
       "    </tr>\n",
       "  </thead>\n",
       "  <tbody>\n",
       "    <tr>\n",
       "      <th>0</th>\n",
       "      <td>Англичане любят подобные сюжеты: 'Таинственный...</td>\n",
       "      <td>pos</td>\n",
       "    </tr>\n",
       "    <tr>\n",
       "      <th>1</th>\n",
       "      <td>Давно известно, что лучше сделать что-то медле...</td>\n",
       "      <td>neg</td>\n",
       "    </tr>\n",
       "    <tr>\n",
       "      <th>2</th>\n",
       "      <td>У этого фильма, для меня, есть большущий минус...</td>\n",
       "      <td>neu</td>\n",
       "    </tr>\n",
       "    <tr>\n",
       "      <th>3</th>\n",
       "      <td>Казалось бы, вот досмотрю я до конца фильм и н...</td>\n",
       "      <td>pos</td>\n",
       "    </tr>\n",
       "    <tr>\n",
       "      <th>4</th>\n",
       "      <td>Планируемая свадьба между двумя молодыми людьм...</td>\n",
       "      <td>neu</td>\n",
       "    </tr>\n",
       "  </tbody>\n",
       "</table>\n",
       "</div>"
      ],
      "text/plain": [
       "                                              review sentiment\n",
       "0  Англичане любят подобные сюжеты: 'Таинственный...       pos\n",
       "1  Давно известно, что лучше сделать что-то медле...       neg\n",
       "2  У этого фильма, для меня, есть большущий минус...       neu\n",
       "3  Казалось бы, вот досмотрю я до конца фильм и н...       pos\n",
       "4  Планируемая свадьба между двумя молодыми людьм...       neu"
      ]
     },
     "execution_count": 5,
     "metadata": {},
     "output_type": "execute_result"
    }
   ],
   "source": [
    "df.head(5)"
   ]
  },
  {
   "cell_type": "code",
   "execution_count": 6,
   "metadata": {
    "scrolled": true
   },
   "outputs": [
    {
     "name": "stdout",
     "output_type": "stream",
     "text": [
      "<class 'pandas.core.frame.DataFrame'>\n",
      "RangeIndex: 26334 entries, 0 to 26333\n",
      "Data columns (total 2 columns):\n",
      " #   Column     Non-Null Count  Dtype \n",
      "---  ------     --------------  ----- \n",
      " 0   review     26334 non-null  object\n",
      " 1   sentiment  26334 non-null  object\n",
      "dtypes: object(2)\n",
      "memory usage: 411.6+ KB\n"
     ]
    }
   ],
   "source": [
    "df.info()"
   ]
  },
  {
   "cell_type": "code",
   "execution_count": 7,
   "metadata": {
    "scrolled": true
   },
   "outputs": [
    {
     "data": {
      "text/plain": [
       "<matplotlib.axes._subplots.AxesSubplot at 0x1675881c208>"
      ]
     },
     "execution_count": 7,
     "metadata": {},
     "output_type": "execute_result"
    },
    {
     "data": {
      "image/png": "[encoded data removed]",
      "text/plain": [
       "<Figure size 432x288 with 1 Axes>"
      ]
     },
     "metadata": {
      "needs_background": "light"
     },
     "output_type": "display_data"
    }
   ],
   "source": [
    "sns.countplot(df['sentiment'])"
   ]
  },
  {
   "cell_type": "code",
   "execution_count": 8,
   "metadata": {},
   "outputs": [],
   "source": [
    "le = LabelEncoder()\n",
    "df['sentiment'] = le.fit_transform(df['sentiment'])"
   ]
  },
  {
   "cell_type": "code",
   "execution_count": 9,
   "metadata": {},
   "outputs": [
    {
     "data": {
      "text/plain": [
       "array(['neg', 'neu', 'pos'], dtype=object)"
      ]
     },
     "execution_count": 9,
     "metadata": {},
     "output_type": "execute_result"
    }
   ],
   "source": [
    "le.classes_"
   ]
  },
  {
   "cell_type": "markdown",
   "metadata": {},
   "source": [
    "### Подготовка текстов"
   ]
  },
  {
   "cell_type": "markdown",
   "metadata": {},
   "source": [
    "Форматирование текста, очистка от ненужных символов, приведение текста к нижнему регистру:"
   ]
  },
  {
   "cell_type": "code",
   "execution_count": null,
   "metadata": {},
   "outputs": [],
   "source": [
    "def standardize_text(df, content_field):\n",
    "    df[content_field] = df[content_field].str.replace(r\"http\\S+\", \"\")\n",
    "    df[content_field] = df[content_field].str.replace(r\"@\\S+\", \"\")\n",
    "    df[content_field] = df[content_field].str.replace(r\"[^А-Яа-яA-Za-z0-9Ёё(),!?@\\'\\`\\\"\\_\\n]\", \" \")\n",
    "    df[content_field] = df[content_field].str.replace(r\"[Ёё]\", \"е\")\n",
    "    df[content_field] = df[content_field].str.replace(r\"[\\t\\n]\", \"\")\n",
    "    df[content_field] = df[content_field].str.replace(r\"[^А-Яа-яa-zA-Z]\", \" \")\n",
    "    df[content_field] = df[content_field].str.lower()\n",
    "    return df\n",
    "#TODO: сокращения в полные слова"
   ]
  },
  {
   "cell_type": "code",
   "execution_count": null,
   "metadata": {
    "scrolled": false
   },
   "outputs": [],
   "source": [
    "standardize_text(df, \"review\")"
   ]
  },
  {
   "cell_type": "markdown",
   "metadata": {},
   "source": [
    "Очистка текста от стоп-слов, применение стемминга (приведение оставшихся слов к основне):  \n",
    "<b>P.S.</b> Процедура довольно долгая"
   ]
  },
  {
   "cell_type": "code",
   "execution_count": null,
   "metadata": {},
   "outputs": [],
   "source": [
    "stemmer = SnowballStemmer('russian')\n",
    "corpus = []\n",
    "\n",
    "for i in range(len(df)):\n",
    "    review = df['review'][i]\n",
    "    review = review.split()\n",
    "    review = [word for word in review if word not in set(stopwords.words('russian'))]\n",
    "    review = [stemmer.stem(word) for word in review]\n",
    "    review = ' '.join(review)\n",
    "    corpus.append(review)"
   ]
  },
  {
   "cell_type": "markdown",
   "metadata": {},
   "source": [
    "Т.к. предыдущие два этапа занимают довольно много времени, сохраним наш датасет и созданный корпус в отдельные файлы. В дальнейшем будем импортировать данные из этих файлов для ускорения разработки."
   ]
  },
  {
   "cell_type": "code",
   "execution_count": null,
   "metadata": {},
   "outputs": [],
   "source": [
    "# Сохранение\n",
    "\n",
    "with open('dataframe.pickle', 'wb') as fh:\n",
    "    pickle.dump(df, fh)\n",
    "\n",
    "with open('corpus.pickle', 'wb') as fh:\n",
    "    pickle.dump(corpus, fh)"
   ]
  },
  {
   "cell_type": "code",
   "execution_count": 10,
   "metadata": {},
   "outputs": [],
   "source": [
    "# Загрузка\n",
    "\n",
    "with open('corpus.pickle', 'rb') as f:\n",
    "    corpus = pickle.load(f)\n",
    "    \n",
    "with open('dataframe.pickle', 'rb') as f:\n",
    "    df = pickle.load(f)"
   ]
  },
  {
   "cell_type": "markdown",
   "metadata": {},
   "source": [
    "При помощи TF-IDF проведем векторизацию корпуса на основе n-грамм:"
   ]
  },
  {
   "cell_type": "code",
   "execution_count": 11,
   "metadata": {},
   "outputs": [],
   "source": [
    "tfidf = TfidfVectorizer(ngram_range=(1, 2))\n",
    "X = tfidf.fit_transform(corpus)"
   ]
  },
  {
   "cell_type": "code",
   "execution_count": 12,
   "metadata": {
    "scrolled": true
   },
   "outputs": [
    {
     "data": {
      "text/plain": [
       "(26334, 2777275)"
      ]
     },
     "execution_count": 12,
     "metadata": {},
     "output_type": "execute_result"
    }
   ],
   "source": [
    "X.shape"
   ]
  },
  {
   "cell_type": "markdown",
   "metadata": {},
   "source": [
    "Разделим выборку на обучение и тест:"
   ]
  },
  {
   "cell_type": "code",
   "execution_count": 13,
   "metadata": {},
   "outputs": [],
   "source": [
    "y = df['sentiment'].values\n",
    "X_train, X_test, y_train, y_test = train_test_split(X, y, test_size=0.2, random_state=0)"
   ]
  },
  {
   "cell_type": "markdown",
   "metadata": {},
   "source": [
    "Классификацию будем проводить при помощи метода опорных векторов:"
   ]
  },
  {
   "cell_type": "code",
   "execution_count": 14,
   "metadata": {},
   "outputs": [
    {
     "data": {
      "text/plain": [
       "LinearSVC()"
      ]
     },
     "execution_count": 14,
     "metadata": {},
     "output_type": "execute_result"
    }
   ],
   "source": [
    "classifier = LinearSVC()\n",
    "classifier.fit(X_train, y_train)"
   ]
  },
  {
   "cell_type": "code",
   "execution_count": 15,
   "metadata": {},
   "outputs": [],
   "source": [
    "y_pred = classifier.predict(X_test)"
   ]
  },
  {
   "cell_type": "markdown",
   "metadata": {},
   "source": [
    "Оценим точность на тестовой выборке:"
   ]
  },
  {
   "cell_type": "code",
   "execution_count": 16,
   "metadata": {},
   "outputs": [
    {
     "data": {
      "text/plain": [
       "0.7850768938674767"
      ]
     },
     "execution_count": 16,
     "metadata": {},
     "output_type": "execute_result"
    }
   ],
   "source": [
    "acc = accuracy_score(y_test, y_pred)\n",
    "acc"
   ]
  },
  {
   "cell_type": "code",
   "execution_count": 17,
   "metadata": {},
   "outputs": [],
   "source": [
    "report = classification_report(y_test, y_pred)"
   ]
  },
  {
   "cell_type": "code",
   "execution_count": 18,
   "metadata": {},
   "outputs": [
    {
     "name": "stdout",
     "output_type": "stream",
     "text": [
      "              precision    recall  f1-score   support\n",
      "\n",
      "           0       0.80      0.59      0.68       822\n",
      "           1       0.72      0.25      0.37       973\n",
      "           2       0.79      0.98      0.87      3472\n",
      "\n",
      "    accuracy                           0.79      5267\n",
      "   macro avg       0.77      0.61      0.64      5267\n",
      "weighted avg       0.78      0.79      0.75      5267\n",
      "\n"
     ]
    }
   ],
   "source": [
    "print(report)"
   ]
  },
  {
   "cell_type": "markdown",
   "metadata": {},
   "source": [
    "Некоторые получившиеся значения точности, при разных параметрах TF-IDF векторизации:\n",
    "    \n",
    "| N-gram range | Max Features | Accuracy |  \n",
    "|--------------|--------------|----------|\n",
    "| 1, 1         | None         | 0.77     |\n",
    "| 2, 2         | None         | 0.72     |\n",
    "| 3, 3         | None         | 0.71     |\n",
    "| 4, 4         | None         | 0.71     |\n",
    "| 1, 2         | None         | 0.79     |\n",
    "| 1, 3         | None         | 0.77     |\n",
    "| 1, 4         | None         | 0.75     |\n",
    "| 2, 3         | None         | 0.71     |\n",
    "| 1, 2         | 1000000      | 0.79     |\n",
    "| 1, 2         | 50000        | 0.78     |"
   ]
  },
  {
   "cell_type": "markdown",
   "metadata": {},
   "source": [
    "<b>Выводы:</b> Лучшая точность классификации отзывов при использовании TF-IDF векторизации и метода опорных векторов, равна 0.79. Хуже всего такая модель определяет нейтральные отзывы (точность равна 0.72, полнота - 0.25). Для дальнейшего увелечения точности классификации требуется использовать другие модели, например нейронные сети."
   ]
  }
 ],
 "metadata": {
  "kernelspec": {
   "display_name": "Python 3",
   "language": "python",
   "name": "python3"
  },
  "language_info": {
   "codemirror_mode": {
    "name": "ipython",
    "version": 3
   },
   "file_extension": ".py",
   "mimetype": "text/x-python",
   "name": "python",
   "nbconvert_exporter": "python",
   "pygments_lexer": "ipython3",
   "version": "3.7.4"
  }
 },
 "nbformat": 4,
 "nbformat_minor": 2
}
