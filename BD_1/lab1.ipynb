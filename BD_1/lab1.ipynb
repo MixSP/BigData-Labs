{
 "cells": [
  {
   "cell_type": "markdown",
   "metadata": {
    "id": "eUxdbdtM35UA"
   },
   "source": [
    "# *Лабораторная работа №1*"
   ]
  },
  {
   "cell_type": "markdown",
   "metadata": {
    "id": "OuhF3rq74J_x"
   },
   "source": [
    "## Подготовка набора данных (Теоретическая часть)\n"
   ]
  },
  {
   "cell_type": "markdown",
   "metadata": {
    "id": "cuAqMOhY_guo"
   },
   "source": [
    "При подготовке набора данных следует ориентироваться на поставленную задачу, так как в именно от данного этапа зависит то, будут ли необходимые нам данные в итоговом наборе данных или нет. Вся дальнейшая обработка будет проводиться с целью разработки механизма определения стоимости автомобиля в зависимости от его характеристик."
   ]
  },
  {
   "cell_type": "markdown",
   "metadata": {
    "id": "8uPjPdRI4YtH"
   },
   "source": [
    "Датасетом (набором данных), с которым будет вестись работа в данном лабораторном практикуме, является база данных о подержанных автомобилях, проданных в Германии в 2016 году, с сайта Kaggle.com.                            \n",
    "https://www.kaggle.com/orgesleka/used-cars-database/data"
   ]
  },
  {
   "cell_type": "markdown",
   "metadata": {
    "id": "IC2Eh2Ol5QWy"
   },
   "source": [
    "Библиотека warnings отвечает за то, какие предупреждения (warnings) о работе будут выводиться пользователю. FutureWarning - предупреждения о том, как изменится работа библиотек в будущих версиях. Поэтому такие предупреждения мы будем игнорировать. Чтобы включить режим игнорирования мы отбираем все предупреждения из категории FutureWarning и выбираем для них действия 'ignore'. Это делается вызовом функции simplefilter c задание двух атрибутов: действия action и категории предупреждений category."
   ]
  },
  {
   "cell_type": "code",
   "execution_count": 1,
   "metadata": {
    "id": "53HanWonVpHK"
   },
   "outputs": [],
   "source": [
    "import warnings\n",
    "warnings.simplefilter(action='ignore', category=FutureWarning)"
   ]
  },
  {
   "cell_type": "markdown",
   "metadata": {
    "id": "xWpAkzW45mVy"
   },
   "source": [
    "Для работы с данными в python используется библиотека pandas. Подключим ее к проекту и для простоты обращения обозначим pd."
   ]
  },
  {
   "cell_type": "code",
   "execution_count": 2,
   "metadata": {
    "id": "SOedg98UjF9r"
   },
   "outputs": [],
   "source": [
    "from matplotlib import pyplot as plt\n",
    "import pandas as pd"
   ]
  },
  {
   "cell_type": "markdown",
   "metadata": {
    "id": "350gkIRs6fNw"
   },
   "source": [
    "Загрузим наш набор данных для дальнейшей работы. %%capture используется для отключения уведомлений о ходе загрузки."
   ]
  },
  {
   "cell_type": "code",
   "execution_count": 3,
   "metadata": {
    "id": "LyPM3xJmRa5-"
   },
   "outputs": [],
   "source": [
    "%%capture\n",
    "!wget https://www.dropbox.com/s/wlbij79v3u4q2jy/autos.csv"
   ]
  },
  {
   "cell_type": "markdown",
   "metadata": {
    "id": "MoHxir326zRL"
   },
   "source": [
    "Сохраним загруженный набор данных в виде dataframe - основной единицы при работе с библиотекой pandas. Такую возможность нам предоставляет команда read_csv, которая в качестве аргумента требует имя файла. Второй аргумент нам потребовалось использовать, так как наша база родом из Германии и содержит недоступные в базовой системе кодировки символы."
   ]
  },
  {
   "cell_type": "code",
   "execution_count": 4,
   "metadata": {
    "id": "34L1Dkrnjd8z"
   },
   "outputs": [],
   "source": [
    "df = pd.read_csv('autos.csv', encoding='iso-8859-1')"
   ]
  },
  {
   "cell_type": "markdown",
   "metadata": {
    "id": "8tUoOs_58V3X"
   },
   "source": [
    "*Примечание*: В рамках нашего курса мы ограничены достаточно скромным, по меркам больших данных, объемом файла. При работе с актуальными большими данными Вы можете столкнуться с тем, что файл полностью не может расположиться в оперативной памяти. В этом случае следует действовать по принципу «Разделяй и властвуй», то есть разбить базу данных на несколько файлов меньшего объема и обрабатывать их независимо."
   ]
  },
  {
   "cell_type": "markdown",
   "metadata": {
    "id": "p2n0b2CY8fnk"
   },
   "source": [
    "После выгрузки базы данных в память доступ к ней осуществляется через имя переменной. В частности, в рамках данной среды, при вводе имени осуществляется вывод на экран первых и последних строк базы и ее общий размер, в данном случае 371528 строк из 20-ти столбцов."
   ]
  },
  {
   "cell_type": "code",
   "execution_count": 5,
   "metadata": {
    "colab": {
     "base_uri": "https://localhost:8080/",
     "height": 779
    },
    "id": "n7XSYeJQ0Hl6",
    "outputId": "797f1f14-1145-4390-ff62-9b3996ad5435"
   },
   "outputs": [
    {
     "data": {
      "text/html": [
       "<div>\n",
       "<style scoped>\n",
       "    .dataframe tbody tr th:only-of-type {\n",
       "        vertical-align: middle;\n",
       "    }\n",
       "\n",
       "    .dataframe tbody tr th {\n",
       "        vertical-align: top;\n",
       "    }\n",
       "\n",
       "    .dataframe thead th {\n",
       "        text-align: right;\n",
       "    }\n",
       "</style>\n",
       "<table border=\"1\" class=\"dataframe\">\n",
       "  <thead>\n",
       "    <tr style=\"text-align: right;\">\n",
       "      <th></th>\n",
       "      <th>dateCrawled</th>\n",
       "      <th>name</th>\n",
       "      <th>seller</th>\n",
       "      <th>offerType</th>\n",
       "      <th>price</th>\n",
       "      <th>abtest</th>\n",
       "      <th>vehicleType</th>\n",
       "      <th>yearOfRegistration</th>\n",
       "      <th>gearbox</th>\n",
       "      <th>powerPS</th>\n",
       "      <th>model</th>\n",
       "      <th>kilometer</th>\n",
       "      <th>monthOfRegistration</th>\n",
       "      <th>fuelType</th>\n",
       "      <th>brand</th>\n",
       "      <th>notRepairedDamage</th>\n",
       "      <th>dateCreated</th>\n",
       "      <th>nrOfPictures</th>\n",
       "      <th>postalCode</th>\n",
       "      <th>lastSeen</th>\n",
       "    </tr>\n",
       "  </thead>\n",
       "  <tbody>\n",
       "    <tr>\n",
       "      <th>0</th>\n",
       "      <td>2016-03-24 11:52:17</td>\n",
       "      <td>Golf_3_1.6</td>\n",
       "      <td>privat</td>\n",
       "      <td>Angebot</td>\n",
       "      <td>480</td>\n",
       "      <td>test</td>\n",
       "      <td>NaN</td>\n",
       "      <td>1993</td>\n",
       "      <td>manuell</td>\n",
       "      <td>0</td>\n",
       "      <td>golf</td>\n",
       "      <td>150000</td>\n",
       "      <td>0</td>\n",
       "      <td>benzin</td>\n",
       "      <td>volkswagen</td>\n",
       "      <td>NaN</td>\n",
       "      <td>2016-03-24 00:00:00</td>\n",
       "      <td>0</td>\n",
       "      <td>70435</td>\n",
       "      <td>2016-04-07 03:16:57</td>\n",
       "    </tr>\n",
       "    <tr>\n",
       "      <th>1</th>\n",
       "      <td>2016-03-24 10:58:45</td>\n",
       "      <td>A5_Sportback_2.7_Tdi</td>\n",
       "      <td>privat</td>\n",
       "      <td>Angebot</td>\n",
       "      <td>18300</td>\n",
       "      <td>test</td>\n",
       "      <td>coupe</td>\n",
       "      <td>2011</td>\n",
       "      <td>manuell</td>\n",
       "      <td>190</td>\n",
       "      <td>NaN</td>\n",
       "      <td>125000</td>\n",
       "      <td>5</td>\n",
       "      <td>diesel</td>\n",
       "      <td>audi</td>\n",
       "      <td>ja</td>\n",
       "      <td>2016-03-24 00:00:00</td>\n",
       "      <td>0</td>\n",
       "      <td>66954</td>\n",
       "      <td>2016-04-07 01:46:50</td>\n",
       "    </tr>\n",
       "    <tr>\n",
       "      <th>2</th>\n",
       "      <td>2016-03-14 12:52:21</td>\n",
       "      <td>Jeep_Grand_Cherokee_\"Overland\"</td>\n",
       "      <td>privat</td>\n",
       "      <td>Angebot</td>\n",
       "      <td>9800</td>\n",
       "      <td>test</td>\n",
       "      <td>suv</td>\n",
       "      <td>2004</td>\n",
       "      <td>automatik</td>\n",
       "      <td>163</td>\n",
       "      <td>grand</td>\n",
       "      <td>125000</td>\n",
       "      <td>8</td>\n",
       "      <td>diesel</td>\n",
       "      <td>jeep</td>\n",
       "      <td>NaN</td>\n",
       "      <td>2016-03-14 00:00:00</td>\n",
       "      <td>0</td>\n",
       "      <td>90480</td>\n",
       "      <td>2016-04-05 12:47:46</td>\n",
       "    </tr>\n",
       "    <tr>\n",
       "      <th>3</th>\n",
       "      <td>2016-03-17 16:54:04</td>\n",
       "      <td>GOLF_4_1_4__3TÜRER</td>\n",
       "      <td>privat</td>\n",
       "      <td>Angebot</td>\n",
       "      <td>1500</td>\n",
       "      <td>test</td>\n",
       "      <td>kleinwagen</td>\n",
       "      <td>2001</td>\n",
       "      <td>manuell</td>\n",
       "      <td>75</td>\n",
       "      <td>golf</td>\n",
       "      <td>150000</td>\n",
       "      <td>6</td>\n",
       "      <td>benzin</td>\n",
       "      <td>volkswagen</td>\n",
       "      <td>nein</td>\n",
       "      <td>2016-03-17 00:00:00</td>\n",
       "      <td>0</td>\n",
       "      <td>91074</td>\n",
       "      <td>2016-03-17 17:40:17</td>\n",
       "    </tr>\n",
       "    <tr>\n",
       "      <th>4</th>\n",
       "      <td>2016-03-31 17:25:20</td>\n",
       "      <td>Skoda_Fabia_1.4_TDI_PD_Classic</td>\n",
       "      <td>privat</td>\n",
       "      <td>Angebot</td>\n",
       "      <td>3600</td>\n",
       "      <td>test</td>\n",
       "      <td>kleinwagen</td>\n",
       "      <td>2008</td>\n",
       "      <td>manuell</td>\n",
       "      <td>69</td>\n",
       "      <td>fabia</td>\n",
       "      <td>90000</td>\n",
       "      <td>7</td>\n",
       "      <td>diesel</td>\n",
       "      <td>skoda</td>\n",
       "      <td>nein</td>\n",
       "      <td>2016-03-31 00:00:00</td>\n",
       "      <td>0</td>\n",
       "      <td>60437</td>\n",
       "      <td>2016-04-06 10:17:21</td>\n",
       "    </tr>\n",
       "    <tr>\n",
       "      <th>...</th>\n",
       "      <td>...</td>\n",
       "      <td>...</td>\n",
       "      <td>...</td>\n",
       "      <td>...</td>\n",
       "      <td>...</td>\n",
       "      <td>...</td>\n",
       "      <td>...</td>\n",
       "      <td>...</td>\n",
       "      <td>...</td>\n",
       "      <td>...</td>\n",
       "      <td>...</td>\n",
       "      <td>...</td>\n",
       "      <td>...</td>\n",
       "      <td>...</td>\n",
       "      <td>...</td>\n",
       "      <td>...</td>\n",
       "      <td>...</td>\n",
       "      <td>...</td>\n",
       "      <td>...</td>\n",
       "      <td>...</td>\n",
       "    </tr>\n",
       "    <tr>\n",
       "      <th>371523</th>\n",
       "      <td>2016-03-14 17:48:27</td>\n",
       "      <td>Suche_t4___vito_ab_6_sitze</td>\n",
       "      <td>privat</td>\n",
       "      <td>Angebot</td>\n",
       "      <td>2200</td>\n",
       "      <td>test</td>\n",
       "      <td>NaN</td>\n",
       "      <td>2005</td>\n",
       "      <td>NaN</td>\n",
       "      <td>0</td>\n",
       "      <td>NaN</td>\n",
       "      <td>20000</td>\n",
       "      <td>1</td>\n",
       "      <td>NaN</td>\n",
       "      <td>sonstige_autos</td>\n",
       "      <td>NaN</td>\n",
       "      <td>2016-03-14 00:00:00</td>\n",
       "      <td>0</td>\n",
       "      <td>39576</td>\n",
       "      <td>2016-04-06 00:46:52</td>\n",
       "    </tr>\n",
       "    <tr>\n",
       "      <th>371524</th>\n",
       "      <td>2016-03-05 19:56:21</td>\n",
       "      <td>Smart_smart_leistungssteigerung_100ps</td>\n",
       "      <td>privat</td>\n",
       "      <td>Angebot</td>\n",
       "      <td>1199</td>\n",
       "      <td>test</td>\n",
       "      <td>cabrio</td>\n",
       "      <td>2000</td>\n",
       "      <td>automatik</td>\n",
       "      <td>101</td>\n",
       "      <td>fortwo</td>\n",
       "      <td>125000</td>\n",
       "      <td>3</td>\n",
       "      <td>benzin</td>\n",
       "      <td>smart</td>\n",
       "      <td>nein</td>\n",
       "      <td>2016-03-05 00:00:00</td>\n",
       "      <td>0</td>\n",
       "      <td>26135</td>\n",
       "      <td>2016-03-11 18:17:12</td>\n",
       "    </tr>\n",
       "    <tr>\n",
       "      <th>371525</th>\n",
       "      <td>2016-03-19 18:57:12</td>\n",
       "      <td>Volkswagen_Multivan_T4_TDI_7DC_UY2</td>\n",
       "      <td>privat</td>\n",
       "      <td>Angebot</td>\n",
       "      <td>9200</td>\n",
       "      <td>test</td>\n",
       "      <td>bus</td>\n",
       "      <td>1996</td>\n",
       "      <td>manuell</td>\n",
       "      <td>102</td>\n",
       "      <td>transporter</td>\n",
       "      <td>150000</td>\n",
       "      <td>3</td>\n",
       "      <td>diesel</td>\n",
       "      <td>volkswagen</td>\n",
       "      <td>nein</td>\n",
       "      <td>2016-03-19 00:00:00</td>\n",
       "      <td>0</td>\n",
       "      <td>87439</td>\n",
       "      <td>2016-04-07 07:15:26</td>\n",
       "    </tr>\n",
       "    <tr>\n",
       "      <th>371526</th>\n",
       "      <td>2016-03-20 19:41:08</td>\n",
       "      <td>VW_Golf_Kombi_1_9l_TDI</td>\n",
       "      <td>privat</td>\n",
       "      <td>Angebot</td>\n",
       "      <td>3400</td>\n",
       "      <td>test</td>\n",
       "      <td>kombi</td>\n",
       "      <td>2002</td>\n",
       "      <td>manuell</td>\n",
       "      <td>100</td>\n",
       "      <td>golf</td>\n",
       "      <td>150000</td>\n",
       "      <td>6</td>\n",
       "      <td>diesel</td>\n",
       "      <td>volkswagen</td>\n",
       "      <td>NaN</td>\n",
       "      <td>2016-03-20 00:00:00</td>\n",
       "      <td>0</td>\n",
       "      <td>40764</td>\n",
       "      <td>2016-03-24 12:45:21</td>\n",
       "    </tr>\n",
       "    <tr>\n",
       "      <th>371527</th>\n",
       "      <td>2016-03-07 19:39:19</td>\n",
       "      <td>BMW_M135i_vollausgestattet_NP_52.720____Euro</td>\n",
       "      <td>privat</td>\n",
       "      <td>Angebot</td>\n",
       "      <td>28990</td>\n",
       "      <td>control</td>\n",
       "      <td>limousine</td>\n",
       "      <td>2013</td>\n",
       "      <td>manuell</td>\n",
       "      <td>320</td>\n",
       "      <td>m_reihe</td>\n",
       "      <td>50000</td>\n",
       "      <td>8</td>\n",
       "      <td>benzin</td>\n",
       "      <td>bmw</td>\n",
       "      <td>nein</td>\n",
       "      <td>2016-03-07 00:00:00</td>\n",
       "      <td>0</td>\n",
       "      <td>73326</td>\n",
       "      <td>2016-03-22 03:17:10</td>\n",
       "    </tr>\n",
       "  </tbody>\n",
       "</table>\n",
       "<p>371528 rows × 20 columns</p>\n",
       "</div>"
      ],
      "text/plain": [
       "                dateCrawled                                          name  \\\n",
       "0       2016-03-24 11:52:17                                    Golf_3_1.6   \n",
       "1       2016-03-24 10:58:45                          A5_Sportback_2.7_Tdi   \n",
       "2       2016-03-14 12:52:21                Jeep_Grand_Cherokee_\"Overland\"   \n",
       "3       2016-03-17 16:54:04                            GOLF_4_1_4__3TÜRER   \n",
       "4       2016-03-31 17:25:20                Skoda_Fabia_1.4_TDI_PD_Classic   \n",
       "...                     ...                                           ...   \n",
       "371523  2016-03-14 17:48:27                    Suche_t4___vito_ab_6_sitze   \n",
       "371524  2016-03-05 19:56:21         Smart_smart_leistungssteigerung_100ps   \n",
       "371525  2016-03-19 18:57:12            Volkswagen_Multivan_T4_TDI_7DC_UY2   \n",
       "371526  2016-03-20 19:41:08                        VW_Golf_Kombi_1_9l_TDI   \n",
       "371527  2016-03-07 19:39:19  BMW_M135i_vollausgestattet_NP_52.720____Euro   \n",
       "\n",
       "        seller offerType  price   abtest vehicleType  yearOfRegistration  \\\n",
       "0       privat   Angebot    480     test         NaN                1993   \n",
       "1       privat   Angebot  18300     test       coupe                2011   \n",
       "2       privat   Angebot   9800     test         suv                2004   \n",
       "3       privat   Angebot   1500     test  kleinwagen                2001   \n",
       "4       privat   Angebot   3600     test  kleinwagen                2008   \n",
       "...        ...       ...    ...      ...         ...                 ...   \n",
       "371523  privat   Angebot   2200     test         NaN                2005   \n",
       "371524  privat   Angebot   1199     test      cabrio                2000   \n",
       "371525  privat   Angebot   9200     test         bus                1996   \n",
       "371526  privat   Angebot   3400     test       kombi                2002   \n",
       "371527  privat   Angebot  28990  control   limousine                2013   \n",
       "\n",
       "          gearbox  powerPS        model  kilometer  monthOfRegistration  \\\n",
       "0         manuell        0         golf     150000                    0   \n",
       "1         manuell      190          NaN     125000                    5   \n",
       "2       automatik      163        grand     125000                    8   \n",
       "3         manuell       75         golf     150000                    6   \n",
       "4         manuell       69        fabia      90000                    7   \n",
       "...           ...      ...          ...        ...                  ...   \n",
       "371523        NaN        0          NaN      20000                    1   \n",
       "371524  automatik      101       fortwo     125000                    3   \n",
       "371525    manuell      102  transporter     150000                    3   \n",
       "371526    manuell      100         golf     150000                    6   \n",
       "371527    manuell      320      m_reihe      50000                    8   \n",
       "\n",
       "       fuelType           brand notRepairedDamage          dateCreated  \\\n",
       "0        benzin      volkswagen               NaN  2016-03-24 00:00:00   \n",
       "1        diesel            audi                ja  2016-03-24 00:00:00   \n",
       "2        diesel            jeep               NaN  2016-03-14 00:00:00   \n",
       "3        benzin      volkswagen              nein  2016-03-17 00:00:00   \n",
       "4        diesel           skoda              nein  2016-03-31 00:00:00   \n",
       "...         ...             ...               ...                  ...   \n",
       "371523      NaN  sonstige_autos               NaN  2016-03-14 00:00:00   \n",
       "371524   benzin           smart              nein  2016-03-05 00:00:00   \n",
       "371525   diesel      volkswagen              nein  2016-03-19 00:00:00   \n",
       "371526   diesel      volkswagen               NaN  2016-03-20 00:00:00   \n",
       "371527   benzin             bmw              nein  2016-03-07 00:00:00   \n",
       "\n",
       "        nrOfPictures  postalCode             lastSeen  \n",
       "0                  0       70435  2016-04-07 03:16:57  \n",
       "1                  0       66954  2016-04-07 01:46:50  \n",
       "2                  0       90480  2016-04-05 12:47:46  \n",
       "3                  0       91074  2016-03-17 17:40:17  \n",
       "4                  0       60437  2016-04-06 10:17:21  \n",
       "...              ...         ...                  ...  \n",
       "371523             0       39576  2016-04-06 00:46:52  \n",
       "371524             0       26135  2016-03-11 18:17:12  \n",
       "371525             0       87439  2016-04-07 07:15:26  \n",
       "371526             0       40764  2016-03-24 12:45:21  \n",
       "371527             0       73326  2016-03-22 03:17:10  \n",
       "\n",
       "[371528 rows x 20 columns]"
      ]
     },
     "execution_count": 5,
     "metadata": {},
     "output_type": "execute_result"
    }
   ],
   "source": [
    "df"
   ]
  },
  {
   "cell_type": "markdown",
   "metadata": {
    "id": "ldpfrpss9kTD"
   },
   "source": [
    "В качестве альтернативы можно использовать следующие команды:"
   ]
  },
  {
   "cell_type": "code",
   "execution_count": 6,
   "metadata": {
    "colab": {
     "base_uri": "https://localhost:8080/",
     "height": 394
    },
    "id": "LnltaMSO8w7j",
    "outputId": "0dc792cd-6a08-480f-d8b1-9b1fc571f599"
   },
   "outputs": [
    {
     "data": {
      "text/html": [
       "<div>\n",
       "<style scoped>\n",
       "    .dataframe tbody tr th:only-of-type {\n",
       "        vertical-align: middle;\n",
       "    }\n",
       "\n",
       "    .dataframe tbody tr th {\n",
       "        vertical-align: top;\n",
       "    }\n",
       "\n",
       "    .dataframe thead th {\n",
       "        text-align: right;\n",
       "    }\n",
       "</style>\n",
       "<table border=\"1\" class=\"dataframe\">\n",
       "  <thead>\n",
       "    <tr style=\"text-align: right;\">\n",
       "      <th></th>\n",
       "      <th>dateCrawled</th>\n",
       "      <th>name</th>\n",
       "      <th>seller</th>\n",
       "      <th>offerType</th>\n",
       "      <th>price</th>\n",
       "      <th>abtest</th>\n",
       "      <th>vehicleType</th>\n",
       "      <th>yearOfRegistration</th>\n",
       "      <th>gearbox</th>\n",
       "      <th>powerPS</th>\n",
       "      <th>model</th>\n",
       "      <th>kilometer</th>\n",
       "      <th>monthOfRegistration</th>\n",
       "      <th>fuelType</th>\n",
       "      <th>brand</th>\n",
       "      <th>notRepairedDamage</th>\n",
       "      <th>dateCreated</th>\n",
       "      <th>nrOfPictures</th>\n",
       "      <th>postalCode</th>\n",
       "      <th>lastSeen</th>\n",
       "    </tr>\n",
       "  </thead>\n",
       "  <tbody>\n",
       "    <tr>\n",
       "      <th>0</th>\n",
       "      <td>2016-03-24 11:52:17</td>\n",
       "      <td>Golf_3_1.6</td>\n",
       "      <td>privat</td>\n",
       "      <td>Angebot</td>\n",
       "      <td>480</td>\n",
       "      <td>test</td>\n",
       "      <td>NaN</td>\n",
       "      <td>1993</td>\n",
       "      <td>manuell</td>\n",
       "      <td>0</td>\n",
       "      <td>golf</td>\n",
       "      <td>150000</td>\n",
       "      <td>0</td>\n",
       "      <td>benzin</td>\n",
       "      <td>volkswagen</td>\n",
       "      <td>NaN</td>\n",
       "      <td>2016-03-24 00:00:00</td>\n",
       "      <td>0</td>\n",
       "      <td>70435</td>\n",
       "      <td>2016-04-07 03:16:57</td>\n",
       "    </tr>\n",
       "    <tr>\n",
       "      <th>1</th>\n",
       "      <td>2016-03-24 10:58:45</td>\n",
       "      <td>A5_Sportback_2.7_Tdi</td>\n",
       "      <td>privat</td>\n",
       "      <td>Angebot</td>\n",
       "      <td>18300</td>\n",
       "      <td>test</td>\n",
       "      <td>coupe</td>\n",
       "      <td>2011</td>\n",
       "      <td>manuell</td>\n",
       "      <td>190</td>\n",
       "      <td>NaN</td>\n",
       "      <td>125000</td>\n",
       "      <td>5</td>\n",
       "      <td>diesel</td>\n",
       "      <td>audi</td>\n",
       "      <td>ja</td>\n",
       "      <td>2016-03-24 00:00:00</td>\n",
       "      <td>0</td>\n",
       "      <td>66954</td>\n",
       "      <td>2016-04-07 01:46:50</td>\n",
       "    </tr>\n",
       "    <tr>\n",
       "      <th>2</th>\n",
       "      <td>2016-03-14 12:52:21</td>\n",
       "      <td>Jeep_Grand_Cherokee_\"Overland\"</td>\n",
       "      <td>privat</td>\n",
       "      <td>Angebot</td>\n",
       "      <td>9800</td>\n",
       "      <td>test</td>\n",
       "      <td>suv</td>\n",
       "      <td>2004</td>\n",
       "      <td>automatik</td>\n",
       "      <td>163</td>\n",
       "      <td>grand</td>\n",
       "      <td>125000</td>\n",
       "      <td>8</td>\n",
       "      <td>diesel</td>\n",
       "      <td>jeep</td>\n",
       "      <td>NaN</td>\n",
       "      <td>2016-03-14 00:00:00</td>\n",
       "      <td>0</td>\n",
       "      <td>90480</td>\n",
       "      <td>2016-04-05 12:47:46</td>\n",
       "    </tr>\n",
       "  </tbody>\n",
       "</table>\n",
       "</div>"
      ],
      "text/plain": [
       "           dateCrawled                            name  seller offerType  \\\n",
       "0  2016-03-24 11:52:17                      Golf_3_1.6  privat   Angebot   \n",
       "1  2016-03-24 10:58:45            A5_Sportback_2.7_Tdi  privat   Angebot   \n",
       "2  2016-03-14 12:52:21  Jeep_Grand_Cherokee_\"Overland\"  privat   Angebot   \n",
       "\n",
       "   price abtest vehicleType  yearOfRegistration    gearbox  powerPS  model  \\\n",
       "0    480   test         NaN                1993    manuell        0   golf   \n",
       "1  18300   test       coupe                2011    manuell      190    NaN   \n",
       "2   9800   test         suv                2004  automatik      163  grand   \n",
       "\n",
       "   kilometer  monthOfRegistration fuelType       brand notRepairedDamage  \\\n",
       "0     150000                    0   benzin  volkswagen               NaN   \n",
       "1     125000                    5   diesel        audi                ja   \n",
       "2     125000                    8   diesel        jeep               NaN   \n",
       "\n",
       "           dateCreated  nrOfPictures  postalCode             lastSeen  \n",
       "0  2016-03-24 00:00:00             0       70435  2016-04-07 03:16:57  \n",
       "1  2016-03-24 00:00:00             0       66954  2016-04-07 01:46:50  \n",
       "2  2016-03-14 00:00:00             0       90480  2016-04-05 12:47:46  "
      ]
     },
     "execution_count": 6,
     "metadata": {},
     "output_type": "execute_result"
    }
   ],
   "source": [
    "df.head(3)"
   ]
  },
  {
   "cell_type": "code",
   "execution_count": 7,
   "metadata": {
    "colab": {
     "base_uri": "https://localhost:8080/"
    },
    "id": "L64s_vEf9ukW",
    "outputId": "fa06ea44-c97e-42a4-8e10-adcb45e5af3e",
    "scrolled": false
   },
   "outputs": [
    {
     "name": "stdout",
     "output_type": "stream",
     "text": [
      "<class 'pandas.core.frame.DataFrame'>\n",
      "RangeIndex: 371528 entries, 0 to 371527\n",
      "Data columns (total 20 columns):\n",
      " #   Column               Non-Null Count   Dtype \n",
      "---  ------               --------------   ----- \n",
      " 0   dateCrawled          371528 non-null  object\n",
      " 1   name                 371528 non-null  object\n",
      " 2   seller               371528 non-null  object\n",
      " 3   offerType            371528 non-null  object\n",
      " 4   price                371528 non-null  int64 \n",
      " 5   abtest               371528 non-null  object\n",
      " 6   vehicleType          333659 non-null  object\n",
      " 7   yearOfRegistration   371528 non-null  int64 \n",
      " 8   gearbox              351319 non-null  object\n",
      " 9   powerPS              371528 non-null  int64 \n",
      " 10  model                351044 non-null  object\n",
      " 11  kilometer            371528 non-null  int64 \n",
      " 12  monthOfRegistration  371528 non-null  int64 \n",
      " 13  fuelType             338142 non-null  object\n",
      " 14  brand                371528 non-null  object\n",
      " 15  notRepairedDamage    299468 non-null  object\n",
      " 16  dateCreated          371528 non-null  object\n",
      " 17  nrOfPictures         371528 non-null  int64 \n",
      " 18  postalCode           371528 non-null  int64 \n",
      " 19  lastSeen             371528 non-null  object\n",
      "dtypes: int64(7), object(13)\n",
      "memory usage: 56.7+ MB\n"
     ]
    }
   ],
   "source": [
    "df.info()"
   ]
  },
  {
   "cell_type": "markdown",
   "metadata": {
    "id": "zJyR0bYa-NH-"
   },
   "source": [
    "Теперь можно переходить непосредственно к анализу наших данных. Первым шагом в этом процессе должно стать определение количества уникальных значений в каждом столбце. Для начала рассмотрим первый столбец. Команда unique() генерирует список всех уникальных значений."
   ]
  },
  {
   "cell_type": "code",
   "execution_count": 8,
   "metadata": {
    "colab": {
     "base_uri": "https://localhost:8080/"
    },
    "id": "DQSdz2Df9v26",
    "outputId": "ec01951d-8005-440d-8f4a-198f1a2d7648"
   },
   "outputs": [
    {
     "data": {
      "text/plain": [
       "array(['2016-03-24 11:52:17', '2016-03-24 10:58:45',\n",
       "       '2016-03-14 12:52:21', ..., '2016-03-14 17:48:27',\n",
       "       '2016-03-19 18:57:12', '2016-03-07 19:39:19'], dtype=object)"
      ]
     },
     "execution_count": 8,
     "metadata": {},
     "output_type": "execute_result"
    }
   ],
   "source": [
    "df['dateCrawled'].unique()"
   ]
  },
  {
   "cell_type": "markdown",
   "metadata": {
    "id": "IYF5_K1n-4SB"
   },
   "source": [
    "Так как нам необходимо количество различных значений, то берем длину полученного списка."
   ]
  },
  {
   "cell_type": "code",
   "execution_count": 9,
   "metadata": {
    "colab": {
     "base_uri": "https://localhost:8080/"
    },
    "id": "UzevOE8X9vz5",
    "outputId": "c9ccc76d-196a-4462-ae0d-64d0c9fd1ccb"
   },
   "outputs": [
    {
     "data": {
      "text/plain": [
       "280500"
      ]
     },
     "execution_count": 9,
     "metadata": {},
     "output_type": "execute_result"
    }
   ],
   "source": [
    "len(df['dateCrawled'].unique())"
   ]
  },
  {
   "cell_type": "markdown",
   "metadata": {
    "id": "5yloXtiN_EL0"
   },
   "source": [
    "Проводим данную операцию для всех столбцов нашей базы данных."
   ]
  },
  {
   "cell_type": "code",
   "execution_count": 10,
   "metadata": {
    "colab": {
     "base_uri": "https://localhost:8080/"
    },
    "id": "FZq48ksO9vxp",
    "outputId": "cd077487-4b7a-4324-83b1-943ed95b14ef"
   },
   "outputs": [
    {
     "name": "stdout",
     "output_type": "stream",
     "text": [
      "dateCrawled 280500\n",
      "name 233531\n",
      "seller 2\n",
      "offerType 2\n",
      "price 5597\n",
      "abtest 2\n",
      "vehicleType 9\n",
      "yearOfRegistration 155\n",
      "gearbox 3\n",
      "powerPS 794\n",
      "model 252\n",
      "kilometer 13\n",
      "monthOfRegistration 13\n",
      "fuelType 8\n",
      "brand 40\n",
      "notRepairedDamage 3\n",
      "dateCreated 114\n",
      "nrOfPictures 1\n",
      "postalCode 8150\n",
      "lastSeen 182806\n"
     ]
    }
   ],
   "source": [
    "names = list(df)\n",
    "for name in names:\n",
    "    print(name, len(df[name].unique()))"
   ]
  },
  {
   "cell_type": "markdown",
   "metadata": {
    "id": "U6BMGrd7_NiV"
   },
   "source": [
    "Полученный результат достаточно сложно анализировать, поэтому следует выровнять вывод столбцов на экран."
   ]
  },
  {
   "cell_type": "code",
   "execution_count": 11,
   "metadata": {
    "colab": {
     "base_uri": "https://localhost:8080/"
    },
    "id": "R94bUADJ9vuw",
    "outputId": "1ac29316-c3cf-4849-9872-394fddc3416a"
   },
   "outputs": [
    {
     "name": "stdout",
     "output_type": "stream",
     "text": [
      "         dateCrawled 280500\n",
      "                name 233531\n",
      "              seller      2\n",
      "           offerType      2\n",
      "               price   5597\n",
      "              abtest      2\n",
      "         vehicleType      9\n",
      "  yearOfRegistration    155\n",
      "             gearbox      3\n",
      "             powerPS    794\n",
      "               model    252\n",
      "           kilometer     13\n",
      " monthOfRegistration     13\n",
      "            fuelType      8\n",
      "               brand     40\n",
      "   notRepairedDamage      3\n",
      "         dateCreated    114\n",
      "        nrOfPictures      1\n",
      "          postalCode   8150\n",
      "            lastSeen 182806\n"
     ]
    }
   ],
   "source": [
    "names = list(df)\n",
    "for name in names:\n",
    "    print(\"%20s%7d\" % (name, len(df[name].unique())))"
   ]
  },
  {
   "cell_type": "markdown",
   "metadata": {
    "id": "8_z06nxN_X4v"
   },
   "source": [
    "Столбцы с высокой кардинальностью (большим количеством уникальных значений) не несут практической пользы в рамках нашей задачи."
   ]
  },
  {
   "cell_type": "markdown",
   "metadata": {
    "id": "NBMzyko9_ZDi"
   },
   "source": [
    "*Примечание*: Данная оговорка важна, так как, помимо задачи расчета стоимости подержанного автомобиля, данная база может обрабатываться кем-то в рамках исследования глобальных экономических процессов, тогда важным станет столбец со временем создания объявления, что позволит делать выводы о текущей экономической ситуации в стране в зависимости от запрошенной владельцем стоимости в конкретный момент времени, или столбец с почтовыми индексами, для анализа зависимости цен от географического расположения участника сделки."
   ]
  },
  {
   "cell_type": "markdown",
   "metadata": {
    "id": "2y8tv3Y1BJub"
   },
   "source": [
    "Исходя из специфики нашего исследования, мы можем смело избавиться от столбцов с датой, датой последнего просмотра объявления, почтовым индексом и именем объявления, так как, исходя из анализа кардинальности, оно не несет полезной информации, а лишь является агрегацией нескольких других полей."
   ]
  },
  {
   "cell_type": "markdown",
   "metadata": {
    "id": "gDNgGXfBBUd_"
   },
   "source": [
    "Хотя столбец цены тоже обладает высокой кардинальностью, его следует оставить не только из-за того, что он является ключевым для нашего исследования, но и, исходя из вполне обоснованного предположения, что многообразие цен является закономерным и обыденным. "
   ]
  },
  {
   "cell_type": "code",
   "execution_count": 12,
   "metadata": {
    "id": "KSSVfli69vsZ"
   },
   "outputs": [],
   "source": [
    "del df[\"dateCrawled\"]\n",
    "del df[\"name\"]\n",
    "del df[\"postalCode\"]\n",
    "del df[\"lastSeen\"]"
   ]
  },
  {
   "cell_type": "markdown",
   "metadata": {
    "id": "q1n3kGBMBSPB"
   },
   "source": [
    "Теперь следует рассмотреть какие еще поля можно исключить из рассмотрения, как неактуальные для нашей задачи. Тип продавца, тип сделки, столбец «abtest», описание которого отсутствует даже на сайте с набором данных, дата создания объявления и количество изображений в объявлении на мой субъективный взгляд являются малозначимыми для нашей задачи. Вы можете думать иначе и, возможно, захотите их оставить. Будет интересно узнать Ваше видение ситуации. Кроме того, я считаю, что следует избавиться от месяца регистрации ТС, из-за некой избыточности этих данных."
   ]
  },
  {
   "cell_type": "code",
   "execution_count": 13,
   "metadata": {
    "id": "VFtSS2eJ9vpu"
   },
   "outputs": [],
   "source": [
    "del df[\"seller\"]\n",
    "del df[\"offerType\"]\n",
    "del df[\"abtest\"]\n",
    "del df[\"monthOfRegistration\"]\n",
    "del df[\"dateCreated\"]\n",
    "del df[\"nrOfPictures\"]"
   ]
  },
  {
   "cell_type": "code",
   "execution_count": 14,
   "metadata": {
    "colab": {
     "base_uri": "https://localhost:8080/"
    },
    "id": "IPUx-bOyBfJZ",
    "outputId": "40006f09-baef-4597-c015-e2f929a1826c"
   },
   "outputs": [
    {
     "name": "stdout",
     "output_type": "stream",
     "text": [
      "               price   5597\n",
      "         vehicleType      9\n",
      "  yearOfRegistration    155\n",
      "             gearbox      3\n",
      "             powerPS    794\n",
      "               model    252\n",
      "           kilometer     13\n",
      "            fuelType      8\n",
      "               brand     40\n",
      "   notRepairedDamage      3\n"
     ]
    }
   ],
   "source": [
    "names = list(df)\n",
    "for name in names:\n",
    "    print(\"%20s%7d\" % (name, len(df[name].unique())))"
   ]
  },
  {
   "cell_type": "markdown",
   "metadata": {
    "id": "GLYxEIjZBkKP"
   },
   "source": [
    "Теперь необходимо определить в каких столбцах присутствуют поврежденные (неполные) данные. Для столбцов с присутствующими NULL-элементами произведем подсчет количества этих элементов."
   ]
  },
  {
   "cell_type": "code",
   "execution_count": 15,
   "metadata": {
    "colab": {
     "base_uri": "https://localhost:8080/"
    },
    "id": "IjMc9FVNBrga",
    "outputId": "c57a13c5-8b34-4ff4-9a17-aa12a968eec0"
   },
   "outputs": [
    {
     "data": {
      "text/plain": [
       "price                 False\n",
       "vehicleType            True\n",
       "yearOfRegistration    False\n",
       "gearbox                True\n",
       "powerPS               False\n",
       "model                  True\n",
       "kilometer             False\n",
       "fuelType               True\n",
       "brand                 False\n",
       "notRepairedDamage      True\n",
       "dtype: bool"
      ]
     },
     "execution_count": 15,
     "metadata": {},
     "output_type": "execute_result"
    }
   ],
   "source": [
    "df.isnull().any()"
   ]
  },
  {
   "cell_type": "code",
   "execution_count": 16,
   "metadata": {
    "colab": {
     "base_uri": "https://localhost:8080/"
    },
    "id": "UvYKXTzjBsE5",
    "outputId": "dcf4d15d-03ea-48d2-dbad-9687aafede3b"
   },
   "outputs": [
    {
     "data": {
      "text/plain": [
       "37869"
      ]
     },
     "execution_count": 16,
     "metadata": {},
     "output_type": "execute_result"
    }
   ],
   "source": [
    "sum(pd.isnull(df['vehicleType']))"
   ]
  },
  {
   "cell_type": "code",
   "execution_count": 17,
   "metadata": {
    "colab": {
     "base_uri": "https://localhost:8080/"
    },
    "id": "RkIU4clhBsC2",
    "outputId": "5e476198-b7c4-4020-caa0-88b422f9219b"
   },
   "outputs": [
    {
     "data": {
      "text/plain": [
       "20209"
      ]
     },
     "execution_count": 17,
     "metadata": {},
     "output_type": "execute_result"
    }
   ],
   "source": [
    "sum(pd.isnull(df['gearbox']))"
   ]
  },
  {
   "cell_type": "code",
   "execution_count": 18,
   "metadata": {
    "colab": {
     "base_uri": "https://localhost:8080/"
    },
    "id": "jXazoTF-BsAe",
    "outputId": "7b3c0120-95f2-47df-8a65-afc0c91d33bb"
   },
   "outputs": [
    {
     "data": {
      "text/plain": [
       "20484"
      ]
     },
     "execution_count": 18,
     "metadata": {},
     "output_type": "execute_result"
    }
   ],
   "source": [
    "sum(pd.isnull(df['model']))"
   ]
  },
  {
   "cell_type": "code",
   "execution_count": 19,
   "metadata": {
    "colab": {
     "base_uri": "https://localhost:8080/"
    },
    "id": "VQefXAMJBr97",
    "outputId": "8926d408-9f06-496c-ab26-633224001c6c"
   },
   "outputs": [
    {
     "data": {
      "text/plain": [
       "33386"
      ]
     },
     "execution_count": 19,
     "metadata": {},
     "output_type": "execute_result"
    }
   ],
   "source": [
    "sum(pd.isnull(df['fuelType']))"
   ]
  },
  {
   "cell_type": "code",
   "execution_count": 20,
   "metadata": {
    "colab": {
     "base_uri": "https://localhost:8080/"
    },
    "id": "U89rF6ELBr7e",
    "outputId": "6da612e9-5964-4fea-df0c-36bba0f1065d"
   },
   "outputs": [
    {
     "data": {
      "text/plain": [
       "72060"
      ]
     },
     "execution_count": 20,
     "metadata": {},
     "output_type": "execute_result"
    }
   ],
   "source": [
    "sum(pd.isnull(df['notRepairedDamage']))"
   ]
  },
  {
   "cell_type": "markdown",
   "metadata": {
    "id": "AyS3RqR_Cnvh"
   },
   "source": [
    "Несмотря на то, что столбец с информацией о наличии восстановительных работ очень важен при формировании цены, мы не можем удалить из базы все строки с пропущенным данным параметром, так как это моментально приведет к потере 20% накопленной информации.\n"
   ]
  },
  {
   "cell_type": "markdown",
   "metadata": {
    "id": "nFsGpNcHCr22"
   },
   "source": [
    "Отсутствие в части объявлении информации о типе кузова автомобиля не является критическим, так как может быть восстановлен по марке и модели. Следовательно, необходимо сосредоточиться на оставшихся трех столбцах."
   ]
  },
  {
   "cell_type": "markdown",
   "metadata": {
    "id": "Wy8lfyJvFDEm"
   },
   "source": [
    "Последовательно производится удаление поврежденных данных из столбцов с данными о коробке передач, мощности двигателя и модели. Если вернуться к подсчету отсутствующих полей в трех столбцах и сравнить их общее количество с количеством фактически удаленных данных получим расхождение примерно в двадцать тысяч записей, что свидетельствует о пересечении данных множеств. "
   ]
  },
  {
   "cell_type": "code",
   "execution_count": 21,
   "metadata": {
    "colab": {
     "base_uri": "https://localhost:8080/"
    },
    "id": "Re44GPACCxzI",
    "outputId": "77e2b9d7-2aa2-4e27-c540-e0bfec0c269a"
   },
   "outputs": [
    {
     "data": {
      "text/plain": [
       "371528"
      ]
     },
     "execution_count": 21,
     "metadata": {},
     "output_type": "execute_result"
    }
   ],
   "source": [
    "len(df.index)"
   ]
  },
  {
   "cell_type": "code",
   "execution_count": 22,
   "metadata": {
    "id": "SeJc-afmCxwr"
   },
   "outputs": [],
   "source": [
    "df = df.drop(df[pd.isnull(df['gearbox'])].index)"
   ]
  },
  {
   "cell_type": "code",
   "execution_count": 23,
   "metadata": {
    "colab": {
     "base_uri": "https://localhost:8080/"
    },
    "id": "IHBAyVzMCxt2",
    "outputId": "60f3356e-d90d-4d91-88bb-6d452c3a1898"
   },
   "outputs": [
    {
     "data": {
      "text/plain": [
       "351319"
      ]
     },
     "execution_count": 23,
     "metadata": {},
     "output_type": "execute_result"
    }
   ],
   "source": [
    "len(df.index)"
   ]
  },
  {
   "cell_type": "code",
   "execution_count": 24,
   "metadata": {
    "id": "ZGM0-m3TCxrm"
   },
   "outputs": [],
   "source": [
    "df = df.drop(df[pd.isnull(df['model'])].index)"
   ]
  },
  {
   "cell_type": "code",
   "execution_count": 25,
   "metadata": {
    "colab": {
     "base_uri": "https://localhost:8080/"
    },
    "id": "6LD6gWAICxpI",
    "outputId": "b92c4d4c-8d3b-42b2-e532-fa9426be92d0"
   },
   "outputs": [
    {
     "data": {
      "text/plain": [
       "335068"
      ]
     },
     "execution_count": 25,
     "metadata": {},
     "output_type": "execute_result"
    }
   ],
   "source": [
    "len(df.index)"
   ]
  },
  {
   "cell_type": "code",
   "execution_count": 26,
   "metadata": {
    "id": "p6sY0nyLCxmk"
   },
   "outputs": [],
   "source": [
    "df = df.drop(df[pd.isnull(df['fuelType'])].index)"
   ]
  },
  {
   "cell_type": "code",
   "execution_count": 27,
   "metadata": {
    "colab": {
     "base_uri": "https://localhost:8080/"
    },
    "id": "3Ne3C48cCxkL",
    "outputId": "8a80a613-9de1-4aea-dbbc-510b2a663b21"
   },
   "outputs": [
    {
     "data": {
      "text/plain": [
       "315097"
      ]
     },
     "execution_count": 27,
     "metadata": {},
     "output_type": "execute_result"
    }
   ],
   "source": [
    "len(df.index)"
   ]
  },
  {
   "cell_type": "code",
   "execution_count": 28,
   "metadata": {
    "colab": {
     "base_uri": "https://localhost:8080/"
    },
    "id": "kzGRzEbrCxhf",
    "outputId": "7d8e681f-c1bb-4d48-c97d-d965b564405c"
   },
   "outputs": [
    {
     "data": {
      "text/plain": [
       "56431"
      ]
     },
     "execution_count": 28,
     "metadata": {},
     "output_type": "execute_result"
    }
   ],
   "source": [
    "371528 - 315097"
   ]
  },
  {
   "cell_type": "code",
   "execution_count": 29,
   "metadata": {
    "colab": {
     "base_uri": "https://localhost:8080/"
    },
    "id": "PHYy6q1kCxfA",
    "outputId": "b79c006b-81bd-4e1f-a78f-dfa32c27f49e"
   },
   "outputs": [
    {
     "data": {
      "text/plain": [
       "74079"
      ]
     },
     "execution_count": 29,
     "metadata": {},
     "output_type": "execute_result"
    }
   ],
   "source": [
    "20209 + 20484 + 33386"
   ]
  },
  {
   "cell_type": "markdown",
   "metadata": {
    "id": "TBZZCzWdFxzt"
   },
   "source": [
    "Так как удаление 56-ти тысячи записей не многим лучше удаления 72-ух тысяч, удалим из базы лишь те записи, в которых отсутствуют все три перечисленных поля одновременно, а в остальных случаях впоследствии воспользуемся какими-либо методами восстановления данных, например, деревом решений."
   ]
  },
  {
   "cell_type": "markdown",
   "metadata": {
    "id": "82X5WPC2F2zG"
   },
   "source": [
    "Восстановим базу до состояния перед началом удаления строк."
   ]
  },
  {
   "cell_type": "code",
   "execution_count": 30,
   "metadata": {
    "id": "pgfqRbVJF794"
   },
   "outputs": [],
   "source": [
    "df = pd.read_csv('autos.csv', encoding='iso-8859-1')\n",
    "del df[\"dateCrawled\"]\n",
    "del df[\"name\"]\n",
    "del df[\"postalCode\"]\n",
    "del df[\"lastSeen\"]\n",
    "del df[\"seller\"]\n",
    "del df[\"offerType\"]\n",
    "del df[\"abtest\"]\n",
    "del df[\"monthOfRegistration\"]\n",
    "del df[\"dateCreated\"]\n",
    "del df[\"nrOfPictures\"]"
   ]
  },
  {
   "cell_type": "markdown",
   "metadata": {
    "id": "IpECxIm1GTsX"
   },
   "source": [
    "Проверим состояние базы и проведем удаление."
   ]
  },
  {
   "cell_type": "code",
   "execution_count": 31,
   "metadata": {
    "colab": {
     "base_uri": "https://localhost:8080/"
    },
    "id": "_PG0ZO9FGbAH",
    "outputId": "41112c18-0516-4d5e-bf7f-8643c330912e"
   },
   "outputs": [
    {
     "data": {
      "text/plain": [
       "371528"
      ]
     },
     "execution_count": 31,
     "metadata": {},
     "output_type": "execute_result"
    }
   ],
   "source": [
    "len(df.index)"
   ]
  },
  {
   "cell_type": "code",
   "execution_count": 32,
   "metadata": {
    "id": "g7Xjx8S3Gf7x"
   },
   "outputs": [],
   "source": [
    "df = df.drop(df[pd.isnull(df['gearbox']) & pd.isnull(df['model']) & pd.isnull(df['fuelType'])].index)"
   ]
  },
  {
   "cell_type": "code",
   "execution_count": 33,
   "metadata": {
    "colab": {
     "base_uri": "https://localhost:8080/"
    },
    "id": "ocMGSc76Gkgr",
    "outputId": "f644ecfb-a4c2-4f8c-fbee-950b5b8eec93"
   },
   "outputs": [
    {
     "data": {
      "text/plain": [
       "368533"
      ]
     },
     "execution_count": 33,
     "metadata": {},
     "output_type": "execute_result"
    }
   ],
   "source": [
    "len(df.index)"
   ]
  },
  {
   "cell_type": "markdown",
   "metadata": {
    "id": "3cHGYBzfGO9Q"
   },
   "source": [
    "По итогу получили удаление приблизительно трех тысяч записей, что не является критичным, так как составляет меньше 1% от исходного набора."
   ]
  },
  {
   "cell_type": "markdown",
   "metadata": {
    "id": "2SaKo-MxGr6F"
   },
   "source": [
    "Для оставшихся трех числовых столбцов построим гистограммы, чтобы убедиться в целостности и правильности данных."
   ]
  },
  {
   "cell_type": "code",
   "execution_count": 34,
   "metadata": {
    "colab": {
     "base_uri": "https://localhost:8080/",
     "height": 315
    },
    "id": "gd6a9OZzGurP",
    "outputId": "1ae8cfe3-a278-4e0a-8f02-1f0bb3438a90"
   },
   "outputs": [
    {
     "data": {
      "text/plain": [
       "array([[<matplotlib.axes._subplots.AxesSubplot object at 0x000001CACD330408>]],\n",
       "      dtype=object)"
      ]
     },
     "execution_count": 34,
     "metadata": {},
     "output_type": "execute_result"
    },
    {
     "data": {
      "image/png": "[encoded data removed]",
      "text/plain": [
       "<Figure size 432x288 with 1 Axes>"
      ]
     },
     "metadata": {
      "needs_background": "light"
     },
     "output_type": "display_data"
    }
   ],
   "source": [
    "df.hist([\"kilometer\"])"
   ]
  },
  {
   "cell_type": "markdown",
   "metadata": {
    "id": "Ujy3LCs8G2Qn"
   },
   "source": [
    "Как прекрасно видно из гистограммы, никаких патологий в столбце с пробегом не наблюдается."
   ]
  },
  {
   "cell_type": "code",
   "execution_count": 35,
   "metadata": {
    "colab": {
     "base_uri": "https://localhost:8080/",
     "height": 315
    },
    "id": "dId_VWnfCxc9",
    "outputId": "b0b07eb6-bdf4-4b2a-cc38-559ad65388e1"
   },
   "outputs": [
    {
     "data": {
      "text/plain": [
       "array([[<matplotlib.axes._subplots.AxesSubplot object at 0x000001CACB6D9088>]],\n",
       "      dtype=object)"
      ]
     },
     "execution_count": 35,
     "metadata": {},
     "output_type": "execute_result"
    },
    {
     "data": {
      "image/png": "[encoded data removed]",
      "text/plain": [
       "<Figure size 432x288 with 1 Axes>"
      ]
     },
     "metadata": {
      "needs_background": "light"
     },
     "output_type": "display_data"
    }
   ],
   "source": [
    "df.hist([\"yearOfRegistration\"])"
   ]
  },
  {
   "cell_type": "markdown",
   "metadata": {
    "id": "KUpVDpdzHQMv"
   },
   "source": [
    "А вот на данных о годе регистрации ТС картина не столь хороша. Как можно видеть из гистограммы, основной объем зарегистрированных автомобилей приходится на стык первого и второго тысячелетия, что, в целом, соответствует действительности. Что же не так? Растянутая ось абсцисс свидетельствует о том, что в нашей базе есть записи, в которых год регистрации превышает 9000 год нашей эры. Разберемся с этим более подробно."
   ]
  },
  {
   "cell_type": "markdown",
   "metadata": {
    "id": "6lCX96zOHT-6"
   },
   "source": [
    "При выводе гистограммы для временного периода с 1950-го года по 2020-ый получаем вполне закономерную картину. Автомобилей старых лет на рынке все меньше из-за банального износа, а автомобили последнего десятилетия продаются менее активно, так как автомобиль возрастом до пяти лет, в принципе, считается новым и хозяева редко решают расстаться с ним."
   ]
  },
  {
   "cell_type": "code",
   "execution_count": 36,
   "metadata": {
    "colab": {
     "base_uri": "https://localhost:8080/",
     "height": 315
    },
    "id": "QZwxMb9qCxaL",
    "outputId": "ab79aba5-eadb-4383-97b9-d01931b2825d"
   },
   "outputs": [
    {
     "data": {
      "text/plain": [
       "array([[<matplotlib.axes._subplots.AxesSubplot object at 0x000001CACC521548>]],\n",
       "      dtype=object)"
      ]
     },
     "execution_count": 36,
     "metadata": {},
     "output_type": "execute_result"
    },
    {
     "data": {
      "image/png": "[encoded data removed]",
      "text/plain": [
       "<Figure size 432x288 with 1 Axes>"
      ]
     },
     "metadata": {
      "needs_background": "light"
     },
     "output_type": "display_data"
    }
   ],
   "source": [
    "df.hist([\"yearOfRegistration\"], range = [1950, 2020])"
   ]
  },
  {
   "cell_type": "markdown",
   "metadata": {
    "id": "v3pdPIuOHmtt"
   },
   "source": [
    "При рассмотрении промежутка до 1950-го года получаем, что кто-то продает автомобили, произведенные в начале второго тысячелетия. Конечно, может быть это какие-то экипажи, мощностью в 6 лошадиных сил или колесницы в 2 л.с., но, в рамках данной работы, их стоит исключить, так как даже в рамках пика около 1950 объем этих объявлений не превышает 200."
   ]
  },
  {
   "cell_type": "code",
   "execution_count": 37,
   "metadata": {
    "colab": {
     "base_uri": "https://localhost:8080/",
     "height": 315
    },
    "id": "bSgbXQMjCxXs",
    "outputId": "29ad71a5-9461-48d2-eb96-2a72e91e7fcd"
   },
   "outputs": [
    {
     "data": {
      "text/plain": [
       "array([[<matplotlib.axes._subplots.AxesSubplot object at 0x000001CAC10587C8>]],\n",
       "      dtype=object)"
      ]
     },
     "execution_count": 37,
     "metadata": {},
     "output_type": "execute_result"
    },
    {
     "data": {
      "image/png": "[encoded data removed]",
      "text/plain": [
       "<Figure size 432x288 with 1 Axes>"
      ]
     },
     "metadata": {
      "needs_background": "light"
     },
     "output_type": "display_data"
    }
   ],
   "source": [
    "df.hist([\"yearOfRegistration\"], range = [0, 1950])"
   ]
  },
  {
   "cell_type": "markdown",
   "metadata": {
    "id": "0-akhMF6HxZZ"
   },
   "source": [
    "Так же стоит избавиться от ~100 объявлений о продаже путешественников во времени, прибывших к нам из далекого и не очень будущего."
   ]
  },
  {
   "cell_type": "code",
   "execution_count": 38,
   "metadata": {
    "colab": {
     "base_uri": "https://localhost:8080/",
     "height": 315
    },
    "id": "TlnwCKi_CxVE",
    "outputId": "718f5a9e-5865-4250-c236-1c99a57157b9"
   },
   "outputs": [
    {
     "data": {
      "text/plain": [
       "array([[<matplotlib.axes._subplots.AxesSubplot object at 0x000001CACD349CC8>]],\n",
       "      dtype=object)"
      ]
     },
     "execution_count": 38,
     "metadata": {},
     "output_type": "execute_result"
    },
    {
     "data": {
      "image/png": "[encoded data removed]",
      "text/plain": [
       "<Figure size 432x288 with 1 Axes>"
      ]
     },
     "metadata": {
      "needs_background": "light"
     },
     "output_type": "display_data"
    }
   ],
   "source": [
    "df.hist([\"yearOfRegistration\"], range = [2020, 10000])"
   ]
  },
  {
   "cell_type": "code",
   "execution_count": 39,
   "metadata": {
    "id": "byHZKWEuCxSe"
   },
   "outputs": [],
   "source": [
    "df= df[(df['yearOfRegistration'] < 2020) & (df['yearOfRegistration'] > 1950)]"
   ]
  },
  {
   "cell_type": "code",
   "execution_count": 40,
   "metadata": {
    "colab": {
     "base_uri": "https://localhost:8080/",
     "height": 315
    },
    "id": "1isqjYRyCxP7",
    "outputId": "e4ca530e-ac24-4b7e-b88d-6b152b7fa079"
   },
   "outputs": [
    {
     "data": {
      "text/plain": [
       "array([[<matplotlib.axes._subplots.AxesSubplot object at 0x000001CACB1EE648>]],\n",
       "      dtype=object)"
      ]
     },
     "execution_count": 40,
     "metadata": {},
     "output_type": "execute_result"
    },
    {
     "data": {
      "image/png": "[encoded data removed]",
      "text/plain": [
       "<Figure size 432x288 with 1 Axes>"
      ]
     },
     "metadata": {
      "needs_background": "light"
     },
     "output_type": "display_data"
    }
   ],
   "source": [
    "df.hist([\"yearOfRegistration\"])"
   ]
  },
  {
   "cell_type": "markdown",
   "metadata": {
    "id": "-71UyOclIYHB"
   },
   "source": [
    "На этом работу со столбцом с годом регистрации можно завершить."
   ]
  },
  {
   "cell_type": "markdown",
   "metadata": {
    "id": "4XFLJBWiIj82"
   },
   "source": [
    "В рамках рассмотрения столбца с мощностью двигателя продаваемого ТС получаем уже знакомую картину."
   ]
  },
  {
   "cell_type": "code",
   "execution_count": 41,
   "metadata": {
    "colab": {
     "base_uri": "https://localhost:8080/",
     "height": 315
    },
    "id": "SPLZNxj8Br10",
    "outputId": "caf17f44-ee96-4052-82eb-d1426e146715"
   },
   "outputs": [
    {
     "data": {
      "text/plain": [
       "array([[<matplotlib.axes._subplots.AxesSubplot object at 0x000001CACB1E9EC8>]],\n",
       "      dtype=object)"
      ]
     },
     "execution_count": 41,
     "metadata": {},
     "output_type": "execute_result"
    },
    {
     "data": {
      "image/png": "[encoded data removed]",
      "text/plain": [
       "<Figure size 432x288 with 1 Axes>"
      ]
     },
     "metadata": {
      "needs_background": "light"
     },
     "output_type": "display_data"
    }
   ],
   "source": [
    "df.hist([\"powerPS\"])"
   ]
  },
  {
   "cell_type": "markdown",
   "metadata": {
    "id": "c_oMym_JIsjf"
   },
   "source": [
    "Исходя из предположения, что рассматривать объявления о продаже машин со снятым двигателем, имеющих 0 лошадиных сил, и о продаже танков, самолетов и кораблей с силовыми установками более 2000 л.с., мы не будем, удаляем записи из данного диапазона."
   ]
  },
  {
   "cell_type": "code",
   "execution_count": 42,
   "metadata": {
    "colab": {
     "base_uri": "https://localhost:8080/",
     "height": 315
    },
    "id": "cdTZZBArIoy3",
    "outputId": "5e197d18-d2f9-4fea-c43d-a5a19f72320e"
   },
   "outputs": [
    {
     "data": {
      "text/plain": [
       "array([[<matplotlib.axes._subplots.AxesSubplot object at 0x000001CACCE637C8>]],\n",
       "      dtype=object)"
      ]
     },
     "execution_count": 42,
     "metadata": {},
     "output_type": "execute_result"
    },
    {
     "data": {
      "image/png": "[encoded data removed]",
      "text/plain": [
       "<Figure size 432x288 with 1 Axes>"
      ]
     },
     "metadata": {
      "needs_background": "light"
     },
     "output_type": "display_data"
    }
   ],
   "source": [
    "df = df[(df['powerPS'] < 2000) & ~(df['powerPS'] == 0)]\n",
    "df.hist([\"powerPS\"])"
   ]
  },
  {
   "cell_type": "markdown",
   "metadata": {
    "id": "qonjAZv1I_28"
   },
   "source": [
    "Далее следует сомнительный, даже с моей точки зрения, шаг. Но, учитывая общий объем объявлений с мощностью в диапазоне от 600 до 2000 л.с. от них тоже можно избавиться. Вызвано это особенностями обработки информации с помощью нейронных сетей, с чем мы столкнемся в дальнейшем."
   ]
  },
  {
   "cell_type": "code",
   "execution_count": 43,
   "metadata": {
    "colab": {
     "base_uri": "https://localhost:8080/",
     "height": 315
    },
    "id": "-nU6XspHIovQ",
    "outputId": "1254c80c-0602-4464-c078-0d4c864ea0f1"
   },
   "outputs": [
    {
     "data": {
      "text/plain": [
       "array([[<matplotlib.axes._subplots.AxesSubplot object at 0x000001CAC16E8A48>]],\n",
       "      dtype=object)"
      ]
     },
     "execution_count": 43,
     "metadata": {},
     "output_type": "execute_result"
    },
    {
     "data": {
      "image/png": "[encoded data removed]",
      "text/plain": [
       "<Figure size 432x288 with 1 Axes>"
      ]
     },
     "metadata": {
      "needs_background": "light"
     },
     "output_type": "display_data"
    }
   ],
   "source": [
    "df.hist([\"powerPS\"], range = [600, 2000])"
   ]
  },
  {
   "cell_type": "code",
   "execution_count": 44,
   "metadata": {
    "colab": {
     "base_uri": "https://localhost:8080/"
    },
    "id": "ksAYzA6KIosb",
    "outputId": "f5733309-1455-4b4c-c7bd-60d9ef3ecd82"
   },
   "outputs": [
    {
     "data": {
      "text/plain": [
       "329983"
      ]
     },
     "execution_count": 44,
     "metadata": {},
     "output_type": "execute_result"
    }
   ],
   "source": [
    "len(df.index)"
   ]
  },
  {
   "cell_type": "code",
   "execution_count": 45,
   "metadata": {
    "id": "c44s4oKHIop9"
   },
   "outputs": [],
   "source": [
    "df = df[df['powerPS'] < 600]"
   ]
  },
  {
   "cell_type": "code",
   "execution_count": 46,
   "metadata": {
    "colab": {
     "base_uri": "https://localhost:8080/"
    },
    "id": "zgMDBYD3IonH",
    "outputId": "0ad7b752-4ba3-4f5a-cfeb-986827b2af0d"
   },
   "outputs": [
    {
     "data": {
      "text/plain": [
       "329657"
      ]
     },
     "execution_count": 46,
     "metadata": {},
     "output_type": "execute_result"
    }
   ],
   "source": [
    "len(df.index)"
   ]
  },
  {
   "cell_type": "markdown",
   "metadata": {
    "id": "hUEgnKCaJc72"
   },
   "source": [
    "Итого, в результате нашей предварительной обработки данных мы получили базу с общим объемом записей около 330 тысяч. Таким образом, удалению подверглось около сорока тысяч записей, что в процентном выражении составляет около 11% от общего объема базы.  "
   ]
  },
  {
   "cell_type": "markdown",
   "metadata": {
    "id": "tiDlTZ_jAafB"
   },
   "source": [
    "## Подготовка набора данных (Практическая часть)"
   ]
  },
  {
   "cell_type": "markdown",
   "metadata": {
    "id": "1IYk-J1dMHeL"
   },
   "source": [
    "Самостоятельно проведите подобную начальную обработку с датасетом, содержащим информацию о продаже недвижимости в Нью-Йорке."
   ]
  },
  {
   "cell_type": "markdown",
   "metadata": {
    "id": "oopBpnUtL-F4"
   },
   "source": [
    "https://www.kaggle.com/new-york-city/nyc-property-sales"
   ]
  },
  {
   "cell_type": "markdown",
   "metadata": {},
   "source": [
    "- **Unnamed: 0** - *Непонятно*\n",
    "- BOROUGH - *Название района, в котором расположена недвижимость*\n",
    "- NEIGHBORHOOD - *Соседство*\n",
    "- BUILDING CLASS CATEGORY - *Категория класса здания*\n",
    "- TAX CLASS AT PRESENT - *Налоговый класс в настоящее время*  \n",
    "- BLOCK - *подразделение района, на территории которого расположена недвижимость*\n",
    "- LOT - *уникальное местоположение недвижимости*\n",
    "- **EASE-MENT** - *???*\n",
    "- BUILDING CLASS AT PRESENT - *Класс здания*\n",
    "- **ADDRESS** - *Адресс*\n",
    "- **APARTMENT NUMBER** - *Номер апартаментов*\n",
    "- **ZIP CODE** - *Почтовый индекс*\n",
    "- RESIDENTIAL UNITS - *Количество жилых единиц в указанном объекте недвижимости*\n",
    "- COMMERCIAL UNITS - *Количество комерческих единиц в указанном объекте недвижимости.*\n",
    "- **TOTAL UNITS** - *Общее количество единиц на указанном объекте*\n",
    "- LAND SQUARE FEET - *Площадь земельного участка, указанная в квадратных футах*\n",
    "- GROSS SQUARE FEET - *Общая площадь всех этажей здания, включая площадь земли и пространство внутри любого здания на участке.*\n",
    "- YEAR BUILT - *Год постройки*\n",
    "- **TAX CLASS AT TIME OF SALE** - *Класс налогов*\n",
    "- **BUILDING CLASS AT TIME OF SALE** - *Класс здания на момент продажи*\n",
    "- SALE PRICE - *Цена продажи*\n",
    "- **SALE DATE** - *Дата продажи*"
   ]
  },
  {
   "cell_type": "code",
   "execution_count": 47,
   "metadata": {
    "id": "KLthYfVx3TXz"
   },
   "outputs": [],
   "source": [
    "%%capture\n",
    "!wget https://www.dropbox.com/s/0un1sdvifenp2ir/nyc-rolling-sales.csv"
   ]
  },
  {
   "cell_type": "code",
   "execution_count": 48,
   "metadata": {
    "id": "mf5LVGOu3gpm"
   },
   "outputs": [],
   "source": [
    "data = pd.read_csv('nyc-rolling-sales.csv')"
   ]
  },
  {
   "cell_type": "code",
   "execution_count": 49,
   "metadata": {
    "colab": {
     "base_uri": "https://localhost:8080/",
     "height": 408
    },
    "id": "isdtVo-S3lct",
    "outputId": "ebeb6486-3af9-47db-f658-a8541ae822b3"
   },
   "outputs": [
    {
     "data": {
      "text/html": [
       "<div>\n",
       "<style scoped>\n",
       "    .dataframe tbody tr th:only-of-type {\n",
       "        vertical-align: middle;\n",
       "    }\n",
       "\n",
       "    .dataframe tbody tr th {\n",
       "        vertical-align: top;\n",
       "    }\n",
       "\n",
       "    .dataframe thead th {\n",
       "        text-align: right;\n",
       "    }\n",
       "</style>\n",
       "<table border=\"1\" class=\"dataframe\">\n",
       "  <thead>\n",
       "    <tr style=\"text-align: right;\">\n",
       "      <th></th>\n",
       "      <th>Unnamed: 0</th>\n",
       "      <th>BOROUGH</th>\n",
       "      <th>NEIGHBORHOOD</th>\n",
       "      <th>BUILDING CLASS CATEGORY</th>\n",
       "      <th>TAX CLASS AT PRESENT</th>\n",
       "      <th>BLOCK</th>\n",
       "      <th>LOT</th>\n",
       "      <th>EASE-MENT</th>\n",
       "      <th>BUILDING CLASS AT PRESENT</th>\n",
       "      <th>ADDRESS</th>\n",
       "      <th>...</th>\n",
       "      <th>RESIDENTIAL UNITS</th>\n",
       "      <th>COMMERCIAL UNITS</th>\n",
       "      <th>TOTAL UNITS</th>\n",
       "      <th>LAND SQUARE FEET</th>\n",
       "      <th>GROSS SQUARE FEET</th>\n",
       "      <th>YEAR BUILT</th>\n",
       "      <th>TAX CLASS AT TIME OF SALE</th>\n",
       "      <th>BUILDING CLASS AT TIME OF SALE</th>\n",
       "      <th>SALE PRICE</th>\n",
       "      <th>SALE DATE</th>\n",
       "    </tr>\n",
       "  </thead>\n",
       "  <tbody>\n",
       "    <tr>\n",
       "      <th>0</th>\n",
       "      <td>4</td>\n",
       "      <td>1</td>\n",
       "      <td>ALPHABET CITY</td>\n",
       "      <td>07 RENTALS - WALKUP APARTMENTS</td>\n",
       "      <td>2A</td>\n",
       "      <td>392</td>\n",
       "      <td>6</td>\n",
       "      <td></td>\n",
       "      <td>C2</td>\n",
       "      <td>153 AVENUE B</td>\n",
       "      <td>...</td>\n",
       "      <td>5</td>\n",
       "      <td>0</td>\n",
       "      <td>5</td>\n",
       "      <td>1633</td>\n",
       "      <td>6440</td>\n",
       "      <td>1900</td>\n",
       "      <td>2</td>\n",
       "      <td>C2</td>\n",
       "      <td>6625000</td>\n",
       "      <td>2017-07-19 00:00:00</td>\n",
       "    </tr>\n",
       "    <tr>\n",
       "      <th>1</th>\n",
       "      <td>5</td>\n",
       "      <td>1</td>\n",
       "      <td>ALPHABET CITY</td>\n",
       "      <td>07 RENTALS - WALKUP APARTMENTS</td>\n",
       "      <td>2</td>\n",
       "      <td>399</td>\n",
       "      <td>26</td>\n",
       "      <td></td>\n",
       "      <td>C7</td>\n",
       "      <td>234 EAST 4TH   STREET</td>\n",
       "      <td>...</td>\n",
       "      <td>28</td>\n",
       "      <td>3</td>\n",
       "      <td>31</td>\n",
       "      <td>4616</td>\n",
       "      <td>18690</td>\n",
       "      <td>1900</td>\n",
       "      <td>2</td>\n",
       "      <td>C7</td>\n",
       "      <td>-</td>\n",
       "      <td>2016-12-14 00:00:00</td>\n",
       "    </tr>\n",
       "    <tr>\n",
       "      <th>2</th>\n",
       "      <td>6</td>\n",
       "      <td>1</td>\n",
       "      <td>ALPHABET CITY</td>\n",
       "      <td>07 RENTALS - WALKUP APARTMENTS</td>\n",
       "      <td>2</td>\n",
       "      <td>399</td>\n",
       "      <td>39</td>\n",
       "      <td></td>\n",
       "      <td>C7</td>\n",
       "      <td>197 EAST 3RD   STREET</td>\n",
       "      <td>...</td>\n",
       "      <td>16</td>\n",
       "      <td>1</td>\n",
       "      <td>17</td>\n",
       "      <td>2212</td>\n",
       "      <td>7803</td>\n",
       "      <td>1900</td>\n",
       "      <td>2</td>\n",
       "      <td>C7</td>\n",
       "      <td>-</td>\n",
       "      <td>2016-12-09 00:00:00</td>\n",
       "    </tr>\n",
       "  </tbody>\n",
       "</table>\n",
       "<p>3 rows × 22 columns</p>\n",
       "</div>"
      ],
      "text/plain": [
       "   Unnamed: 0  BOROUGH   NEIGHBORHOOD  \\\n",
       "0           4        1  ALPHABET CITY   \n",
       "1           5        1  ALPHABET CITY   \n",
       "2           6        1  ALPHABET CITY   \n",
       "\n",
       "                       BUILDING CLASS CATEGORY TAX CLASS AT PRESENT  BLOCK  \\\n",
       "0  07 RENTALS - WALKUP APARTMENTS                                2A    392   \n",
       "1  07 RENTALS - WALKUP APARTMENTS                                 2    399   \n",
       "2  07 RENTALS - WALKUP APARTMENTS                                 2    399   \n",
       "\n",
       "   LOT EASE-MENT BUILDING CLASS AT PRESENT                ADDRESS  ...  \\\n",
       "0    6                                  C2           153 AVENUE B  ...   \n",
       "1   26                                  C7  234 EAST 4TH   STREET  ...   \n",
       "2   39                                  C7  197 EAST 3RD   STREET  ...   \n",
       "\n",
       "  RESIDENTIAL UNITS  COMMERCIAL UNITS  TOTAL UNITS  LAND SQUARE FEET  \\\n",
       "0                 5                 0            5              1633   \n",
       "1                28                 3           31              4616   \n",
       "2                16                 1           17              2212   \n",
       "\n",
       "   GROSS SQUARE FEET YEAR BUILT TAX CLASS AT TIME OF SALE  \\\n",
       "0               6440       1900                         2   \n",
       "1              18690       1900                         2   \n",
       "2               7803       1900                         2   \n",
       "\n",
       "   BUILDING CLASS AT TIME OF SALE  SALE PRICE            SALE DATE  \n",
       "0                              C2     6625000  2017-07-19 00:00:00  \n",
       "1                              C7         -    2016-12-14 00:00:00  \n",
       "2                              C7         -    2016-12-09 00:00:00  \n",
       "\n",
       "[3 rows x 22 columns]"
      ]
     },
     "execution_count": 49,
     "metadata": {},
     "output_type": "execute_result"
    }
   ],
   "source": [
    "data.head(3)"
   ]
  },
  {
   "cell_type": "code",
   "execution_count": 50,
   "metadata": {
    "scrolled": false
   },
   "outputs": [
    {
     "name": "stdout",
     "output_type": "stream",
     "text": [
      "<class 'pandas.core.frame.DataFrame'>\n",
      "RangeIndex: 84548 entries, 0 to 84547\n",
      "Data columns (total 22 columns):\n",
      " #   Column                          Non-Null Count  Dtype \n",
      "---  ------                          --------------  ----- \n",
      " 0   Unnamed: 0                      84548 non-null  int64 \n",
      " 1   BOROUGH                         84548 non-null  int64 \n",
      " 2   NEIGHBORHOOD                    84548 non-null  object\n",
      " 3   BUILDING CLASS CATEGORY         84548 non-null  object\n",
      " 4   TAX CLASS AT PRESENT            84548 non-null  object\n",
      " 5   BLOCK                           84548 non-null  int64 \n",
      " 6   LOT                             84548 non-null  int64 \n",
      " 7   EASE-MENT                       84548 non-null  object\n",
      " 8   BUILDING CLASS AT PRESENT       84548 non-null  object\n",
      " 9   ADDRESS                         84548 non-null  object\n",
      " 10  APARTMENT NUMBER                84548 non-null  object\n",
      " 11  ZIP CODE                        84548 non-null  int64 \n",
      " 12  RESIDENTIAL UNITS               84548 non-null  int64 \n",
      " 13  COMMERCIAL UNITS                84548 non-null  int64 \n",
      " 14  TOTAL UNITS                     84548 non-null  int64 \n",
      " 15  LAND SQUARE FEET                84548 non-null  object\n",
      " 16  GROSS SQUARE FEET               84548 non-null  object\n",
      " 17  YEAR BUILT                      84548 non-null  int64 \n",
      " 18  TAX CLASS AT TIME OF SALE       84548 non-null  int64 \n",
      " 19  BUILDING CLASS AT TIME OF SALE  84548 non-null  object\n",
      " 20  SALE PRICE                      84548 non-null  object\n",
      " 21  SALE DATE                       84548 non-null  object\n",
      "dtypes: int64(10), object(12)\n",
      "memory usage: 14.2+ MB\n"
     ]
    }
   ],
   "source": [
    "data.info()"
   ]
  },
  {
   "cell_type": "markdown",
   "metadata": {},
   "source": [
    "#### Количество уникальных значений в каждом столбце"
   ]
  },
  {
   "cell_type": "code",
   "execution_count": 51,
   "metadata": {
    "scrolled": false
   },
   "outputs": [
    {
     "name": "stdout",
     "output_type": "stream",
     "text": [
      "Количество уникальных значений в каждом столбце:\n",
      "\n",
      "Unnamed: 0                         26736\n",
      "BOROUGH                                5\n",
      "NEIGHBORHOOD                         254\n",
      "BUILDING CLASS CATEGORY               47\n",
      "TAX CLASS AT PRESENT                  11\n",
      "BLOCK                              11566\n",
      "LOT                                 2627\n",
      "EASE-MENT                              1\n",
      "BUILDING CLASS AT PRESENT            167\n",
      "ADDRESS                            67563\n",
      "APARTMENT NUMBER                    3989\n",
      "ZIP CODE                             186\n",
      "RESIDENTIAL UNITS                    176\n",
      "COMMERCIAL UNITS                      55\n",
      "TOTAL UNITS                          192\n",
      "LAND SQUARE FEET                    6062\n",
      "GROSS SQUARE FEET                   5691\n",
      "YEAR BUILT                           158\n",
      "TAX CLASS AT TIME OF SALE              4\n",
      "BUILDING CLASS AT TIME OF SALE       166\n",
      "SALE PRICE                         10008\n",
      "SALE DATE                            364\n"
     ]
    }
   ],
   "source": [
    "columns = data.columns\n",
    "\n",
    "print('Количество уникальных значений в каждом столбце:\\n')\n",
    "for column in columns:\n",
    "    print('{:<33} {:>6}'.format(column, len(data[column].unique())))"
   ]
  },
  {
   "cell_type": "markdown",
   "metadata": {},
   "source": [
    "Столбцы \"Unnamed: 0\", \"EASE-MENT\", \"ADDRESS\", \"APARTMENT NUMBER\", \"TAX CLASS AT TIME OF SALE\", \"BUILDING CLASS AT TIME OF SALE\", \"SALE DATE\" не несут практической пользы."
   ]
  },
  {
   "cell_type": "code",
   "execution_count": 52,
   "metadata": {},
   "outputs": [],
   "source": [
    "data = pd.read_csv('nyc-rolling-sales.csv')\n",
    "\n",
    "data = data.drop(['Unnamed: 0',\n",
    "                  'EASE-MENT',\n",
    "                  'ADDRESS',\n",
    "                  'APARTMENT NUMBER',\n",
    "                  'TAX CLASS AT TIME OF SALE',\n",
    "                  'BUILDING CLASS AT TIME OF SALE',\n",
    "                  'SALE DATE'], axis=1)"
   ]
  },
  {
   "cell_type": "markdown",
   "metadata": {},
   "source": [
    "Столбец \"TOTAL UNITS\" - комбинация столбцов \"RESIDENTIAL UNITS\" и \"COMMERCIAL UNITS\". Следовательно его тоже можно удалить:"
   ]
  },
  {
   "cell_type": "code",
   "execution_count": 53,
   "metadata": {},
   "outputs": [],
   "source": [
    "data = data.drop(['TOTAL UNITS'], axis=1)"
   ]
  },
  {
   "cell_type": "markdown",
   "metadata": {},
   "source": [
    "Столбец \"ZIP CODE\" также является избыточным, т.к. установить адресс можно по комбинации признаков \"BOROUG\", \"BLOCK\" и \"LOT\":"
   ]
  },
  {
   "cell_type": "code",
   "execution_count": 54,
   "metadata": {},
   "outputs": [],
   "source": [
    "data = data.drop([\"ZIP CODE\"], axis=1)"
   ]
  },
  {
   "cell_type": "code",
   "execution_count": 55,
   "metadata": {},
   "outputs": [
    {
     "name": "stdout",
     "output_type": "stream",
     "text": [
      "Количество уникальных значений в каждом столбце:\n",
      "\n",
      "BOROUGH                                5\n",
      "NEIGHBORHOOD                         254\n",
      "BUILDING CLASS CATEGORY               47\n",
      "TAX CLASS AT PRESENT                  11\n",
      "BLOCK                              11566\n",
      "LOT                                 2627\n",
      "BUILDING CLASS AT PRESENT            167\n",
      "RESIDENTIAL UNITS                    176\n",
      "COMMERCIAL UNITS                      55\n",
      "LAND SQUARE FEET                    6062\n",
      "GROSS SQUARE FEET                   5691\n",
      "YEAR BUILT                           158\n",
      "SALE PRICE                         10008\n"
     ]
    }
   ],
   "source": [
    "columns = data.columns\n",
    "\n",
    "print('Количество уникальных значений в каждом столбце:\\n')\n",
    "for column in columns:\n",
    "    print('{:<33} {:>6}'.format(column, len(data[column].unique())))"
   ]
  },
  {
   "cell_type": "markdown",
   "metadata": {},
   "source": [
    "#### Столбцы с нулевыми элементами"
   ]
  },
  {
   "cell_type": "code",
   "execution_count": 56,
   "metadata": {},
   "outputs": [
    {
     "data": {
      "text/plain": [
       "BOROUGH                      False\n",
       "NEIGHBORHOOD                 False\n",
       "BUILDING CLASS CATEGORY      False\n",
       "TAX CLASS AT PRESENT         False\n",
       "BLOCK                        False\n",
       "LOT                          False\n",
       "BUILDING CLASS AT PRESENT    False\n",
       "RESIDENTIAL UNITS            False\n",
       "COMMERCIAL UNITS             False\n",
       "LAND SQUARE FEET             False\n",
       "GROSS SQUARE FEET            False\n",
       "YEAR BUILT                   False\n",
       "SALE PRICE                   False\n",
       "dtype: bool"
      ]
     },
     "execution_count": 56,
     "metadata": {},
     "output_type": "execute_result"
    }
   ],
   "source": [
    "data.isnull().any()"
   ]
  },
  {
   "cell_type": "markdown",
   "metadata": {},
   "source": [
    "Исключим из датасета недвижимость с нудевой ценой продажи ('-')."
   ]
  },
  {
   "cell_type": "code",
   "execution_count": 57,
   "metadata": {
    "scrolled": true
   },
   "outputs": [
    {
     "name": "stdout",
     "output_type": "stream",
     "text": [
      "Было объектов:   84548\n",
      "Стало объектов:  69987\n",
      "Удалилось 17.22% выборки\n"
     ]
    }
   ],
   "source": [
    "len_before = data.shape[0]\n",
    "\n",
    "data = data.drop(data[data['SALE PRICE'] == ' -  '].index)\n",
    "\n",
    "len_after = data.shape[0]\n",
    "\n",
    "print('Было объектов:  ', len_before)\n",
    "print('Стало объектов: ', len_after)\n",
    "print('Удалилось {}% выборки'.format(round((1 - len_after/len_before)*100, 2)))"
   ]
  },
  {
   "cell_type": "markdown",
   "metadata": {},
   "source": [
    "##### BOROUGH"
   ]
  },
  {
   "cell_type": "code",
   "execution_count": 58,
   "metadata": {
    "scrolled": true
   },
   "outputs": [
    {
     "data": {
      "text/plain": [
       "<matplotlib.axes._subplots.AxesSubplot at 0x1cac1487c48>"
      ]
     },
     "execution_count": 58,
     "metadata": {},
     "output_type": "execute_result"
    },
    {
     "data": {
      "image/png": "[encoded data removed]",
      "text/plain": [
       "<Figure size 432x288 with 1 Axes>"
      ]
     },
     "metadata": {
      "needs_background": "light"
     },
     "output_type": "display_data"
    }
   ],
   "source": [
    "data['BOROUGH'].hist()"
   ]
  },
  {
   "cell_type": "markdown",
   "metadata": {},
   "source": [
    "##### TAX CLASS AT PRESENT"
   ]
  },
  {
   "cell_type": "code",
   "execution_count": 60,
   "metadata": {},
   "outputs": [
    {
     "data": {
      "text/plain": [
       "<matplotlib.axes._subplots.AxesSubplot at 0x1cac0d97648>"
      ]
     },
     "execution_count": 60,
     "metadata": {},
     "output_type": "execute_result"
    },
    {
     "data": {
      "image/png": "[encoded data removed]",
      "text/plain": [
       "<Figure size 432x288 with 1 Axes>"
      ]
     },
     "metadata": {
      "needs_background": "light"
     },
     "output_type": "display_data"
    }
   ],
   "source": [
    "data['TAX CLASS AT PRESENT'].hist()"
   ]
  },
  {
   "cell_type": "markdown",
   "metadata": {},
   "source": [
    "##### BLOCK"
   ]
  },
  {
   "cell_type": "code",
   "execution_count": 61,
   "metadata": {},
   "outputs": [
    {
     "data": {
      "text/plain": [
       "<matplotlib.axes._subplots.AxesSubplot at 0x1cac0dc1ec8>"
      ]
     },
     "execution_count": 61,
     "metadata": {},
     "output_type": "execute_result"
    },
    {
     "data": {
      "image/png": "[encoded data removed]",
      "text/plain": [
       "<Figure size 432x288 with 1 Axes>"
      ]
     },
     "metadata": {
      "needs_background": "light"
     },
     "output_type": "display_data"
    }
   ],
   "source": [
    "data['BLOCK'].hist()"
   ]
  },
  {
   "cell_type": "markdown",
   "metadata": {},
   "source": [
    "#### LOT"
   ]
  },
  {
   "cell_type": "code",
   "execution_count": 62,
   "metadata": {
    "scrolled": false
   },
   "outputs": [
    {
     "data": {
      "text/plain": [
       "<matplotlib.axes._subplots.AxesSubplot at 0x1cac0f96648>"
      ]
     },
     "execution_count": 62,
     "metadata": {},
     "output_type": "execute_result"
    },
    {
     "data": {
      "image/png": "[encoded data removed]",
      "text/plain": [
       "<Figure size 432x288 with 1 Axes>"
      ]
     },
     "metadata": {
      "needs_background": "light"
     },
     "output_type": "display_data"
    }
   ],
   "source": [
    "data['LOT'].hist()"
   ]
  },
  {
   "cell_type": "markdown",
   "metadata": {},
   "source": [
    "##### YEAR BUILT"
   ]
  },
  {
   "cell_type": "code",
   "execution_count": 71,
   "metadata": {
    "scrolled": true
   },
   "outputs": [
    {
     "data": {
      "text/plain": [
       "<matplotlib.axes._subplots.AxesSubplot at 0x1cacf9a8708>"
      ]
     },
     "execution_count": 71,
     "metadata": {},
     "output_type": "execute_result"
    },
    {
     "data": {
      "image/png": "[encoded data removed]",
      "text/plain": [
       "<Figure size 432x288 with 1 Axes>"
      ]
     },
     "metadata": {
      "needs_background": "light"
     },
     "output_type": "display_data"
    }
   ],
   "source": [
    "data['YEAR BUILT'].hist()"
   ]
  },
  {
   "cell_type": "code",
   "execution_count": 72,
   "metadata": {},
   "outputs": [
    {
     "data": {
      "text/plain": [
       "<matplotlib.axes._subplots.AxesSubplot at 0x1cacd05ac48>"
      ]
     },
     "execution_count": 72,
     "metadata": {},
     "output_type": "execute_result"
    },
    {
     "data": {
      "image/png": "[encoded data removed]",
      "text/plain": [
       "<Figure size 432x288 with 1 Axes>"
      ]
     },
     "metadata": {
      "needs_background": "light"
     },
     "output_type": "display_data"
    }
   ],
   "source": [
    "data['YEAR BUILT'].hist(range=(0, 1200))"
   ]
  },
  {
   "cell_type": "markdown",
   "metadata": {},
   "source": [
    "Много объектов с \"нулевым\" годом постройки"
   ]
  },
  {
   "cell_type": "code",
   "execution_count": 73,
   "metadata": {
    "scrolled": true
   },
   "outputs": [
    {
     "data": {
      "text/plain": [
       "<matplotlib.axes._subplots.AxesSubplot at 0x1cacd27b608>"
      ]
     },
     "execution_count": 73,
     "metadata": {},
     "output_type": "execute_result"
    },
    {
     "data": {
      "image/png": "[encoded data removed]",
      "text/plain": [
       "<Figure size 432x288 with 1 Axes>"
      ]
     },
     "metadata": {
      "needs_background": "light"
     },
     "output_type": "display_data"
    }
   ],
   "source": [
    "data['YEAR BUILT'].hist(range=(1800, 2020))"
   ]
  },
  {
   "cell_type": "code",
   "execution_count": 74,
   "metadata": {},
   "outputs": [
    {
     "name": "stdout",
     "output_type": "stream",
     "text": [
      "Было объектов:   69987\n",
      "Стало объектов:  64595\n",
      "Удалилось 7.7% выборки\n"
     ]
    }
   ],
   "source": [
    "len_before = data.shape[0]\n",
    "\n",
    "data = data.drop(data[data['YEAR BUILT'] < 1800].index)\n",
    "\n",
    "len_after = data.shape[0]\n",
    "\n",
    "print('Было объектов:  ', len_before)\n",
    "print('Стало объектов: ', len_after)\n",
    "print('Удалилось {}% выборки'.format(round((1 - len_after/len_before)*100, 2)))"
   ]
  },
  {
   "cell_type": "markdown",
   "metadata": {},
   "source": [
    "#### Вывод"
   ]
  },
  {
   "cell_type": "code",
   "execution_count": 82,
   "metadata": {},
   "outputs": [
    {
     "name": "stdout",
     "output_type": "stream",
     "text": [
      "В итоге выборка сократилась на 23.6 %\n"
     ]
    }
   ],
   "source": [
    "print('В итоге выборка сократилась на', round((1 - 64595 / 84548 ) * 100, 2), '%')"
   ]
  },
  {
   "cell_type": "code",
   "execution_count": null,
   "metadata": {},
   "outputs": [],
   "source": []
  }
 ],
 "metadata": {
  "colab": {
   "name": "lab1.ipynb",
   "provenance": []
  },
  "kernelspec": {
   "display_name": "Python 3",
   "language": "python",
   "name": "python3"
  },
  "language_info": {
   "codemirror_mode": {
    "name": "ipython",
    "version": 3
   },
   "file_extension": ".py",
   "mimetype": "text/x-python",
   "name": "python",
   "nbconvert_exporter": "python",
   "pygments_lexer": "ipython3",
   "version": "3.7.4"
  }
 },
 "nbformat": 4,
 "nbformat_minor": 1
}
